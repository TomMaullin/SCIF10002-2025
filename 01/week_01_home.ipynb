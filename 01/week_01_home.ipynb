{
 "cells": [
  {
   "cell_type": "markdown",
   "id": "ffbd2d75",
   "metadata": {},
   "source": [
    "# Week 1: Introduction to Data Types\n"
   ]
  },
  {
   "cell_type": "markdown",
   "id": "86a3f684",
   "metadata": {},
   "source": [
    "Welcome to the 2025 SCIF10002 Introduction to Coding and Data Analysis for Scientists course!\n",
    "\n"
   ]
  },
  {
   "cell_type": "markdown",
   "id": "483869dd",
   "metadata": {},
   "source": [
    "### Table of Contents\n",
    "\n",
    " - [**Welcome Page**](./week_01_home.ipynb)\n",
    "   - [Using the Notebooks](#Using-the-Notebooks)\n",
    "   - [Today's Material](#Today's-Material)\n",
    "   - [Getting Help](#Getting-Help)\n",
    "\n",
    " - [Beginner: Basic Data Types](./week_01_intro_to_data_types_beginner.ipynb)\n",
    " - [Intermediate: Collections](./week_01_intro_to_data_types_intermediate.ipynb)\n",
    " - [Advanced: Copying and References](./week_01_intro_to_data_types_advanced.ipynb)\n",
    " - [Slides](./week_01_slides.ipynb) ([Powerpoint](./Lecture1_Introduction_And_Data_Types.pptx))"
   ]
  },
  {
   "cell_type": "markdown",
   "id": "9ab874e5",
   "metadata": {},
   "source": [
    "## Using the Notebooks"
   ]
  },
  {
   "cell_type": "markdown",
   "id": "24d84b0c",
   "metadata": {},
   "source": [
    "The file you have open is a`Jupyter Notebook`. This is an interactive Python environment where you can both write and run code. All of the interactive parts of this course will take place in Jupyter notebooks.  \n",
    "\n",
    "Each notebook is made up of two types of cells:  \n",
    "- `Text cells` (like this one), which introduce and explain new topics.  \n",
    "- `Code cells`, which contain Python code you can run and modify.  \n",
    "\n",
    "To run a code cell, click inside it and press `Shift + Enter`. You can also edit the code before running it. Give it a try in the cell below!"
   ]
  },
  {
   "cell_type": "code",
   "execution_count": null,
   "id": "d472f82c",
   "metadata": {},
   "outputs": [],
   "source": [
    "print('Hello World')"
   ]
  },
  {
   "cell_type": "markdown",
   "id": "f338f351",
   "metadata": {},
   "source": [
    "## Today's Material"
   ]
  },
  {
   "cell_type": "markdown",
   "id": "303e890c",
   "metadata": {},
   "source": [
    "Today, we will be learning about data types. As there is a range of ability in the class we have prepared three options for today's work.\n",
    "\n",
    "> **Important:** For today, please **choose just one of the options below**. You’ll have many opportunities to revisit the other concepts later in the course, so focus on building confidence with the Beginner material before tackling more advanced work."
   ]
  },
  {
   "cell_type": "markdown",
   "id": "b6d8c4c4",
   "metadata": {},
   "source": [
    "#### Option 1: Beginner\n",
    "\n",
    "If you are new to coding, or still building confidence in Python, today you should work through the `Basic Data Types` notebook linked below:\n",
    "\n",
    "- [Beginner: Basic Data Types](./week_01_intro_to_data_types_beginner.ipynb)\n",
    "\n",
    "In this notebook you will find interactive code blocks and plenty of exercises. Coding is best learned by doing, so take your time to work through the material and attempt as many exercises as you can during today’s session!\n"
   ]
  },
  {
   "cell_type": "markdown",
   "id": "fec14f0f",
   "metadata": {},
   "source": [
    "#### Option 2: Intermediate\n",
    "\n",
    "If you have some coding experience and are already somewhat familiar with basic data types in Python, you may wish to choose this option.\n",
    "\n",
    "\n",
    "First, please do check over the exercises in the `Basic Data Types` notebook and ensure you can answer them. Even the most experienced programmers will have gaps in their knowledge, so it is important you check this.\n",
    "\n",
    "- [Beginner: Basic Data Types](./week_01_intro_to_data_types_beginner.ipynb)\n",
    "\n",
    "Once you feel confident with the material above, move on to the `Collections` notebook. This will introduce you to Python’s built-in collections and highlight the differences between `sets`, `lists`, `dicts`, and `tuples`. As always, aim to complete as many of the exercises as you can.\n",
    "\n",
    "- [Intermediate: Collections](./week_01_collections.ipynb)\n"
   ]
  },
  {
   "cell_type": "markdown",
   "id": "74d02fe2",
   "metadata": {},
   "source": [
    "#### Option 3: Advanced\n",
    "\n",
    "If you are an experienced programmer with a strong grasp of Python, begin by reviewing the exercises in the notebooks below to ensure you are fully comfortable with the material:\n",
    "\n",
    "- [Beginner: Basic Data Types](./week_01_intro_to_data_types_beginner.ipynb)  \n",
    "- [Intermediate: Collections](./week_01_intro_to_data_types_intermediate.ipynb)\n",
    "\n",
    "Once you are confident in your understanding, move on to the following notebook:\n",
    "\n",
    "- [Advanced: Copying and References](./week_01_intro_to_data_types_advanced.ipynb)"
   ]
  },
  {
   "cell_type": "markdown",
   "id": "9945bda6",
   "metadata": {},
   "source": [
    "## Getting Help"
   ]
  },
  {
   "cell_type": "markdown",
   "id": "c471df8f",
   "metadata": {},
   "source": [
    "There is a lot to remember when first learning Python. To get more help see the [Python API](https://docs.python.org/3/library/). Another useful link is the [W3 schools series on Python](https://www.w3schools.com/python/) which is very good, especially for new users. Another way to get help if you are ever unsure what a function is doing is to use the`help` function in the Python terminal like so:"
   ]
  },
  {
   "cell_type": "code",
   "execution_count": null,
   "id": "230602ca",
   "metadata": {},
   "outputs": [],
   "source": [
    "help(print)"
   ]
  },
  {
   "cell_type": "markdown",
   "id": "e2a44853",
   "metadata": {},
   "source": [
    "In class, you can ask for help from the lecturer, demonstrators and your peers around you. We advise you do not ask AI for help unless you are really stuck."
   ]
  }
 ],
 "metadata": {
  "kernelspec": {
   "display_name": "Python 3 (ipykernel)",
   "language": "python",
   "name": "python3"
  },
  "language_info": {
   "codemirror_mode": {
    "name": "ipython",
    "version": 3
   },
   "file_extension": ".py",
   "mimetype": "text/x-python",
   "name": "python",
   "nbconvert_exporter": "python",
   "pygments_lexer": "ipython3",
   "version": "3.9.13"
  }
 },
 "nbformat": 4,
 "nbformat_minor": 5
}

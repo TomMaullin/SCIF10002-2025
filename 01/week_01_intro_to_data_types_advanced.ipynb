{
 "cells": [
  {
   "cell_type": "markdown",
   "id": "f4fa7de2",
   "metadata": {},
   "source": [
    "# Week 1: Introduction to Data Types"
   ]
  },
  {
   "cell_type": "markdown",
   "id": "0e86a830",
   "metadata": {},
   "source": [
    "# Advanced: Copying and References"
   ]
  },
  {
   "cell_type": "markdown",
   "id": "94d77037",
   "metadata": {},
   "source": [
    "Welcome to the *Week 1 Advanced Python Notebook*. This notebook is designed for students who already have substantial experience with Python and feel confident working with both the [`Beginner`](./week_01_intro_to_data_types_beginner.ipynb) and [`Intermediate`](./week_01_intro_to_data_types_intermediate.ipynb) material.  \n",
    "\n",
    "Your task today is to carefully read through the content and complete the exercises at the end. These exercises are more challenging and are intended to deepen your understanding of how Python handles data behind the scenes.  \n",
    "\n",
    "> **Important:** This notebook is only recommended if you are already very confident with Python. Before beginning, you must have attempted at least $4$ exercises from both the [`Beginner`](./week_01_intro_to_data_types_beginner.ipynb) and [`Intermediate`](./week_01_intro_to_data_types_intermediate.ipynb) notebooks. If you have not done so, please return to those notebooks first, as the material here builds directly on those foundations.  \n",
    "\n",
    "In this notebook, you will explore the critical differences between *immutable* and *mutable* data types in Python. Specifically, you will learn how Python handles *copying and references*, which can be critical knowledge when it comes to debugging complex code.  \n",
    "\n",
    "Work through the examples carefully, and take your time with the exercises. They are designed to stretch your understanding and prepare you for advanced applications of Python.  \n"
   ]
  },
  {
   "cell_type": "markdown",
   "id": "88a1ba01",
   "metadata": {},
   "source": [
    "### Table of Contents\n",
    "\n",
    " - [Welcome Page](./week_01_home.ipynb)\n",
    "\n",
    " - [Beginner: Basic Data Types](./week_01_intro_to_data_types_beginner.ipynb)\n",
    " - [Intermediate: Collections](./week_01_intro_to_data_types_intermediate.ipynb)\n",
    " - [**Advanced: Copying and References**](./week_01_intro_to_data_types_advanced.ipynb)\n",
    "   - [Immutable vs Mutable](#Immutable-vs-Mutable)\n",
    "   - [The id Function](#The-id()-Function)\n",
    "   - [Exercises](#Exercises)\n",
    " - [Slides](./week_01_slides.ipynb) ([Powerpoint](./Lecture1_Introduction_And_Data_Types.pptx))"
   ]
  },
  {
   "cell_type": "markdown",
   "id": "1c06d692",
   "metadata": {},
   "source": [
    "## Immutable vs Mutable\n"
   ]
  },
  {
   "cell_type": "markdown",
   "id": "4b84643b",
   "metadata": {},
   "source": [
    "In Python, all data types can be described as either \"immutable\" or \"mutable\".\n",
    "\n",
    "To understand the difference between \"immutable\" and \"mutable\" types, it may be useful to introduce the notion of a *reference*. You can think of a *reference* as an address which tells us where some data lives physically on a machine. When we talk about variables, we really are talking about *reference*'s (which we have named) that point us to some data in memory.\n",
    "\n",
    "When you reassign the value of a variable in your code, there are actually two possible things that could be happening. The *reference* could be changed (i.e. the variable now represents a different place in memory), or the data itself could be changed (i.e. the variable is still \"looking\" at the same location in memory, but the data that is stored there has changed).\n",
    "\n",
    "What is important to know here is that when you change the value of a variable which has an \"immutable\" data type you are changing a *reference* whereas when you are changing \"mutable\" variables you are changing the data itself. Examples of mutable data types in Python include the `list`, `dictionary` and the `set`. On the other hand, examples of immutable data types are given by the `int`, `float`, `decimal`, `bool` and the `tuple`. In general, the more complicated data types discussed so far are \"mutable\". \n",
    "\n",
    "The distinction between a data type being \"mutable\" or \"immutable\" may seem dull and/or trivial but, in practice, can result in some very unexpected behaviour, especially when multiple variables are using the same *reference* (i.e. \"looking\" at the same place in memory)!\n",
    "\n",
    "For example, in the below code we may expect `a` and `b` to have different values:"
   ]
  },
  {
   "cell_type": "code",
   "execution_count": null,
   "id": "bff24b66",
   "metadata": {},
   "outputs": [],
   "source": [
    "a = 7\n",
    "b = a # a and b are now both looking in the same place in memory\n",
    "a = 10 # Here we have changed the reference\n",
    "print(a)\n",
    "print(b) # Changing a has not changed b"
   ]
  },
  {
   "cell_type": "markdown",
   "id": "aeacd0aa",
   "metadata": {},
   "source": [
    "And they do! However, if we change `a` from being `7` to a list containing `7`, perhaps surprisingly, changing the value of `a` also changes the value `b`!"
   ]
  },
  {
   "cell_type": "code",
   "execution_count": null,
   "id": "9aae90f9",
   "metadata": {},
   "outputs": [],
   "source": [
    "a = [7]\n",
    "b = a # a and b are now both looking in the same place in memory\n",
    "a[0] = 10 # Here we have changed the data itself!\n",
    "print(a)\n",
    "print(b) # Changing a has changed b"
   ]
  },
  {
   "cell_type": "markdown",
   "id": "d240cef2",
   "metadata": {},
   "source": [
    "In both the examples above, we start by assigning `a` and `b` as references to the same location in memory. \n",
    "\n",
    "In the first example, when we assign `a=10`, we are telling Python that `a` must change where it is \"looking\" in the computers memory. This does not have any effect on the value of `b`.\n",
    "\n",
    "\n",
    "In the second example, however, when we assign `a[0]=10`, we are telling Python that the data stored in the location which `a` is \"looking\" at at must be changed. As `b` is also \"looking\" at this location in memory, this does have an effect on the value of `b`. It has changed!\n",
    "\n",
    "It is worth noting though that if an operation is performed then a copy might be made:"
   ]
  },
  {
   "cell_type": "code",
   "execution_count": null,
   "id": "f8710eea",
   "metadata": {},
   "outputs": [],
   "source": [
    "a = [7]\n",
    "b = a*2 # In this case b is a reference to a new object.\n",
    "a[0] = 10\n",
    "print(a)\n",
    "print(b) # Changing a has not changed b"
   ]
  },
  {
   "cell_type": "markdown",
   "id": "ac03626c",
   "metadata": {},
   "source": [
    "In this case, to ensure we are working with a copy of `a` and not just a reference to the same variable, we can use the `list` constructor (see below). \n",
    "\n",
    " > **Note:** In this case `a` is a `list` so we use the `list` constructor. For other datatypes similar constructors exist and would be used in this situation (e.g. `set`, `dict`, etc...)."
   ]
  },
  {
   "cell_type": "code",
   "execution_count": null,
   "id": "958ee147",
   "metadata": {},
   "outputs": [],
   "source": [
    "a = [7]\n",
    "b = list(a) # This time, a and b are not both looking in the same place in memory!\n",
    "a[0] = 10\n",
    "print(a)\n",
    "print(b) # Changing a has not changed b"
   ]
  },
  {
   "cell_type": "markdown",
   "id": "23bcf581",
   "metadata": {},
   "source": [
    " > **Warning:** Errors of this type can often cause extremely anti-intuitive behaviour, including unexpected interactions between functions. \n",
    " >\n",
    " > For example, in the below a function is called on a variable `b`, yet a seemingly unrelated variable `a` was affected by calling the function. This is because `a` and `b` were both references to the same object in memory, as oppose to being distinct copies of the object.  \n",
    " >\n",
    " > If you are not familiar with functions, do not worry; these will be covered in depth later in the course and, for now, move past this example."
   ]
  },
  {
   "cell_type": "code",
   "execution_count": null,
   "id": "9fdcf1e6",
   "metadata": {},
   "outputs": [],
   "source": [
    "def function1(x):\n",
    "    x.append(10)\n",
    "    return(x)\n",
    "\n",
    "# Create a variable a\n",
    "a = [3]\n",
    "print(a)\n",
    "\n",
    "# Set b equal to a\n",
    "b = a\n",
    "\n",
    "# Run function1 on b; surely this couldn't affect a...\n",
    "c = function1(b)\n",
    "\n",
    "# In actual fact, as a and b are both names for the same object~\n",
    "# in memory, changing b was the same as changing a (note that \n",
    "# the append operation in the function is where b was changed).\n",
    "print(a)"
   ]
  },
  {
   "cell_type": "markdown",
   "id": "443fa1d3",
   "metadata": {},
   "source": [
    "## The `id()` Function\n"
   ]
  },
  {
   "cell_type": "markdown",
   "id": "af3072c9",
   "metadata": {},
   "source": [
    "Now that we understand the difference between mutable and immutable types, let's take a look at the Python `id()` function, which can help us visualise what is happening with references and memory locations.\n",
    "\n",
    "The `id()` function returns the unique identifier (memory address) of an object. This identifier tells us exactly where some data lives physically on a machine - essentially showing us the reference that a variable is pointing to."
   ]
  },
  {
   "cell_type": "code",
   "execution_count": null,
   "id": "9681f402",
   "metadata": {},
   "outputs": [],
   "source": [
    "# Basic usage of id()\n",
    "x = 42\n",
    "print(\"ID of x:\", id(x))\n",
    "print(\"ID of the literal 42:\", id(42))"
   ]
  },
  {
   "cell_type": "markdown",
   "id": "76ffc445",
   "metadata": {},
   "source": [
    "With immutable data types, when you reassign a variable, you are changing the reference (the variable now points to a different location in memory). Let's see this with our integer example:"
   ]
  },
  {
   "cell_type": "code",
   "execution_count": null,
   "id": "b4eacb1a",
   "metadata": {},
   "outputs": [],
   "source": [
    "print(\"---------------\")\n",
    "print(\"Before a = 10:\")\n",
    "print(\"---------------\")\n",
    "\n",
    "# Integer example - reproducing the behaviour from earlier\n",
    "a = 7\n",
    "b = a # a and b are now both looking in the same place in memory\n",
    "print(\"a = \" + str(a) + \", id(a) = \" + str(id(a)))\n",
    "print(\"b = \" + str(b) + \", id(b) = \" + str(id(b)))\n",
    "print(\"a and b reference the same object:\", id(a) == id(b))\n",
    "\n",
    "# What happens when we \"change\" the integer?\n",
    "original_id = id(a)\n",
    "a = 10 # Here we have changed the reference\n",
    "print(\"---------------\")\n",
    "print(\"After a = 10:\")\n",
    "print(\"---------------\")\n",
    "print(\"a = \" + str(a) + \", id(a) = \" + str(id(a)))\n",
    "print(\"b = \" + str(b) + \",  id(b) = \" + str(id(b)))\n",
    "print(\"a and b now reference different objects:\", id(a) == id(b))\n",
    "print(\"id(a) changed:\", id(a) == original_id)\n",
    "print(\"This is why changing a did not change b!\")"
   ]
  },
  {
   "cell_type": "markdown",
   "id": "42e87737",
   "metadata": {},
   "source": [
    "With mutable data types, when you modify the data, you are changing the data itself (the reference stays the same - the variable is still \"looking\" at the same location in memory). Let's reproduce our list example:"
   ]
  },
  {
   "cell_type": "code",
   "execution_count": null,
   "id": "06a93a69",
   "metadata": {},
   "outputs": [],
   "source": [
    "print(\"---------------\")\n",
    "print(\"Before a[0] = 10:\")\n",
    "print(\"---------------\")\n",
    "\n",
    "# List example - reproducing the behaviour from earlier\n",
    "a = [7]\n",
    "b = a # a and b are now both looking in the same place in memory\n",
    "print(\"a = \" + str(a) + \", id(a) = \" + str(id(a)))\n",
    "print(\"b = \" + str(b) + \", id(b) = \" + str(id(b)))\n",
    "print(\"a and b reference the same object:\", id(a) == id(b))\n",
    "\n",
    "# Modifying the list in place\n",
    "original_id = id(a)\n",
    "a[0] = 10 # Here we have changed the data itself!\n",
    "print(\"---------------\")\n",
    "print(\"After a[0] = 10:\")\n",
    "print(\"---------------\")\n",
    "print(\"a = \" + str(a) + \", id(a) = \" + str(id(a)))\n",
    "print(\"b = \" + str(b) + \", id(b) = \" + str(id(b)))\n",
    "print(\"a and b still reference the same object:\", id(a) == id(b))\n",
    "print(\"id(a) remained the same:\", id(a) == original_id)\n",
    "print(\"This is why changing a also changed b!\")"
   ]
  },
  {
   "cell_type": "markdown",
   "id": "ddadd98b",
   "metadata": {},
   "source": [
    "## The `is` Operator"
   ]
  },
  {
   "cell_type": "markdown",
   "id": "e57be615",
   "metadata": {},
   "source": [
    "The `is` operator and `==` operator are often confused with one another but they are not same. The `is` checks if both the variables point to the same object in memory whereas the `==` sign checks if the values of the two variables are equal. \n",
    "\n",
    "If the `is` operator returns `True` then the equality is definitely `True`, but the opposite may or may not be the case. For an example see the below.\n",
    "\n",
    " > **Warning:** Avoid using the `is` operator for \"immutable\" types such as strings and numbers; the result is unpredictable and in most cases the `==` is more appropriate for purpose. "
   ]
  },
  {
   "cell_type": "code",
   "execution_count": null,
   "id": "1f3a438f",
   "metadata": {},
   "outputs": [],
   "source": [
    "# a and b are set to both represent the same object in memory.\n",
    "a = b = [1,2,3]\n",
    "\n",
    "# c represents a list in a different location in memory but with the same\n",
    "# value as a and b\n",
    "c = [1,2,3]\n",
    "print(a)\n",
    "print(b)\n",
    "print(c)\n",
    "\n",
    "# a, b and c are all equal\n",
    "print('a == b: ', a == b)\n",
    "print('a == c: ', a == c)\n",
    "\n",
    "# But only a and b point to the same location in memory, c is treated as a seperate 'copy' of [1,2,3]\n",
    "print('a is b: ', a is b)\n",
    "print('a is c: ', a is c)"
   ]
  },
  {
   "cell_type": "markdown",
   "id": "dc1b2daf",
   "metadata": {},
   "source": [
    "## Exercises"
   ]
  },
  {
   "cell_type": "markdown",
   "id": "fd12d302",
   "metadata": {},
   "source": [
    "**Question 1:** Predict the output of the following code. What will be printed and why?\n",
    "\n",
    "```\n",
    "list_a = [1, 2, 3]\n",
    "list_b = list_a\n",
    "list_a.append(4)\n",
    "print(list_b)\n",
    "```\n",
    "\n",
    "Run the code in the box below to verify your answer."
   ]
  },
  {
   "cell_type": "code",
   "execution_count": null,
   "id": "ea8107b9",
   "metadata": {},
   "outputs": [],
   "source": [
    "# Write your code here..."
   ]
  },
  {
   "cell_type": "markdown",
   "id": "438a0548",
   "metadata": {},
   "source": [
    "**Question 2:** Consider these two similar-looking pieces of code. Predict what each will output and explain the difference:\n",
    "\n",
    "Code A:\n",
    "\n",
    "```\n",
    "a = [1, 2, 3]\n",
    "b = a\n",
    "a = [4, 5, 6]\n",
    "print(b)\n",
    "```\n",
    "\n",
    "Code B:\n",
    "\n",
    "```\n",
    "a = [1, 2, 3]\n",
    "b = a\n",
    "a[0] = 4\n",
    "a[1] = 5\n",
    "a[2] = 6\n",
    "print(b)\n",
    "```\n",
    "\n",
    "Run the code above to verify your answers."
   ]
  },
  {
   "cell_type": "code",
   "execution_count": null,
   "id": "db69fcda",
   "metadata": {},
   "outputs": [],
   "source": [
    "# Write your code here..."
   ]
  },
  {
   "cell_type": "markdown",
   "id": "bf334aaf",
   "metadata": {},
   "source": [
    "**Question 3:** In the below we have a list of 3 values, `x=1`, `y=2` and `z=3`. We want to work out the value of:\n",
    "\n",
    "   > $x + y + z + x^2 + y^2 + z^2$ \n",
    "   > $= 1 + 2 + 3 + 1 + 4 + 9$\n",
    "   > $= 20$\n",
    "    \n",
    "The below code should give us $20$ as an answer... but it doesn't - something has gone wrong! Can you see what is wrong in the below code? How would you fix it?\n",
    "    "
   ]
  },
  {
   "cell_type": "code",
   "execution_count": null,
   "id": "02b3d380",
   "metadata": {},
   "outputs": [],
   "source": [
    "xyz = [1,2,3]\n",
    "\n",
    "# Make a list of x squared, y squared, z squared\n",
    "xyzsquared = xyz\n",
    "xyzsquared[0] = xyzsquared[0]**2\n",
    "xyzsquared[1] = xyzsquared[1]**2\n",
    "xyzsquared[2] = xyzsquared[2]**2\n",
    "\n",
    "# Get x, y and z from xyz list\n",
    "x = xyz[0]\n",
    "y = xyz[1]\n",
    "z = xyz[2]\n",
    "\n",
    "# Get x squared, y squared and z squared from\n",
    "# xyzsquared list\n",
    "xsquared = xyzsquared[0]\n",
    "ysquared = xyzsquared[1]\n",
    "zsquared = xyzsquared[2]\n",
    "\n",
    "print(x + y + z + xsquared + ysquared + zsquared)"
   ]
  },
  {
   "cell_type": "markdown",
   "id": "db9deae3",
   "metadata": {},
   "source": [
    "**Question 4:** You have a list of lists representing a grid. You want to create a backup copy before making changes, but the following approach doesn't work correctly. Explain what has gone wrong here."
   ]
  },
  {
   "cell_type": "code",
   "execution_count": null,
   "id": "c993bbca",
   "metadata": {},
   "outputs": [],
   "source": [
    "grid = [[1, 2], [3, 4], [5, 6]]\n",
    "backup = list(grid)\n",
    "\n",
    "# Make a change to the grid\n",
    "grid[0][0] = 999\n",
    "\n",
    "print(\"grid =\", grid)\n",
    "print(\"backup =\", backup)  # This should be unchanged, but it isn't!"
   ]
  },
  {
   "cell_type": "markdown",
   "id": "97bd5c8f",
   "metadata": {},
   "source": [
    "**Question 5:** The following code creates a 3x3 grid filled with zeros, but when you try to modify one cell, unexpected behavior occurs. Identify the problem and provide a solution:"
   ]
  },
  {
   "cell_type": "code",
   "execution_count": null,
   "id": "5506a301",
   "metadata": {},
   "outputs": [],
   "source": [
    "# This code has a problem!\n",
    "grid = [[0] * 3] * 3\n",
    "print(\"Initial grid:\", grid)\n",
    "\n",
    "grid[0][0] = 1\n",
    "print(\"After setting grid[0][0] = 1:\", grid)\n",
    "# Expected: [[1, 0, 0], [0, 0, 0], [0, 0, 0]]\n",
    "# Actual: [[1, 0, 0], [1, 0, 0], [1, 0, 0]]"
   ]
  },
  {
   "cell_type": "code",
   "execution_count": null,
   "id": "a907e7a2",
   "metadata": {},
   "outputs": [],
   "source": [
    "# Write your solution code here..."
   ]
  }
 ],
 "metadata": {
  "kernelspec": {
   "display_name": "Python 3 (ipykernel)",
   "language": "python",
   "name": "python3"
  },
  "language_info": {
   "codemirror_mode": {
    "name": "ipython",
    "version": 3
   },
   "file_extension": ".py",
   "mimetype": "text/x-python",
   "name": "python",
   "nbconvert_exporter": "python",
   "pygments_lexer": "ipython3",
   "version": "3.9.13"
  }
 },
 "nbformat": 4,
 "nbformat_minor": 5
}

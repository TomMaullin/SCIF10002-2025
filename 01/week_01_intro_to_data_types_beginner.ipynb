{
 "cells": [
  {
   "cell_type": "markdown",
   "id": "f4fa7de2",
   "metadata": {},
   "source": [
    "# Week 1: Introduction to Data Types"
   ]
  },
  {
   "cell_type": "markdown",
   "id": "b2723f2a",
   "metadata": {},
   "source": [
    "# Beginner: Basic Data Types"
   ]
  },
  {
   "cell_type": "markdown",
   "id": "94d77037",
   "metadata": {},
   "source": [
    "Welcome to the *Week 1 Beginner Python Notebook*. This notebook is designed for students who are just starting out with the Python programming language.  \n",
    "\n",
    "Your task today is to read through the material carefully and complete the exercises provided at the end. These exercises are an important part of the learning process and will help you check your understanding.  \n",
    "\n",
    "> **Important:** You have three options for today’s work:  [`Beginner`](./week_01_intro_to_data_types_beginner.ipynb), [`Intermediate`](./week_01_intro_to_data_types_intermediate.ipynb), or [`Advanced`](./week_01_intro_to_data_types_advanced.ipynb). If you are new to Python, please choose this *Beginner* notebook. You will have plenty of opportunities later in the course to explore the other levels.  \n",
    "\n",
    "In this notebook, you will be introduced to the *numeric*, *boolean*, and *string* Python data types. Gaining experience with these data types is essential, as they form the foundation for everything else you will learn in Python.  \n",
    "\n",
    "Be sure to work through the examples and attempt all the exercises. They are designed to reinforce your learning and build your confidence.  "
   ]
  },
  {
   "cell_type": "markdown",
   "id": "88a1ba01",
   "metadata": {},
   "source": [
    "### Table of Contents\n",
    "\n",
    " - [Welcome Page](./week_01_home.ipynb)\n",
    " - [**Beginner: Basic Data Types**](#Basic-Data-Types)\n",
    "     - [What are Data Types?](#What-are-Data-Types?)\n",
    "     - [Integers and floats](#Integers-and-floats)\n",
    "     - [Strings](#Strings)\n",
    "     - [Booleans](#Booleans)\n",
    "     - [Casting Between Data Types](#Casting-Between-Data-Types)\n",
    "     - [Exercises](#Exercises)\n",
    " - [Intermediate: Collections](./week_01_intro_to_data_types_intermediate.ipynb)\n",
    " - [Advanced: Copying and References](./week_01_intro_to_data_types_advanced.ipynb)\n",
    " - [Slides](./week_01_slides.ipynb) ([Powerpoint](./Lecture1_Introduction_And_Data_Types.pptx))"
   ]
  },
  {
   "cell_type": "markdown",
   "id": "67c27b18",
   "metadata": {},
   "source": [
    "## What are Data Types?"
   ]
  },
  {
   "cell_type": "markdown",
   "id": "bf1412e9",
   "metadata": {},
   "source": [
    "Writing code is a lot like writing a recipe for cooking. When writing a recipe, you might first list some ingredients, then give a careful sequence of steps, with the end result being some tasty and (hopefully!) digestible baked goods. Coding works the same way; we start with some inputs (the ingredients), ask the computer to perform a series of steps and produce some easy-to-digest result (the outputs)."
   ]
  },
  {
   "cell_type": "markdown",
   "id": "27d81d51",
   "metadata": {},
   "source": [
    "In the same way that ingredients can be referred to as **objects** in the real-world, we refer to the data we use in coding as **objects** too. \n"
   ]
  },
  {
   "cell_type": "markdown",
   "id": "7d85e090",
   "metadata": {},
   "source": [
    "\n",
    "Furthermore, when cooking we might refer to objects by *types of food*. For instance, we may want to use 2 apples and an orange in a recipe, as opposed to 3 generic \"food-objects\". Similarly, when coding we refer to *types of data*, or **data types**. "
   ]
  },
  {
   "cell_type": "markdown",
   "id": "70407745",
   "metadata": {},
   "source": [
    "## Basic Data Types\n",
    "\n"
   ]
  },
  {
   "cell_type": "markdown",
   "id": "3b789ba8",
   "metadata": {},
   "source": [
    "In Python there are many different data types with some of the most commonly used built-in data types being:\n",
    "\n",
    " - integer and floating point scalars\n",
    " - boolean values\n",
    " - strings\n",
    " - tuples\n",
    " - lists\n",
    " - sets\n",
    " - dictionaries\n",
    "\n",
    "\n",
    " > **Note:** This list is by no means comprehensive. Other data types are also supported through common packages (e.g., `numpy`, `scipy`, `...`) and it is even possible to make your own custom datatypes! For now we will just focus on the built-in datatypes. However, packages such as `numpy` and `pandas` will be explored in later notebooks.\n",
    "\n",
    "The \"type\" of a variable can be found using the `type()` function in python. Try changing and running the below code to see how this function is used. "
   ]
  },
  {
   "cell_type": "code",
   "execution_count": null,
   "id": "68df54a2",
   "metadata": {},
   "outputs": [],
   "source": [
    "a = 1\n",
    "b = 1.1e-6\n",
    "c = True\n",
    "d = 'word'\n",
    "e = (2,3)\n",
    "f = [1, 2, 3]\n",
    "g = {'key1' : '9', 'key2': 20}\n",
    "\n",
    "type(a)"
   ]
  },
  {
   "cell_type": "markdown",
   "id": "e85a31ce",
   "metadata": {},
   "source": [
    "In the above code, `a`, `b`, ..., `g` are variables. A variable is a named reference to a piece of data, created using the = (assignment) operator. The *type of a variable* describes the kind of data it stores. For example, `a` stores an integer (a whole number), so its type is `int`."
   ]
  },
  {
   "cell_type": "markdown",
   "id": "5efaf5bd",
   "metadata": {},
   "source": [
    " > **Note:** Python allows for scientific notation for floats (decimal numbers). For example, in the above code `1.1e-6` means `1.1` times `10` to the minus `6`."
   ]
  },
  {
   "cell_type": "markdown",
   "id": "e46bdbdb",
   "metadata": {},
   "source": [
    "Values of variables can also be displayed with the `print()` function. If given many arguments, the print statement will print all of them. Try this below:"
   ]
  },
  {
   "cell_type": "code",
   "execution_count": null,
   "id": "0ce7c7ed",
   "metadata": {},
   "outputs": [],
   "source": [
    "a = 0.01\n",
    "b = 'strrring'\n",
    "c = [1,2,3]\n",
    "\n",
    "print(a)\n",
    "print(a,b,c)\n",
    "print(a,c)"
   ]
  },
  {
   "cell_type": "markdown",
   "id": "2bbe0cb3",
   "metadata": {},
   "source": [
    "By default, a Jupyter notebook will treat the last line of a code box as a print statement if it can."
   ]
  },
  {
   "cell_type": "code",
   "execution_count": null,
   "id": "8e72dd47",
   "metadata": {},
   "outputs": [],
   "source": [
    "# Here is some arbitrary code\n",
    "d = 'another string'\n",
    "\n",
    "# The below line will print a, as it is the last line in this box\n",
    "a"
   ]
  },
  {
   "cell_type": "markdown",
   "id": "bb6546f5",
   "metadata": {},
   "source": [
    "## Integers and floats"
   ]
  },
  {
   "cell_type": "markdown",
   "id": "2ba368fb",
   "metadata": {},
   "source": [
    "When first getting to grips with python, you can think of integers as \"whole numbers\" and floats as \"numbers including decimals\". Integers are represented with the `int` datatype and floats are represented with the `float` datatype. Basic mathematical operations are available for `int` types and `float` types. Try a few below:\n",
    "\n",
    " > **Warning:** A common mistake made by new users of Python is to use `^` for exponentiation (e.g. $2^5$). In fact, in Python `^` represents the logical `XOR` operator and the `**` operator represents exponentiation. By performing your own research online, see if you can work out what the `XOR` function is doing here."
   ]
  },
  {
   "cell_type": "code",
   "execution_count": null,
   "id": "7a1728fd",
   "metadata": {},
   "outputs": [],
   "source": [
    "a = 3\n",
    "b = 2\n",
    "\n",
    "# Addition\n",
    "print(a+b)\n",
    "\n",
    "# Subtraction\n",
    "print(a-b)\n",
    "\n",
    "# Multiplication\n",
    "print(a*b)\n",
    "\n",
    "# Exponentiation\n",
    "print(a**b)\n",
    "\n",
    "# NOT EXPONENTIATION - ACTUALLY XOR\n",
    "print(a^b)\n",
    "\n",
    "# Division\n",
    "print(a/b)\n",
    "\n",
    "# Integer division (i.e. division with rounding down)\n",
    "print(a//b)\n",
    "\n",
    "# Modulo\n",
    "print(a % b)"
   ]
  },
  {
   "cell_type": "markdown",
   "id": "74c2f8bf",
   "metadata": {},
   "source": [
    "You can combine operations using round brackets, `(` and `)`, much in the same way you would in everyday math. For example:"
   ]
  },
  {
   "cell_type": "code",
   "execution_count": null,
   "id": "0f5f6dde",
   "metadata": {},
   "outputs": [],
   "source": [
    "print((a+b)/(b**2)+1/(3*a))"
   ]
  },
  {
   "cell_type": "markdown",
   "id": "c3a63410",
   "metadata": {},
   "source": [
    "Often, you may hear it mentioned that Python allows for *arbitrary precision* integers. This means that Python can accurately manipulate very large numbers stored as `int`s. For example;\n"
   ]
  },
  {
   "cell_type": "code",
   "execution_count": null,
   "id": "a0903f58",
   "metadata": {},
   "outputs": [],
   "source": [
    "a = 174129409583938905209834890385935802\n",
    "b = 417873297348327895798237589723987598\n",
    "\n",
    "# Both a and b are ints\n",
    "print(type(a))\n",
    "print(type(b))\n",
    "\n",
    "# You can check for yourself that this is correct!\n",
    "print(a+b)"
   ]
  },
  {
   "cell_type": "markdown",
   "id": "be8035f9",
   "metadata": {},
   "source": [
    " > **Warning:** Although `int`s can store arbitrary precision whole numbers in Python, `float`s cannot!! Failure to realize this can result in all sorts of strange errors. For example, consider the below;"
   ]
  },
  {
   "cell_type": "code",
   "execution_count": null,
   "id": "86d3c26a",
   "metadata": {},
   "outputs": [],
   "source": [
    "# Very big float\n",
    "a = 1e30\n",
    "\n",
    "# Lets have a look at `a`\n",
    "print(a)\n",
    "print(type(a))\n",
    "\n",
    "# Now let's round `a` to the nearest whole number... this shouldn't change `a`... right?\n",
    "b = round(a)\n",
    "\n",
    "# Wrong... try repeating the above but with `a` as an integer (i.e. change the first line to `a=1000...00`)\n",
    "print(b)\n",
    "print(type(b))"
   ]
  },
  {
   "cell_type": "markdown",
   "id": "ba1cb3f5",
   "metadata": {},
   "source": [
    "> **Check your understanding:** What’s the difference between `/` and `//`? Why might `3 * 0.1` not equal `0.3` exactly in Python?\n"
   ]
  },
  {
   "cell_type": "markdown",
   "id": "430c7382",
   "metadata": {},
   "source": [
    "## Strings\n",
    "\n"
   ]
  },
  {
   "cell_type": "markdown",
   "id": "5423ceaa",
   "metadata": {},
   "source": [
    "In this section we are going to look more at strings. \n",
    "\n",
    "A string is a finite sequence of characters (e.g., letters, numbers, symbols and punctuation marks). In python, strings can be specified with either double of single quotes like so:\n"
   ]
  },
  {
   "cell_type": "code",
   "execution_count": null,
   "id": "6d2e97c7",
   "metadata": {},
   "outputs": [],
   "source": [
    "string1 = 'This is a string'\n",
    "string2 = \"This is also a string\"\n",
    "string3 = \"\"\n",
    "string4 = 'string3 is also a string!'\n",
    "\n",
    "print(string1)\n",
    "print(string2)\n",
    "print(string3)\n",
    "print(string4)"
   ]
  },
  {
   "cell_type": "markdown",
   "id": "db3cb66f",
   "metadata": {},
   "source": [
    "An important characteristic of each string is its length, which is the number of characters in it. The length can be any natural number (i.e., zero or any positive integer). In python we can see the length of a string by using the `len()` function. In fact, this function can be used to assess the length of many different variable types such as lists, tuples, sets and so on (more on those later)."
   ]
  },
  {
   "cell_type": "code",
   "execution_count": null,
   "id": "b5c74a8b",
   "metadata": {},
   "outputs": [],
   "source": [
    "string1 = 'loooooong string'\n",
    "string2 = 'shor'\n",
    "string3 = ''\n",
    "\n",
    "\n",
    "print(len(string1))\n",
    "print(len(string2))\n",
    "print(len(string3))"
   ]
  },
  {
   "cell_type": "markdown",
   "id": "f50c6b8e",
   "metadata": {},
   "source": [
    " > **Brief interlude:** In Python, you can add comments to your code using the `#` symbol. Comments are lines of text that are ignored when the code runs, but they play an important role in explaining what your code is doing. Writing clear and meaningful comments as you code is considered best practice. It helps others (and your future self) understand your logic and what you are trying to do. Below is a simple example that shows how to use comments in Python. Make sure you are comfortable with this, as commenting is a crucial habit for anyone working with code."
   ]
  },
  {
   "cell_type": "code",
   "execution_count": null,
   "id": "8ba15c7c",
   "metadata": {},
   "outputs": [],
   "source": [
    "# The below line prints a string, this line is a comment\n",
    "print('This statement is printed') # This is another comment\n",
    "\n",
    "# The below line is not a comment as the # is contained within quotes\n",
    "text = \"# This is not a comment because it's inside quotes.\"\n",
    "print(text)"
   ]
  },
  {
   "cell_type": "markdown",
   "id": "43f85d99",
   "metadata": {},
   "source": [
    "> **Check your understanding:** What is the difference between `print(2 + 3)` and `print(\"2\" + \"3\")`? What happens if you try `x = \"hello\" + 5`? Using the below box, write some code to answer these questions."
   ]
  },
  {
   "cell_type": "code",
   "execution_count": null,
   "id": "ff918d3e",
   "metadata": {},
   "outputs": [],
   "source": [
    "# Write your code here..."
   ]
  },
  {
   "cell_type": "markdown",
   "id": "6e12b1f9",
   "metadata": {},
   "source": [
    "### String manipulation\n",
    "\n",
    "Python has many useful tools for manipulating strings. One such function is the `format` function, which allows you to insert variables of different types into strings. Note that `x` in the below example does not need to be a string."
   ]
  },
  {
   "cell_type": "code",
   "execution_count": null,
   "id": "f52e0a9b",
   "metadata": {},
   "outputs": [],
   "source": [
    "x = 8\n",
    "y = 'John'\n",
    "s = \"{} is {} feet tall\".format(y, x)\n",
    "print(s)"
   ]
  },
  {
   "cell_type": "markdown",
   "id": "57667109",
   "metadata": {},
   "source": [
    "Another useful tool is the concatenation operater; `+`. Concatenation in programming is another way for saying \"join together\". See the below for an example of how this is done."
   ]
  },
  {
   "cell_type": "code",
   "execution_count": null,
   "id": "3c266433",
   "metadata": {},
   "outputs": [],
   "source": [
    "a = 'string1'\n",
    "b = 'string2'\n",
    "c = a + ' ' + b\n",
    "\n",
    "print(c)"
   ]
  },
  {
   "cell_type": "markdown",
   "id": "65f515c6",
   "metadata": {},
   "source": [
    "In fact, the previous example could be done using concatenation instead of the `format` funtion. Note though that we must be careful and convert `x` from an integer to a string, using `str()`, in this case."
   ]
  },
  {
   "cell_type": "code",
   "execution_count": null,
   "id": "33868e48",
   "metadata": {},
   "outputs": [],
   "source": [
    "x = 8\n",
    "y = 'John'\n",
    "\n",
    "print(y + ' is ' + str(x) + ' feet tall')"
   ]
  },
  {
   "cell_type": "markdown",
   "id": "e7e1c75b",
   "metadata": {},
   "source": [
    "Other useful functions for string manipulation include\n",
    "\n",
    " - `strip`; which, by default, removes any white space from the beginning and end of a string. However, you can also specify which characters you wish to remove.\n",
    " \n",
    " - `split`; splits a string by specified character (known as a seperator), and returns a list. By default, the separator is a space and this function splits a sentence into individual words.\n",
    " \n",
    " - `replace`; this returns a string with some specified value replaced with another specified value.\n",
    " \n",
    " - `upper`; this makes a string all uppercase.\n",
    " \n",
    " - `lower`; this makes a string all lowercase.\n",
    " \n",
    "Several examples are given below. Please make sure you understand what each of these functions does before moving on to the next section. There are many other functions available and a good resource for learning about each individual function and trying them for yourself is the [w3 schools python reference site](https://www.w3schools.com/python/python_ref_string.asp).\n",
    " \n",
    "\n"
   ]
  },
  {
   "cell_type": "code",
   "execution_count": null,
   "id": "8c9610a3",
   "metadata": {},
   "outputs": [],
   "source": [
    "# Demonstration of the strip function\n",
    "print(\"Demonstration of strip function\\n\")\n",
    "\n",
    "\n",
    "x = '    this is a string     '\n",
    "print(x)\n",
    "print(x.strip())\n",
    "y = '...another string...'\n",
    "print(y)\n",
    "print(y.strip('.'))\n",
    "\n",
    "# -------------------------------------------------------------------\n",
    "# Demonstration of the split function\n",
    "print(\"\\nDemonstration of split function\\n\")\n",
    "\n",
    "\n",
    "x = 'This is a string'\n",
    "print(x)\n",
    "print(x.split())\n",
    "print(x.split('i'))\n",
    "\n",
    "# -------------------------------------------------------------------\n",
    "# Demonstration of the replace function\n",
    "print(\"\\nDemonstration of replace function\\n\")\n",
    "\n",
    "x = 'I am not sure that I understand how the replace function works'\n",
    "print(x)\n",
    "y = x.replace('am not sure', 'am totally sure')\n",
    "print(y)\n",
    "z = y.replace('sure', 'sure, 100% sure in fact thanks to this (rather well put together) notebook,')\n",
    "print(z)\n",
    "\n",
    "# -------------------------------------------------------------------\n",
    "# Demonstration of the upper and lower functions\n",
    "print(\"\\nDemonstration of upper and lower functions\\n\")\n",
    "\n",
    "x = 'RaNDom CAseS'\n",
    "print(x)\n",
    "print(x.lower())\n",
    "print(x.upper())\n"
   ]
  },
  {
   "cell_type": "markdown",
   "id": "aed6160e",
   "metadata": {},
   "source": [
    "## Booleans\n"
   ]
  },
  {
   "cell_type": "markdown",
   "id": "4483f9df",
   "metadata": {},
   "source": [
    "A boolean in python is a variable that can be either `True` or `False`. For instance:\n"
   ]
  },
  {
   "cell_type": "code",
   "execution_count": null,
   "id": "c46215da",
   "metadata": {},
   "outputs": [],
   "source": [
    "# Create a boolean variable \n",
    "my_boolean = True\n",
    "print(my_boolean)"
   ]
  },
  {
   "cell_type": "markdown",
   "id": "d214f35c",
   "metadata": {},
   "source": [
    "Booleans arise in all sorts of situations. For example, consider the below code:"
   ]
  },
  {
   "cell_type": "code",
   "execution_count": null,
   "id": "7ecab31e",
   "metadata": {},
   "outputs": [],
   "source": [
    "print(128 > 100)"
   ]
  },
  {
   "cell_type": "markdown",
   "id": "5f29c064",
   "metadata": {},
   "source": [
    "You should see it print `True`, which makes sense as `128` is indeed larger than `100`. Try changing the numbers above; can you make this print `False`?\n",
    "\n",
    "In this code, the expression `128 > 100` is a boolean statement. We can make this clearer like so:"
   ]
  },
  {
   "cell_type": "code",
   "execution_count": null,
   "id": "5e079b8f",
   "metadata": {},
   "outputs": [],
   "source": [
    "my_boolean = 128 > 100\n",
    "print(my_boolean)"
   ]
  },
  {
   "cell_type": "markdown",
   "id": "33768eea",
   "metadata": {},
   "source": [
    "The above code is identical to the previous, but we have now saved the `True/False` value as `my_boolean`."
   ]
  },
  {
   "cell_type": "markdown",
   "id": "e62377ee",
   "metadata": {},
   "source": [
    "Some common boolean operators include: \n",
    "\n",
    " - `not`: This negates the value of a variable (i.e. turns `True` to `False` and `False` to `True`).\n",
    " - `and`: This is a logical `and`.\n",
    " - `or`: This is a logical `or`.\n",
    " - `is`: This checks whether two variables point to the same object in memory.\n",
    " - `==`: This checks whether two variables are equal in value (Note: This shouldn't be confused for the assigment operator; `=`).\n",
    " - `!=`: This checks whether two variables are not equal in value.\n",
    " \n",
    "Boolean operators in Python are designed to be intuitive and as close to natural language as possible. The below code demonstrates how the boolean operations `and`, `or`, `==` and `!=` and `not` are used. Try changing the values of `a` and `b` to ensure you understand how these operations work."
   ]
  },
  {
   "cell_type": "code",
   "execution_count": null,
   "id": "08ccb27d",
   "metadata": {},
   "outputs": [],
   "source": [
    "a = True\n",
    "b = False\n",
    "\n",
    "print(\"not a: \", not a)\n",
    "print(\"a and b: \", a and b)\n",
    "print(\"a or b: \", a or b)\n",
    "print(\"a==b: \", a==b)\n",
    "print(\"a!=b: \", a!=b)\n",
    "\n",
    "# Note: both c and b are treated as False, but they are not equal, see below;\n",
    "c = {}\n",
    "print(\"not c: \", not c)\n",
    "print(\"not b: \", not b)\n",
    "print(\"b==c: \", b==c)"
   ]
  },
  {
   "cell_type": "markdown",
   "id": "d992c4c0",
   "metadata": {},
   "source": [
    "Other common relational expressions which give `True/False` output include `<=`, `>=`, `<` and `>` for numeric datatypes (e.g. `int`s and `float`s) and `in` for collection datatypes (such as `list`s or `tuple`s, which we shall look at next). "
   ]
  },
  {
   "cell_type": "code",
   "execution_count": null,
   "id": "05ef2fc5",
   "metadata": {},
   "outputs": [],
   "source": [
    "a = 1\n",
    "b = 1.1\n",
    "\n",
    "print(\"a>b:    \", a>b)\n",
    "print(\"a<b:    \", a<b)\n",
    "print(\"a>=b:   \", a>=b)\n",
    "print(\"a<=b:   \", a<=b)\n",
    "\n",
    "c = \"Some string\"\n",
    "d = \"om\"\n",
    "print(\"c in d: \", c in d)\n",
    "print(\"d in c: \", d in c)\n",
    "\n",
    "e = 1\n",
    "f = 0.1\n",
    "g = [1,2,3]\n",
    "print(\"e in g: \", e in g)\n",
    "print(\"f in g: \", f in g)"
   ]
  },
  {
   "cell_type": "markdown",
   "id": "2693527d",
   "metadata": {},
   "source": [
    "## Casting Between Data Types"
   ]
  },
  {
   "cell_type": "markdown",
   "id": "8ad42b4c",
   "metadata": {},
   "source": [
    "In Python the data type of a variable is dynamic. This means that you do not need to specify the data type beforehand and that it can easily be changed. For example, try moving the type statement before and after the sum in the below block and see how the output is changed. Why does the output change?"
   ]
  },
  {
   "cell_type": "code",
   "execution_count": null,
   "id": "e09a8492",
   "metadata": {},
   "outputs": [],
   "source": [
    "a = 1\n",
    "b = 1.1\n",
    "\n",
    "print(type(a))\n",
    "\n",
    "a = a+b"
   ]
  },
  {
   "cell_type": "markdown",
   "id": "a79783db",
   "metadata": {},
   "source": [
    "Several inbuilt functions are available for converting between types. The most commonly used of these are the `int`, `float` and `str` functions. Try these out below. **Caution**: Note how converting `z` back to a float does not give the original value `x`. Why do you think this is?"
   ]
  },
  {
   "cell_type": "code",
   "execution_count": null,
   "id": "3ae6b7d3",
   "metadata": {},
   "outputs": [],
   "source": [
    "x = 1.1\n",
    "y = str(x)\n",
    "z = int(x)\n",
    "\n",
    "print(x)\n",
    "print(y)\n",
    "print(z)\n",
    "\n",
    "print(type(x))\n",
    "print(type(y))\n",
    "print(type(z))\n",
    "\n",
    "print(x - float(z))"
   ]
  },
  {
   "cell_type": "markdown",
   "id": "ff689249",
   "metadata": {},
   "source": [
    "The act of converting one data type to another is often referred to as **casting**. For instance, in the above code, we *cast* `x` from a `float` to a `string` and then from a `string` to an `integer`."
   ]
  },
  {
   "cell_type": "markdown",
   "id": "a347560f",
   "metadata": {},
   "source": [
    " > **Check your Understanding:** What happens if you try `int(\"10.5\")`? Why might you convert a number to a string using `str()`? Use the below code box to answer these questions."
   ]
  },
  {
   "cell_type": "code",
   "execution_count": null,
   "id": "5941caa3",
   "metadata": {},
   "outputs": [],
   "source": [
    "# Write your answers here..."
   ]
  },
  {
   "cell_type": "markdown",
   "id": "c2111529",
   "metadata": {},
   "source": [
    "## Exercises"
   ]
  },
  {
   "cell_type": "markdown",
   "id": "6633b36e",
   "metadata": {},
   "source": [
    "**Question 1:** Below are three variables `x`, `y` and `z`. By using the operators introduced in the `Booleans` section of this notebook, construct a boolean variable, `my_boolean` which is true if and only if $y$ lies strictly between $x^2$ and $z^3$. That is, `my_boolean` should be true if and only if either $x^2<y<z^3$ or $z^3<y<x^2$."
   ]
  },
  {
   "cell_type": "code",
   "execution_count": null,
   "id": "444ef41e",
   "metadata": {},
   "outputs": [],
   "source": [
    "# Variables x, y and z\n",
    "x = 1\n",
    "y = 2\n",
    "z = 1.26\n",
    "\n",
    "my_boolean = # Write your code here..."
   ]
  },
  {
   "cell_type": "markdown",
   "id": "69cf1b37",
   "metadata": {},
   "source": [
    "**Question 2:** In the below code, we have two boolean variables; `is_raining` and `have_umbrella`. We will assume that these represent the sentences \"It is raining outside\" and \"I have my umbrella with me\", respectively. "
   ]
  },
  {
   "cell_type": "code",
   "execution_count": null,
   "id": "c3a11101",
   "metadata": {},
   "outputs": [],
   "source": [
    "# Boolean variables\n",
    "is_raining = True\n",
    "have_umbrella = False"
   ]
  },
  {
   "cell_type": "markdown",
   "id": "77eb2524",
   "metadata": {},
   "source": [
    "We will assume that you are going to get wet if and only if it is raining outside and you do not have your umbrella. Using logical operators (e.g. `and`, `or`, `not`...), make a new boolean variable that tells you if you are going to get wet."
   ]
  },
  {
   "cell_type": "code",
   "execution_count": null,
   "id": "2ba300d1",
   "metadata": {},
   "outputs": [],
   "source": [
    "# Boolean telling you if you are going to get rained on\n",
    "got_soaked = # Write your code here...\n",
    "\n",
    "print('Question: Will I get rained on?')\n",
    "print('Answer: ' + str(got_soaked))"
   ]
  },
  {
   "cell_type": "markdown",
   "id": "8fb36a61",
   "metadata": {},
   "source": [
    "**Question 3:** In this question, we are interested in three boolean variables `A`, `B` and `C`. By performing your own research online, write down (on paper) a [\"Truth Table\"](https://en.wikipedia.org/wiki/Truth_table) for the expression `(A and B) or (not C)`. Your table should have the following columns:\n",
    "\n",
    "| `A`     | `B`     | `C`     | `A and B` | `not C` | `(A and B) or (not C)` |\n",
    "|---------|---------|---------|-----------|---------|------------------------|\n",
    "| `True`  | `True`  | `True`  |           |         |                        | \n",
    "| `True`  | `True`  | `False` |           |         |                        | \n",
    "| `True`  | `False` | `True`  |           |         |                        | \n",
    "| `True`  | `False` | `False` |           |         |                        | \n",
    "| `False` | `True`  | `True`  |           |         |                        | \n",
    "| `False` | `True`  | `False` |           |         |                        | \n",
    "| `False` | `False` | `True`  |           |         |                        | \n",
    "| `False` | `False` | `False` |           |         |                        | \n",
    "\n"
   ]
  },
  {
   "cell_type": "markdown",
   "id": "60866e7a",
   "metadata": {},
   "source": [
    "In the following box, write some code which computes  `(A and B) or (not C)`. By changing the values of `A`, `B` and `C` check the correctness of your truth table."
   ]
  },
  {
   "cell_type": "code",
   "execution_count": null,
   "id": "970f2f7f",
   "metadata": {},
   "outputs": [],
   "source": [
    "# Boolean variables\n",
    "A = True\n",
    "B = False\n",
    "C = True\n",
    "\n",
    "# Compute new boolean\n",
    "my_boolean = # Write your code here..."
   ]
  },
  {
   "cell_type": "markdown",
   "id": "167fc7bd",
   "metadata": {},
   "source": [
    "**Question 4:** Below are two variables representing the `width` and `height` of a rectangle. Write some code that computes the `area`, `perimeter` and length of the `diagonal` of the rectangle. Your code should print the results."
   ]
  },
  {
   "cell_type": "code",
   "execution_count": null,
   "id": "7764c229",
   "metadata": {},
   "outputs": [],
   "source": [
    "# Height and width variables\n",
    "height = 10\n",
    "width = 3\n",
    "\n",
    "# Write your code here..."
   ]
  },
  {
   "cell_type": "markdown",
   "id": "3ad19a31",
   "metadata": {},
   "source": [
    "**Question 5:** An object dropped from a height satisfies the [SUVAT equations](https://www.pearsonschoolsandfecolleges.co.uk/asset-library/pdf/Secondary/science/edexcel-as-and-a-level-science/revise-edexcel-a-level-physics-revision-guide-samples.pdf). In particular, it satisfies the following equation:\n",
    "\n",
    "$$v^2 = u^2 + 2as$$\n",
    "\n",
    "where\n",
    " - $v$ is the final velocity,\n",
    " - $u$ is the initial velocity,\n",
    " - $a$ is the acceleration, equal to gravity in this case,\n",
    " - $s$ is the distance.\n",
    " \n",
    "Given the object is at rest initially and it's final velocity is $10$ meters per second, write code to compute the distance it has fallen."
   ]
  },
  {
   "cell_type": "code",
   "execution_count": null,
   "id": "c264dc1a",
   "metadata": {},
   "outputs": [],
   "source": [
    "# Known variables\n",
    "v = 10\n",
    "u = # You must choose an appropriate value for this variable...\n",
    "a = # You must choose an appropriate value for this variable...\n",
    "\n",
    "# Compute s\n",
    "s = # Write your code here."
   ]
  },
  {
   "cell_type": "markdown",
   "id": "568e4a7c",
   "metadata": {},
   "source": [
    "**Question 6:** Building on your answer to Question 5, by researching the SUVAT equations and writing code below, compute the time in seconds that the object spends in freefall."
   ]
  },
  {
   "cell_type": "code",
   "execution_count": null,
   "id": "1a8fc582",
   "metadata": {},
   "outputs": [],
   "source": [
    "# Compute time using variables from Question 5\n",
    "t = # Write your answer here..."
   ]
  },
  {
   "cell_type": "markdown",
   "id": "d36629b1",
   "metadata": {},
   "source": [
    "**Question 7:** Without running code, predict the result of these, then check your answers in Python:"
   ]
  },
  {
   "cell_type": "markdown",
   "id": "974a5487",
   "metadata": {},
   "source": [
    " - `(True and False) or True`\n",
    " - `not (False or False)`\n",
    " - `True or False and False`\n",
    " - `False ^ True`\n",
    " - `(True and not True) and (False or not False)`"
   ]
  },
  {
   "cell_type": "code",
   "execution_count": null,
   "id": "283e66de",
   "metadata": {},
   "outputs": [],
   "source": [
    "# Write your code here..."
   ]
  },
  {
   "cell_type": "markdown",
   "id": "96de8ead",
   "metadata": {},
   "source": [
    "*Hint: You may wish to look up `Truthy` and `Falsy` values.*"
   ]
  },
  {
   "cell_type": "markdown",
   "id": "19098504",
   "metadata": {},
   "source": [
    "**Question 8:**  The below code takes two numbers, `x` and `y` and computes $z=\\frac{x+y}{y^2}$. For instance, when we set $x=1$ and $y=5$ we get $z=0.24$."
   ]
  },
  {
   "cell_type": "code",
   "execution_count": null,
   "id": "23614d1b",
   "metadata": {},
   "outputs": [],
   "source": [
    "# Set the values of x and y\n",
    "x = 1\n",
    "y = 5\n",
    "\n",
    "# Add x and y together\n",
    "z = float(x + y)/float(y)**2\n",
    "\n",
    "# Print the result\n",
    "print(z)"
   ]
  },
  {
   "cell_type": "markdown",
   "id": "0cc456ea",
   "metadata": {},
   "source": [
    "Suppose you were change the inputs, `x` and `y`, to 2 and 5. Work out by hand what you would expect $z$ to equal.\n"
   ]
  },
  {
   "cell_type": "markdown",
   "id": "01ea3046",
   "metadata": {},
   "source": [
    "The below code is the same as the above but the values of `x` and `y` have been changed. This time, something has gone wrong! `z` does not give the expected value. Explain what has happened and how you would fix it."
   ]
  },
  {
   "cell_type": "code",
   "execution_count": null,
   "id": "d044fe59",
   "metadata": {},
   "outputs": [],
   "source": [
    "# Set the values of x and y\n",
    "x = '2'\n",
    "y = '5'\n",
    "\n",
    "# Add x and y together\n",
    "z = float(x + y)/float(y)**2\n",
    "\n",
    "# Print the result\n",
    "print(z)"
   ]
  },
  {
   "cell_type": "markdown",
   "id": "ad0dcd2d",
   "metadata": {},
   "source": [
    "**Question 9:** Explain why the first code box below prints nothing but the second prints `True`."
   ]
  },
  {
   "cell_type": "code",
   "execution_count": null,
   "id": "6f678742",
   "metadata": {},
   "outputs": [],
   "source": [
    "three = 2 + 1"
   ]
  },
  {
   "cell_type": "code",
   "execution_count": null,
   "id": "9e073384",
   "metadata": {},
   "outputs": [],
   "source": [
    "3 == 2 + 1"
   ]
  },
  {
   "cell_type": "markdown",
   "id": "7bb580c0",
   "metadata": {},
   "source": [
    "*Hint: Consider the below variable `z`. What is it's datatype?*"
   ]
  },
  {
   "cell_type": "code",
   "execution_count": null,
   "id": "0a430dcb",
   "metadata": {},
   "outputs": [],
   "source": [
    "# Set the vairable z.\n",
    "z = (3 == 2 + 1)\n",
    "\n",
    "# Print it's type\n",
    "# write your code here..."
   ]
  },
  {
   "cell_type": "markdown",
   "id": "cf5cf9d3",
   "metadata": {},
   "source": [
    "Given your answer to the above, you may expect the below code to also print `True`. "
   ]
  },
  {
   "cell_type": "code",
   "execution_count": null,
   "id": "37e7c700",
   "metadata": {},
   "outputs": [],
   "source": [
    "0.3 == 0.1 + 0.2"
   ]
  },
  {
   "cell_type": "markdown",
   "id": "0cda7559",
   "metadata": {},
   "source": [
    "However, it doesn't! Why do you think this is?\n",
    "\n",
    "*Hint: Try printing (0.1 + 0.2) and 0.3 seperately. What do you notice?*"
   ]
  },
  {
   "cell_type": "markdown",
   "id": "bfe92bf3",
   "metadata": {},
   "source": [
    "**Question 10:** In the code block below, you are given 12 strings:  \n",
    "\n",
    "- one `start_string`  \n",
    "- ten \"helper\" strings (`string1` to `string10`)  \n",
    "- one `end_string`  \n",
    "\n",
    "Your task is to transform the `start_string` into the `end_string` **using only**:  \n",
    "\n",
    "- the `start_string`  \n",
    "- the helper strings (`string1` … `string10`)  \n",
    "- the `.replace()` function  \n",
    "\n",
    "A complete solution can be given in **5 replacement steps**. We’ve given you the first step to get you started.  \n",
    "\n",
    "*Hint: You might not need all ten helper strings.*\n"
   ]
  },
  {
   "cell_type": "code",
   "execution_count": null,
   "id": "c4b219c7",
   "metadata": {},
   "outputs": [],
   "source": [
    "# The string we want to transform\n",
    "start_string = 'Thas as te arang we want!'\n",
    "print('Start:  ', start_string)\n",
    "\n",
    "# Helper strings you can use for replacements\n",
    "string1 = 'a'\n",
    "string2 = 'st'\n",
    "string3 = 'he a'\n",
    "string4 = ' ge'\n",
    "string5 = 'stri'\n",
    "string6 = 'sts'\n",
    "string7 = 'is'\n",
    "string8 = 'ara'\n",
    "string9 = 'gen'\n",
    "string10 = 'e a'\n",
    "\n",
    "# Step 1 (given as an example)\n",
    "step1 = start_string.replace(string1,string2)\n",
    "print('Step 1: ',step1)\n",
    "\n",
    "# Step 2 (fill in the correct strings)\n",
    "step2 = step1.replace(string_ , string_) # Fill in the underscores\n",
    "print('Step 2: ', step2)\n",
    "\n",
    "# Step 3–5 (repeat the process until you reach the final string)\n",
    "\n",
    "print('...')\n",
    "\n",
    "\n",
    "# Target string you should reach in 5 steps\n",
    "end_string = 'This is the string we want!'\n",
    "print('End:    ', end_string)"
   ]
  }
 ],
 "metadata": {
  "kernelspec": {
   "display_name": "Python 3 (ipykernel)",
   "language": "python",
   "name": "python3"
  },
  "language_info": {
   "codemirror_mode": {
    "name": "ipython",
    "version": 3
   },
   "file_extension": ".py",
   "mimetype": "text/x-python",
   "name": "python",
   "nbconvert_exporter": "python",
   "pygments_lexer": "ipython3",
   "version": "3.9.13"
  }
 },
 "nbformat": 4,
 "nbformat_minor": 5
}

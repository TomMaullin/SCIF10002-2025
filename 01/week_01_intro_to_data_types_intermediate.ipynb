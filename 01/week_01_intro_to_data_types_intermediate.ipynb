{
 "cells": [
  {
   "cell_type": "markdown",
   "id": "f4fa7de2",
   "metadata": {},
   "source": [
    "# Week 1: Introduction to Data Types"
   ]
  },
  {
   "cell_type": "markdown",
   "id": "0e86a830",
   "metadata": {},
   "source": [
    "# Intermediate: Collections"
   ]
  },
  {
   "cell_type": "markdown",
   "id": "94d77037",
   "metadata": {},
   "source": [
    "Welcome to the *Week 1 Intermediate Python Notebook*. This notebook is designed for students who already have some experience with Python and are ready to build on the basics.  \n",
    "\n",
    "Your task today is to read through the material carefully and complete the exercises provided at the end. These exercises are designed to deepen your understanding and give you practical experience with new concepts.  \n",
    "\n",
    "> **Important:** Before starting this notebook, make sure you are confident with everything in the [`Beginner`](./week_01_intro_to_data_types_beginner.ipynb) notebook. You should be comfortable working with the basic data types: numeric, boolean, and string, and attempt at least $4$ of the [`Beginner exercises`](./week_01_intro_to_data_types_beginner.ipynb#Exercises). The material in this notebook builds directly on those foundations.  \n",
    "\n",
    "In this notebook, you will explore Python’s *collection data types*: *tuples*, *lists*, *dictionaries*, and *sets*. These are powerful tools for grouping, organizing, and working with data in more complex ways.  \n",
    "\n",
    "Be sure to work through the examples and attempt all the exercises. They are designed to help you practice, reinforce your learning, and prepare you for the more advanced topics ahead.  "
   ]
  },
  {
   "cell_type": "markdown",
   "id": "88a1ba01",
   "metadata": {},
   "source": [
    "### Table of Contents\n",
    "\n",
    " - [Welcome Page](./week_01_home.ipynb)\n",
    "\n",
    " - [Beginner: Basic Data Types](./week_01_intro_to_data_types_beginner.ipynb)\n",
    "\n",
    " - [**Intermediate: Collections**](./week_01_intro_to_data_types_intermediate.ipynb)\n",
    "   - [Tuples and lists](#Tuples-and-lists)\n",
    "   - [Sets and Dictionarys](#Sets-and-Dictionarys)\n",
    "   - [Exercises](#Exercises)\n",
    " - [Advanced: Copying and References](./week_01_intro_to_data_types_advanced.ipynb)\n",
    " - [Slides](./week_01_slides.ipynb) ([Powerpoint](./Lecture1_Introduction_And_Data_Types.pptx))"
   ]
  },
  {
   "cell_type": "markdown",
   "id": "1c06d692",
   "metadata": {},
   "source": [
    "## Tuples and lists\n",
    "\n"
   ]
  },
  {
   "cell_type": "markdown",
   "id": "487acae7",
   "metadata": {},
   "source": [
    "In this section, we are going to look at Tuples and Lists. \n",
    "\n",
    " - A tuple is a collection which is ordered and ***unchangeable***. In Python tuples are written with ***round brackets***.\n",
    "\n",
    " - A list is a collection which is ordered and ***changeable***. In Python lists are written with ***square brackets***. \n",
    "\n",
    "*where **changeable** means that once created, the elements of the list can be modified, added, or removed, while the elements of a tuple cannot be altered after creation.*\n",
    "\n",
    "Both tuples and lists are built-in data types, can hold elements of arbitrary datatypes and behave, in many respects, like mathematical vectors. However, for numerical vectors and arrays it is much better to use numpy arrays, which are covered later in the course.\n",
    "\n",
    "Below are some examples of lists and tuples. Note again that lists and tuples can contain data of any type."
   ]
  },
  {
   "cell_type": "code",
   "execution_count": null,
   "id": "e64da28b",
   "metadata": {},
   "outputs": [],
   "source": [
    "# Example tuple\n",
    "example_tuple = ('random string', 8, True)\n",
    "print(example_tuple)\n",
    "\n",
    "# Example list\n",
    "example_list = [10, 'str', False]\n",
    "print(example_list)"
   ]
  },
  {
   "cell_type": "markdown",
   "id": "dac0cf00",
   "metadata": {},
   "source": [
    "This means they can also be nested. I.e. we can put a list in a list, a tuple in a tuple, a list in a tuple and a tuple in a list!"
   ]
  },
  {
   "cell_type": "code",
   "execution_count": null,
   "id": "bff24b66",
   "metadata": {},
   "outputs": [],
   "source": [
    "TupleAndListInTuple = (example_tuple, example_list)\n",
    "TupleAndListInList = [example_tuple, example_list]\n",
    "print(TupleAndListInTuple)\n",
    "print(TupleAndListInList)"
   ]
  },
  {
   "cell_type": "markdown",
   "id": "8e338058",
   "metadata": {},
   "source": [
    "### Adding to Lists and Tuples\n",
    "\n",
    "Lists and tuples can be added to using the concatenation operator, `+`, like so:"
   ]
  },
  {
   "cell_type": "code",
   "execution_count": null,
   "id": "320d7bd6",
   "metadata": {},
   "outputs": [],
   "source": [
    "example_list = [1, 2, 3]\n",
    "example_list = example_list + [4]\n",
    "example_list +=  [5]\n",
    "print(example_list)\n",
    "\n",
    "example_tuple = (1, 2, 3)\n",
    "example_tuple = example_tuple + (4,)\n",
    "example_tuple +=  (5,)\n",
    "print(example_tuple)"
   ]
  },
  {
   "cell_type": "markdown",
   "id": "28fadb4e",
   "metadata": {},
   "source": [
    "### Indexing Lists and Tuples\n",
    "\n",
    "To index in python, square brackets are used. This is a common convention which applies to almost all vector-like datatypes in Python, e.g. tuples, lists, strings, numpy arrays, etc.\n",
    "\n",
    "Python uses zero indexing, which means that the first element in a list of length `n` is indexed as `0` and the last element is indexed as `n-1`. For example see the below (note that the same can also be done for tuples):"
   ]
  },
  {
   "cell_type": "code",
   "execution_count": null,
   "id": "19ffcf47",
   "metadata": {},
   "outputs": [],
   "source": [
    "example_list = [2,'str',4,9,0]\n",
    "\n",
    "# Work out the length of the list\n",
    "n = len(example_list)\n",
    "\n",
    "print(example_list[0])\n",
    "print(example_list[n-1])\n",
    "print(example_list[3])\n",
    "#print(example_list[n]) # This line will fail as the highest index for a python list is n-1"
   ]
  },
  {
   "cell_type": "markdown",
   "id": "18e703a5",
   "metadata": {},
   "source": [
    "Negative numbers can also be used to index lists (and other similar datatypes). For example, the index `-1` will give the last element of the list, the index `-2` will give the second to last element of the list and so on. This is known as circular wrap-around.\n",
    "\n",
    "For a list of length `n` any index can be used between `-n` and `(n-1)` (inclusive) to access elements in the list. Indices outside of this range, however, will give an \"`index out of range`\" error."
   ]
  },
  {
   "cell_type": "code",
   "execution_count": null,
   "id": "72dd6a5b",
   "metadata": {},
   "outputs": [],
   "source": [
    "# Examples of circular wrap-around\n",
    "print(example_list)\n",
    "print(example_list[-2])\n",
    "print(example_list[-4])\n",
    "print(example_list[-n])\n",
    "\n",
    "# Examples of indices which will fail/give errors\n",
    "#print(example_list[n])\n",
    "#print(example_list[-n-1])\n",
    "#print(example_list[20*n + 2]) \n",
    "#print(example_list[-20*n - 2])"
   ]
  },
  {
   "cell_type": "markdown",
   "id": "ad9526db",
   "metadata": {},
   "source": [
    "Note that nested lists and tuples support nested indexing but this involve multiple sets of square brackets (for example see below).\n",
    "\n",
    "You may be more familiar with indexing of the form `example_list[a,b]` (i.e. only one set of square brackets); this syntax does exist in Python but unfortunately not for lists. In fact, this syntax is used heavily by numpy arrays (which we will cover later in the course)."
   ]
  },
  {
   "cell_type": "code",
   "execution_count": null,
   "id": "94a8f427",
   "metadata": {},
   "outputs": [],
   "source": [
    "exampleNested = [('str', 20, 'str2'), [False, 8, 9.5]]\n",
    "print(exampleNested[0][1])\n",
    "print(exampleNested[1][0])\n",
    "print(exampleNested[1][-1])"
   ]
  },
  {
   "cell_type": "markdown",
   "id": "e4dfa316",
   "metadata": {},
   "source": [
    "### Slicing Tuples and Lists\n",
    "\n",
    "A range of index values can be specified to extract values from a list using a colon, `:`. This way of accessing data is known as *slicing* and can be performed as follows:"
   ]
  },
  {
   "cell_type": "code",
   "execution_count": null,
   "id": "a0935e2a",
   "metadata": {},
   "outputs": [],
   "source": [
    "example_list = [1,2,3,4,5]\n",
    "print(example_list[0:3])"
   ]
  },
  {
   "cell_type": "markdown",
   "id": "0ed4291d",
   "metadata": {},
   "source": [
    "> **Warning:** Often, in other languages such as `Matlab` the syntax `0:3` represents the range `[0,1,2,3]`; however, in python `0:3` represents only `[0,1,2]`. In other words the syntax `k:n` includes `[k,k+1,...n-1]` but does not include `n` itself! This is common to all data types in python and should always be remembered when indexing anything in Python!"
   ]
  },
  {
   "cell_type": "markdown",
   "id": "73408196",
   "metadata": {},
   "source": [
    "When indexing in python you can leave the start and end values implicit. This will give the same effect as starting from the beginning of the list and ending at the end of the list. For example:\n"
   ]
  },
  {
   "cell_type": "code",
   "execution_count": null,
   "id": "ef1fa2ea",
   "metadata": {},
   "outputs": [],
   "source": [
    "example_list = [1,2,3,4,5]\n",
    "\n",
    "# The below two lines will give the same\n",
    "print(example_list[0:3])\n",
    "print(example_list[:3])\n",
    "\n",
    "# The below two lines will also give the same\n",
    "print(example_list[2:5])\n",
    "print(example_list[2:])\n",
    "\n",
    "# This will print the whole list\n",
    "print(example_list[:])"
   ]
  },
  {
   "cell_type": "markdown",
   "id": "a8891937",
   "metadata": {},
   "source": [
    "You can also indicate a step size when indexing by using the following syntax:"
   ]
  },
  {
   "cell_type": "code",
   "execution_count": null,
   "id": "21d53980",
   "metadata": {},
   "outputs": [],
   "source": [
    "# Print every second element between the 0th and 5th elements\n",
    "print(example_list[0:5:2])\n",
    "print(example_list[::2])"
   ]
  },
  {
   "cell_type": "markdown",
   "id": "8f4b6c6d",
   "metadata": {},
   "source": [
    "And you can run backwards through the list by using negative integers as the step size. For example:"
   ]
  },
  {
   "cell_type": "code",
   "execution_count": null,
   "id": "5ef9066f",
   "metadata": {},
   "outputs": [],
   "source": [
    "# Print the list backwards\n",
    "print(example_list[::-1])"
   ]
  },
  {
   "cell_type": "markdown",
   "id": "48ec3c2f",
   "metadata": {},
   "source": [
    "### Operations on Lists and Tuples\n",
    "\n",
    "Other operations are also available for lists and tuples. Most notably, the `*` symbol can be used to replicate a list or tuple like so:"
   ]
  },
  {
   "cell_type": "code",
   "execution_count": null,
   "id": "bacdfc95",
   "metadata": {},
   "outputs": [],
   "source": [
    "example_list = [1,2,3,4]\n",
    "print(example_list*2)\n",
    "\n",
    "example_tuple = (1,2,3,4)\n",
    "print(example_tuple*2)"
   ]
  },
  {
   "cell_type": "markdown",
   "id": "1f1b9fd0",
   "metadata": {},
   "source": [
    "Other notable operations for lists include:\n",
    "\n",
    " - `insert`: This function adds an element to the list at a specified position.\n",
    " - `pop`: This function removes the element in the list at the specified position.\n",
    " - `remove`: This function removes the item with the specified value from the list.\n",
    " - `reverse`: This function reverses the order of the list.\n",
    " - `sort`: This function sorts the list.\n",
    " \n",
    "A few examples of these functions are given below. Try changing and editing the below code to check your understanding! Again, this is by no means a comprehensive list; more information can be found in the [Python API](https://docs.python.org/3/tutorial/datastructures.html) or in the [W3 schools documentation](https://www.w3schools.com/python/python_lists.asp)."
   ]
  },
  {
   "cell_type": "code",
   "execution_count": null,
   "id": "ee491810",
   "metadata": {},
   "outputs": [],
   "source": [
    "# Here is an example list\n",
    "example_list = [1,2,3,4,5]\n",
    "print(example_list)\n",
    "\n",
    "# We will now insert the value 3 at index 2\n",
    "example_list.insert(2,3)\n",
    "print(example_list)\n",
    "\n",
    "# We will now remove the item in the 4th position of the list\n",
    "example_list.pop(4)\n",
    "print(example_list)\n",
    "\n",
    "# We will now remove an element with the value 3 from the list\n",
    "example_list.remove(3)\n",
    "print(example_list)\n",
    "\n",
    "# We will now reverse the list\n",
    "example_list.reverse()\n",
    "print(example_list)\n",
    "\n",
    "# We will now sort the list\n",
    "example_list.sort()\n",
    "print(example_list)"
   ]
  },
  {
   "cell_type": "markdown",
   "id": "7ddc94b0",
   "metadata": {},
   "source": [
    "Not as many operations are available for tuples as tuples are immutable (not meant to change in value). Two available operations are:\n",
    "\n",
    " - `count`: This function returns the number of times a specified value occurs in the tuple.\n",
    " - `index`: This function searches the tuple for a specified value and returns the position of where it was found.\n",
    " \n",
    "Examples of these are given below. For more information on tuples please visit the [Python API](https://docs.python.org/3/tutorial/datastructures.html) or the [W3 schools documentation](https://www.w3schools.com/python/python_tuples.asp)."
   ]
  },
  {
   "cell_type": "code",
   "execution_count": null,
   "id": "fbfe07cc",
   "metadata": {},
   "outputs": [],
   "source": [
    "example_tuple = (1,2,3,3,4,5,6)\n",
    "\n",
    "# Count how many times the value 3 occurs\n",
    "print(example_tuple.count(3))\n",
    "\n",
    "# Find the number 2 in the tuple and return it's index\n",
    "# (Remember indexing starts at 0 in Python!)\n",
    "print(example_tuple.index(2))"
   ]
  },
  {
   "cell_type": "markdown",
   "id": "b37502d2",
   "metadata": {},
   "source": [
    "## Sets and Dictionarys"
   ]
  },
  {
   "cell_type": "markdown",
   "id": "67787fd2",
   "metadata": {},
   "source": [
    "In this section, we are going to look in more detail at Sets and Dictionarys.\n",
    "\n",
    " - A set is a collection which is **unordered**, **changeable** and **unindexed**. In Python sets are written with **curly** brackets.\n",
    " - A dictionary is a collection which is **unordered**, **changeable** and **indexed**. In Python dictionarys are also written with **curly** brackets but also with keys and values.\n",
    "\n",
    "Like tuples and lists, both sets and dictionarys are built-in python types and can hold elements of arbitrary data types. However, unlike tuples and lists they do not behave like vectors as they are unordered. In other programming languages, such as Java, you may have heard of dictionarys referred to as `hashmaps`.\n",
    "\n",
    "Below are some examples of sets and dictionarys."
   ]
  },
  {
   "cell_type": "code",
   "execution_count": null,
   "id": "876984de",
   "metadata": {},
   "outputs": [],
   "source": [
    "example_set = {1,'str',3}\n",
    "print(example_set)\n",
    "\n",
    "example_dict = {'A':1, 'B':'str'}\n",
    "print(example_dict)\n",
    "\n",
    "# We can also create dictionaries using the dict function if using strings for keys\n",
    "example_dict = dict(A=1, B='str')\n",
    "print(example_dict)"
   ]
  },
  {
   "cell_type": "markdown",
   "id": "40b2a497",
   "metadata": {},
   "source": [
    "### Adding elements to and retreiving elements from Dictionarys\n",
    "\n",
    "Elements can be added to dictionarys as `key`s and `value`s. For example; in the first line below the `key` is `a` and the `value` is `b`. Note that a key does not have to be a string; integers and floats work just as well. Values can be of any data type."
   ]
  },
  {
   "cell_type": "code",
   "execution_count": null,
   "id": "6e085660",
   "metadata": {},
   "outputs": [],
   "source": [
    "# Here we assign value 'b' to key 'a'\n",
    "example_dict['a'] = 'b'\n",
    "\n",
    "# Here we assign value 2 to key 10\n",
    "example_dict[10] = 2\n",
    "\n",
    "# Here we assign value [2,1] to key 1.1\n",
    "example_dict[1.1] = [2,1]\n",
    "\n",
    "print(example_dict)"
   ]
  },
  {
   "cell_type": "markdown",
   "id": "3e3f7bff",
   "metadata": {},
   "source": [
    "We can then retreive `value`s from the dictionary using the `key`s we stored them under. This can be done with either square brackets or the built-in `get` function. For example:"
   ]
  },
  {
   "cell_type": "code",
   "execution_count": null,
   "id": "78bb87d0",
   "metadata": {},
   "outputs": [],
   "source": [
    "# Using square brackets\n",
    "print(example_dict[10])\n",
    "print(example_dict['a'])\n",
    "\n",
    "# Using the `get` function\n",
    "print(example_dict.get(10))\n",
    "print(example_dict.get('a'))"
   ]
  },
  {
   "cell_type": "markdown",
   "id": "3849d7ae",
   "metadata": {},
   "source": [
    "### Removing elements from a dictionary\n",
    "\n",
    "Elements can be removed from a dictionary using the `pop` and `del` methods. For example:"
   ]
  },
  {
   "cell_type": "code",
   "execution_count": null,
   "id": "c6937e1e",
   "metadata": {},
   "outputs": [],
   "source": [
    "# Example dictionary\n",
    "example_dict = {'A':1, 'B':'str', 'C':2}\n",
    "print(example_dict)\n",
    "\n",
    "# Remove element 'A'\n",
    "example_dict.pop('A')\n",
    "print(example_dict)\n",
    "\n",
    "# Remove element C\n",
    "del example_dict['C']\n",
    "print(example_dict)"
   ]
  },
  {
   "cell_type": "markdown",
   "id": "21883a2d",
   "metadata": {},
   "source": [
    "### Operations on Dictionarys\n",
    "\n",
    "Other operations are also available for dictionarys. Some of the most useful of these are;\n",
    "\n",
    " - `keys`: This function returns a list containing the dictionary's keys.\n",
    " - `values`: This function returns a list of all the values in the dictionary.\n",
    " - `items`: This function returns a list containing a tuple for each (key, value) pair.\n",
    " \n",
    "Examples of these functions are given below. For full documentation and details on more functions see the [Python API](https://docs.python.org/3/tutorial/datastructures.html) and [W3 schools Python documentation](https://www.w3schools.com/python/python_dictionaries.asp)."
   ]
  },
  {
   "cell_type": "code",
   "execution_count": null,
   "id": "7c7f7126",
   "metadata": {},
   "outputs": [],
   "source": [
    "example_dict = {'A':1, 'B':'str', 'C':2}\n",
    "print(example_dict.keys())\n",
    "print(example_dict.values())\n",
    "print(example_dict.items())"
   ]
  },
  {
   "cell_type": "markdown",
   "id": "5484e491",
   "metadata": {},
   "source": [
    "### Adding elements to a set"
   ]
  },
  {
   "cell_type": "markdown",
   "id": "87b5cd2f",
   "metadata": {},
   "source": [
    "Elements can be added to a set using the `add` function. For example, see the below code. \n",
    "\n",
    "Note that a `set` is designed to mimic the idea of a `set` in mathematics and, therefore, `set`s do not allow for duplicate entries. An entry is either in or not in a set; it cannot be \"in\" a set twice.\n",
    "\n",
    "Multiple elements can also be added to a set at once using the `update` method."
   ]
  },
  {
   "cell_type": "code",
   "execution_count": null,
   "id": "331bb501",
   "metadata": {},
   "outputs": [],
   "source": [
    "example_set = {1,'str',3}\n",
    "print(example_set)\n",
    "\n",
    "# Add an element\n",
    "example_set.add(8)\n",
    "print(example_set)\n",
    "\n",
    "# Add another element; note this element is already in the set and therefore the\n",
    "# set is left unchanged\n",
    "example_set.add(1)\n",
    "print(example_set)\n",
    "\n",
    "# Add two elements to the set\n",
    "example_set.update([10,'blah'])\n",
    "print(example_set)"
   ]
  },
  {
   "cell_type": "markdown",
   "id": "d7148a4f",
   "metadata": {},
   "source": [
    "However, there is no notion of indexing for Python `set`s as sets are **unordered**. This means that individual elements cannot be accessed in the same manor as in dictionarys, lists and tuples. We can check if an element is in a set, however, using the `in` keyword."
   ]
  },
  {
   "cell_type": "code",
   "execution_count": null,
   "id": "74d7ab0b",
   "metadata": {},
   "outputs": [],
   "source": [
    "print(1 in example_set)\n",
    "print(2 in example_set)"
   ]
  },
  {
   "cell_type": "markdown",
   "id": "6376003c",
   "metadata": {},
   "source": [
    "### Removing elements from a set\n",
    "\n",
    "Elements can be removed from a set using the `remove` function. Note: the `remove` function will errror if the requested value is not in the set."
   ]
  },
  {
   "cell_type": "code",
   "execution_count": null,
   "id": "72de3d0f",
   "metadata": {},
   "outputs": [],
   "source": [
    "example_set.remove(1)\n",
    "print(example_set)"
   ]
  },
  {
   "cell_type": "markdown",
   "id": "541787f8",
   "metadata": {},
   "source": [
    "### Operations on Sets\n",
    "\n",
    "Other operations are also available for sets, many of which are designed to mimic mathematic functions. For example:\n",
    "\n",
    " - `difference`:\tThis function returns a set containing the difference between two or more sets.\n",
    " - `intersection`:\tThis function returns a set which is the intersection of two other sets.\n",
    " - `issubset`: This function returns `True` if the first set input contains the second set input and `False` otherwise.\n",
    " - `issuperset`: This function returns `True` if the first set input is contained within the second set input and `False` otherwise.\n",
    " - `union`: This function returns a set containing the union of input sets.\n",
    " \n",
    "Examples of these are given below. For full documentation and details on more functions see the [Python API](https://docs.python.org/3/tutorial/datastructures.html) and [W3 schools Python documentation](https://www.w3schools.com/python/python_sets.asp)."
   ]
  },
  {
   "cell_type": "code",
   "execution_count": null,
   "id": "dae25afa",
   "metadata": {},
   "outputs": [],
   "source": [
    "print('Sets')\n",
    "set1 = {1,2,3,4}\n",
    "set2 = {2,4,5,6}\n",
    "print(set1)\n",
    "print(set2)\n",
    "\n",
    "# Difference\n",
    "print('\\nSet Differences')\n",
    "print(set1.difference(set2))\n",
    "print(set2.difference(set1))\n",
    "\n",
    "# Intersection\n",
    "print('\\nIntersection')\n",
    "print(set1.intersection(set2))\n",
    "\n",
    "# Is subset or superset\n",
    "print('\\nSubset/Superset')\n",
    "print(set1.issubset(set2))\n",
    "print(set1.issuperset({1,2}))\n",
    "\n",
    "# Union\n",
    "print('\\nUnion')\n",
    "print(set1.union(set2))"
   ]
  },
  {
   "cell_type": "markdown",
   "id": "dc1b2daf",
   "metadata": {},
   "source": [
    "## Exercises"
   ]
  },
  {
   "cell_type": "markdown",
   "id": "bf334aaf",
   "metadata": {},
   "source": [
    "**Question 1:** The below code creates a `list` of numbers:"
   ]
  },
  {
   "cell_type": "code",
   "execution_count": null,
   "id": "64e90bb2",
   "metadata": {},
   "outputs": [],
   "source": [
    "# List of numbers\n",
    "nums = [5, 2, 8, 2, 9]"
   ]
  },
  {
   "cell_type": "markdown",
   "id": "42f70a46",
   "metadata": {},
   "source": [
    "Using this list, write code which does the following:\n",
    " 1. retrieves the third element of the list\n",
    " 2. slice the first three elements of the list\n",
    " 3. replaces the last element with `10`\n",
    " 4. appends `7` to the end of the list\n",
    " 5. removes the first occurrence of `2` \n",
    " \n",
    "Make sure to print the list after each change."
   ]
  },
  {
   "cell_type": "code",
   "execution_count": null,
   "id": "8ce9235e",
   "metadata": {},
   "outputs": [],
   "source": [
    "# Write your code here..."
   ]
  },
  {
   "cell_type": "markdown",
   "id": "9822299a",
   "metadata": {},
   "source": [
    "**Question 2:** The below code creates a `list`, casts it to a `set` and then casts it back to a `list`."
   ]
  },
  {
   "cell_type": "code",
   "execution_count": null,
   "id": "bfc3eea6",
   "metadata": {},
   "outputs": [],
   "source": [
    "# Create the list\n",
    "my_list = [4,2,3]\n",
    "\n",
    "# Convert it to a set\n",
    "my_set = set(my_list)\n",
    "\n",
    "# Convert it back to a list\n",
    "my_new_list = list(my_set)\n",
    "\n",
    "print(my_list==my_new_list)"
   ]
  },
  {
   "cell_type": "markdown",
   "id": "a5a37aed",
   "metadata": {},
   "source": [
    "The new list doesn't equal the original list. Why do you think this might be?\n",
    "\n",
    "*Hint: Try printing `my_list` and `my_new_list`.*"
   ]
  },
  {
   "cell_type": "markdown",
   "id": "3f4d4582",
   "metadata": {},
   "source": [
    "**Question 3:** A string can be converted to a set using the `set()` constructor. Use this fact to identify which letter appears in `string2` but not in `string1` below:"
   ]
  },
  {
   "cell_type": "code",
   "execution_count": null,
   "id": "437e237d",
   "metadata": {},
   "outputs": [],
   "source": [
    "# Here are two strings\n",
    "string1 = \"This is a long random sentence - I wonder which letters it contains and which letters it doesn't.\"\n",
    "string2 = \"This task makes a clear and coherent string with words taken inside a small set\""
   ]
  },
  {
   "cell_type": "markdown",
   "id": "2c4588ea",
   "metadata": {},
   "source": [
    "*Hint: You might want to recap `difference` function from this notebook and the `lower()` function from the [beginner notebook](./week_01_intro_to_data_types_beginner.ipynb).*"
   ]
  },
  {
   "cell_type": "markdown",
   "id": "e5692911",
   "metadata": {},
   "source": [
    "**Question 4:** The below code creates a tuple named `t`."
   ]
  },
  {
   "cell_type": "code",
   "execution_count": null,
   "id": "e33779d5",
   "metadata": {},
   "outputs": [],
   "source": [
    "t = ('a', 'b', 'c', 'd', 'e')"
   ]
  },
  {
   "cell_type": "markdown",
   "id": "eb46740d",
   "metadata": {},
   "source": [
    "Write some code which does the following:\n",
    "\n",
    " 1. access the first and last elements of `t` \n",
    " 2. slice out `('b', 'c', 'd')` \n",
    " 3. check whether `'c'` is in `t`\n",
    " 4. find the index of `'d'` in `t`\n",
    " 5. count how many times `'a'` appears in `t`"
   ]
  },
  {
   "cell_type": "code",
   "execution_count": null,
   "id": "39c1810d",
   "metadata": {},
   "outputs": [],
   "source": [
    "# Write your code here..."
   ]
  },
  {
   "cell_type": "markdown",
   "id": "1fb34710",
   "metadata": {},
   "source": [
    "**Question 5:** You are given the below dataset for `5` individuals in a clinical trial. \n",
    "\n",
    "\n",
    "| Name     | Weight (kg) | Height (cm) |\n",
    "|----------|-------------|-------------|\n",
    "| John     | 82          | 178         |\n",
    "| Alice    | 68          | 165         |\n",
    "| Maria    | 74          | 170         |\n",
    "| David    | 90          | 185         |\n",
    "| Sarah    | 60          | 160         |"
   ]
  },
  {
   "cell_type": "markdown",
   "id": "3f0334bd",
   "metadata": {},
   "source": [
    "Using the collection types introduced in this notebook (lists, tuples, sets, dictionaries - no loops or user-defined functions), choose an appropriate way to represent the clinical-trial table. Write your code in the box below."
   ]
  },
  {
   "cell_type": "code",
   "execution_count": null,
   "id": "562bb247",
   "metadata": {},
   "outputs": [],
   "source": [
    "my_data = # Write your code here..."
   ]
  }
 ],
 "metadata": {
  "kernelspec": {
   "display_name": "Python 3 (ipykernel)",
   "language": "python",
   "name": "python3"
  },
  "language_info": {
   "codemirror_mode": {
    "name": "ipython",
    "version": 3
   },
   "file_extension": ".py",
   "mimetype": "text/x-python",
   "name": "python",
   "nbconvert_exporter": "python",
   "pygments_lexer": "ipython3",
   "version": "3.9.13"
  }
 },
 "nbformat": 4,
 "nbformat_minor": 5
}

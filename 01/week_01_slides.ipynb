{
 "cells": [
  {
   "cell_type": "markdown",
   "id": "b58cda79",
   "metadata": {
    "slideshow": {
     "slide_type": "slide"
    }
   },
   "source": [
    "# Introduction to Coding and Data Analysis for Scientists\n",
    "\n",
    "## Week 1: Introduction and Data Types"
   ]
  },
  {
   "cell_type": "markdown",
   "id": "6752057b",
   "metadata": {
    "slideshow": {
     "slide_type": "slide"
    }
   },
   "source": [
    "## Today's Lecture\n",
    "\n",
    " - Lecture 1: Introduction and Data Types\n",
    "   - Course Structure\n",
    "   - Setting up Noteable\n",
    "   - Introduction to Coding\n",
    "   - Data Types\n",
    "   - Practical"
   ]
  },
  {
   "cell_type": "markdown",
   "id": "f35f3772",
   "metadata": {
    "slideshow": {
     "slide_type": "slide"
    }
   },
   "source": [
    "## Course Structure\n",
    "\n",
    " - This course will run for 20 weeks\n",
    " - We will cover:\n",
    "   - Data types, conditionals and loops\n",
    "   - Building functions\n",
    "   - Numpy arrays and linear algebra in python\n",
    "   - Pandas dataframes\n",
    "   - Plotting and visualisation\n",
    " - Classes:\n",
    "   - 1 lecture per week (Thursday)\n",
    "   - 1 small-group tutorial per two weeks (date should be on calendar) \n"
   ]
  },
  {
   "cell_type": "markdown",
   "id": "db99178d",
   "metadata": {
    "slideshow": {
     "slide_type": "slide"
    }
   },
   "source": [
    "# About us\n",
    "\n",
    "\n",
    "- Dr Francesco Turci (Course director, School of Physics)\n",
    "    - f.turci@bristol.ac.uk\n",
    "- Dr Thomas Maullin-Sapey (lecturer, School of Mathematics)\n",
    "  - thomas.maullin-sapey@bristol.ac.uk"
   ]
  },
  {
   "cell_type": "markdown",
   "id": "12826be3",
   "metadata": {
    "slideshow": {
     "slide_type": "slide"
    }
   },
   "source": [
    "## Lectures\n",
    "\n",
    " - The weekly lecture will consist of\n",
    "   - ≈ 30-40 minutes presentation time covering:\n",
    "   - Key concepts\n",
    "   - Administrative points (e.g. homework submission etc)\n",
    "   - Code Demonstrations#\n",
    " \n",
    "\n",
    " - ≈ 1-1.5 hours practical\n",
    " - Designed to provide hands on experience\n",
    " - Opportunity to ask for help from\n",
    "   - Lecturer\n",
    "   - PhD helpers\n",
    "   - Each other!"
   ]
  },
  {
   "cell_type": "markdown",
   "id": "f1b0ea91",
   "metadata": {
    "slideshow": {
     "slide_type": "slide"
    }
   },
   "source": [
    "## Assignments\n",
    "\n",
    " - Formative:\n",
    "   - Weekly (optional) assignments available on quarto\n",
    " - Summative:\n",
    "   - This module is 100% coursework\n",
    "   - 4 pieces of coursework\n",
    "   - Assignment 1 (15%)\n",
    "   - Assignment 2 (30%)\n",
    "   - Assignment 3 (15%)\n",
    "   - Assignment 4 (40%)\n",
    " - Assignments 1-3 will be exercises\n",
    " - Assignment 4 will be different\n",
    "   - Project report analysing a dataset"
   ]
  },
  {
   "cell_type": "markdown",
   "id": "f805239b",
   "metadata": {
    "slideshow": {
     "slide_type": "slide"
    }
   },
   "source": [
    "## Online Material\n",
    "\n",
    " - The course material is available online via:\n",
    "\n",
    "   - Quarto – online searchable version\n",
    "   - Noteable – interactive interface we shall work in during class\n",
    "   \n",
    "   \n",
    "<img src=\"./images/noteable.png\" alt=\"Welcome page for the unit on Blackboard\" style=\"display:block;margin-left:auto;margin-right:auto;width:80%\"/>\n"
   ]
  },
  {
   "cell_type": "markdown",
   "id": "e827efbe",
   "metadata": {
    "slideshow": {
     "slide_type": "slide"
    }
   },
   "source": [
    "## Accessing Noteable\n",
    "\n",
    " - Open Blackboard\n",
    " - Go to `Introduction to Coding and Data Analysis for Scientists 2025`\n",
    " - Click `Unit Information and Resources`\n",
    " - Open Noteable\n",
    "   - Make sure `Jupyter Classic (Legacy)` is selected.\n",
    "   - Click Start\n",
    " - Click `+GitRepo`\n",
    " - Paste into Git Repository URL: `git@github.com:TomMaullin/SCIF10002-2025.git`\n",
    " - Press clone\n",
    "\n",
    "<img src=\"./images/noteable2.png\" alt=\"Welcome page for the unit on Blackboard\" style=\"display:block;margin-left:auto;margin-right:auto;width:20%\"/>"
   ]
  },
  {
   "cell_type": "markdown",
   "id": "857a9e26",
   "metadata": {
    "slideshow": {
     "slide_type": "slide"
    }
   },
   "source": [
    "## Introduction to Coding\n",
    "\n",
    " - In this module, we shall be learning to code in Python\n",
    " - Python is a programming language\n",
    "\n",
    "<img src=\"./images/python.png\" alt=\"Welcome page for the unit on Blackboard\" style=\"display:block;margin-left:auto;margin-right:auto;width:20%\"/>\n",
    "\n",
    "\n",
    " - In the same way humans communicate using different languages, there are many languages we can use to communicate with a computer\n",
    "\n",
    " - Python is particularly useful for:\n",
    "\n",
    "   - Analysing data\n",
    "   - Making plots and visualisations\n",
    "   - Running simulations\n",
    "   - Machine learning and AI\n"
   ]
  },
  {
   "cell_type": "code",
   "execution_count": null,
   "id": "8b32f122",
   "metadata": {
    "slideshow": {
     "slide_type": "fragment"
    }
   },
   "outputs": [],
   "source": [
    "def greet(name):\n",
    "    \"\"\"Return a friendly greeting.\"\"\"\n",
    "    return f\"Hello, {name}!\"\n",
    "\n",
    "greet(\"Bob\")"
   ]
  },
  {
   "cell_type": "markdown",
   "id": "3d4d0cf3",
   "metadata": {
    "slideshow": {
     "slide_type": "slide"
    }
   },
   "source": [
    "## Learning to Code\n",
    "\n",
    "\n",
    " - In fact, learning to code is a lot like learning a language\n",
    "\n",
    " - When learning French, you might:\n",
    "\n",
    "   - Learn many phrases\n",
    "   - Practice writing sentences\n",
    "   - Speak to people who know the language\n",
    " - You can't learn a language by listening to other people describe it…\n",
    " - Hands-on experience and regular practice are **crucial!**\n",
    "\n",
    "\n"
   ]
  },
  {
   "cell_type": "markdown",
   "id": "37b46108",
   "metadata": {
    "slideshow": {
     "slide_type": "slide"
    }
   },
   "source": [
    "## Getting Started\n",
    "\n",
    " - So… what actually is coding?\n",
    " - You can think of writing code as like writing a recipe…\n",
    "   - You might start by specifying some ingredients…\n",
    "   - Then list some instructions…\n",
    "   - To get a desired output\n",
    " - Coding is pretty similar\n",
    " \n",
    " \n",
    "<img src=\"./images/recipe.png\" alt=\"Welcome page for the unit on Blackboard\" style=\"display:block;margin-left:auto;margin-right:auto;width:20%\"/>"
   ]
  },
  {
   "cell_type": "markdown",
   "id": "81182acc",
   "metadata": {
    "slideshow": {
     "slide_type": "slide"
    }
   },
   "source": [
    "## Getting Started\n",
    "\n",
    " - You might start by specifying some **inputs**…\n",
    " - Then list some **instructions**…\n",
    " - To get a desired **output**"
   ]
  },
  {
   "cell_type": "code",
   "execution_count": null,
   "id": "2ca508d9",
   "metadata": {
    "slideshow": {
     "slide_type": "fragment"
    }
   },
   "outputs": [],
   "source": [
    "# Start with two ingredients (inputs)\n",
    "x = 7\n",
    "y = 4\n",
    "\n",
    "# Step 1: Add them together\n",
    "step1 = x + y\n",
    "\n",
    "# Step 2: Multiply the result by 2\n",
    "step2 = step1 * 2\n",
    "\n",
    "# Step 3: Subtract y from that\n",
    "z = step2 - y\n",
    "\n",
    "# Final output\n",
    "print(\"The final result is:\", z)"
   ]
  },
  {
   "cell_type": "markdown",
   "id": "71266101",
   "metadata": {
    "slideshow": {
     "slide_type": "fragment"
    }
   },
   "source": [
    "Here we are producing some output that might be difficult to  compute or evaluate by hand.\n"
   ]
  },
  {
   "cell_type": "markdown",
   "id": "b1ce69a4",
   "metadata": {
    "slideshow": {
     "slide_type": "slide"
    }
   },
   "source": [
    "## Assigning Variables\n",
    "\n"
   ]
  },
  {
   "cell_type": "code",
   "execution_count": null,
   "id": "22d9abf9",
   "metadata": {
    "slideshow": {
     "slide_type": "fragment"
    }
   },
   "outputs": [],
   "source": [
    "x = 7\n",
    "y = 4"
   ]
  },
  {
   "cell_type": "markdown",
   "id": "63cf9ac2",
   "metadata": {
    "slideshow": {
     "slide_type": "fragment"
    }
   },
   "source": [
    " - In this code, `x` and `y` are variables \n",
    " - These are named pieces of data which we can use for future computations\n",
    " - The `=` symbol is the assignment operator.\n",
    "   - Unlike in maths, this is an instruction\n",
    "   - E.g. `x=7` means \"Save the integer 7 under the variable name x\"\n"
   ]
  },
  {
   "cell_type": "markdown",
   "id": "9a5d3087",
   "metadata": {
    "slideshow": {
     "slide_type": "slide"
    }
   },
   "source": [
    "## Data Types\n"
   ]
  },
  {
   "cell_type": "code",
   "execution_count": null,
   "id": "208dae05",
   "metadata": {
    "slideshow": {
     "slide_type": "fragment"
    }
   },
   "outputs": [],
   "source": [
    "x = 7        # an integer\n",
    "y = \"hello\"  # a string of text\n",
    "z = True     # a boolean (true/false)"
   ]
  },
  {
   "cell_type": "markdown",
   "id": "d4c17f84",
   "metadata": {
    "slideshow": {
     "slide_type": "fragment"
    }
   },
   "source": [
    " - When writing the recipe, some foods were of the “same type”\n",
    "   - E.g. we had 2 eggs\n",
    "\n",
    " - In the same way, in coding we have different types of data\n",
    "\n",
    " - Today, we shall look at some of these\n",
    " - Understanding data types is important, as we want to use different data types for different tasks\n"
   ]
  },
  {
   "cell_type": "markdown",
   "id": "9326d5ac",
   "metadata": {
    "slideshow": {
     "slide_type": "slide"
    }
   },
   "source": [
    "## Numeric Data Types"
   ]
  },
  {
   "cell_type": "code",
   "execution_count": null,
   "id": "df36db2d",
   "metadata": {
    "slideshow": {
     "slide_type": "fragment"
    }
   },
   "outputs": [],
   "source": [
    "# Start with an integer and a float\n",
    "x = 7 # integer\n",
    "y = 3.5 # float (decimal number)\n",
    "\n",
    "# Convert integer to float\n",
    "x_as_float = float(x)\n",
    "\n",
    "# Convert float to integer\n",
    "y_as_int = int(y)"
   ]
  },
  {
   "cell_type": "markdown",
   "id": "6b42714b",
   "metadata": {
    "slideshow": {
     "slide_type": "fragment"
    }
   },
   "source": [
    " - The most ubiquitous data types are numeric \n",
    "   - Integers: Whole numbers/Integers\n",
    "   - ℤ = {…, -3, -2, -1, 0, 1, 2, 3,… }\n",
    "\n",
    " - Floats: Decimal numbers\n",
    "   - ℝ = Real numbers\n",
    "   - We can convert between float's and integers using the `float` and `int` functions.\n",
    "\n",
    " - What do you think might happen if we convert `y` to an integer?\n",
    " \n",
    "**Warning:** A computer cannot actually describe arbitrarily small and large numbers – it approximates instead"
   ]
  },
  {
   "cell_type": "markdown",
   "id": "c027fac5",
   "metadata": {
    "slideshow": {
     "slide_type": "slide"
    }
   },
   "source": [
    "## Strings\n",
    "\n",
    " - A string is a sequence of characters. Strings can contain: \n",
    "   - Letters\n",
    "   - Numbers (treated as characters)\n",
    "   - Punctuation\n",
    "   - Spaces\n",
    "   - Combinations of the above\n",
    "   - Nothing at all\n"
   ]
  },
  {
   "cell_type": "code",
   "execution_count": null,
   "id": "d35c38ad",
   "metadata": {},
   "outputs": [],
   "source": [
    "# Letters\n",
    "letters = \"Hello\"\n",
    "\n",
    "# Numbers (treated as characters)\n",
    "numbers = \"12345\"\n",
    "\n",
    "# Punctuation\n",
    "punctuation = \"!?.,;;\"\n",
    "\n",
    "# Spaces\n",
    "spaces = \"   \" # three spaces\n",
    "\n",
    "# Combinations of the above\n",
    "combo = \"Hi123?! \"\n",
    "\n",
    "# Nothing at all (an empty string)\n",
    "empty = \"\""
   ]
  },
  {
   "cell_type": "markdown",
   "id": "a9d4f534",
   "metadata": {
    "slideshow": {
     "slide_type": "fragment"
    }
   },
   "source": [
    " - In practice, there are many things we may want to do with text in Python\n",
    "   - Split it into sentences\n",
    "   - Search through it\n",
    "   - Replace words\n",
    "   \n",
    "After todays practical you will be able to perform some of these operations!"
   ]
  },
  {
   "cell_type": "markdown",
   "id": "b58bd86b",
   "metadata": {
    "slideshow": {
     "slide_type": "slide"
    }
   },
   "source": [
    "## Booleans\n",
    "\n",
    " - A Boolean is  variable that can be either `True` or `False`\n",
    " - Booleans represent logical statements. \n",
    " - For instance, we might think of:\n",
    "\n",
    "   - `cat_is_black` as representing the sentence \"The cat is black\"\n",
    "   - `cat_has_four_legs` as representing the sentence \"The cat has four legs\"\n",
    " - We can use logical operators to combine Boolean statements\n",
    "   - `cat_is_black and cat_has_four_legs` represents the sentence \"The cat is black and has four legs\"\n"
   ]
  },
  {
   "cell_type": "code",
   "execution_count": null,
   "id": "d5fb089c",
   "metadata": {
    "slideshow": {
     "slide_type": "fragment"
    }
   },
   "outputs": [],
   "source": [
    "cat_is_black = True\n",
    "cat_has_four_legs = False\n",
    "print(cat_is_black and cat_has_four_legs)"
   ]
  },
  {
   "cell_type": "markdown",
   "id": "e5f9c40c",
   "metadata": {
    "slideshow": {
     "slide_type": "slide"
    }
   },
   "source": [
    "## Booleans\n",
    "\n",
    "\n",
    "<img src=\"./images/truth_table.png\" alt=\"Welcome page for the unit on Blackboard\" style=\"display:block;margin-left:auto;margin-right:auto;width:60%\"/>"
   ]
  },
  {
   "cell_type": "markdown",
   "id": "bf7bcaf4",
   "metadata": {
    "slideshow": {
     "slide_type": "slide"
    }
   },
   "source": [
    "## Collections\n",
    "\n",
    " - We've now seen some simple examples of datatypes:\n",
    "   - Numeric, strings, and booleans.\n",
    " - Data types don’t always have to be this simple!\n",
    "   - Sometimes we need data types that can hold more complex information.\n",
    " - We'll see more examples throughout the course but for now we'll provide just one\n",
    " - A collection is any in-built data type that can group multiple objects together.\n",
    " - The most common collection is a list: an ordered group of items.\n",
    "   - Lists let you store, organize, and work with many values at once.\n"
   ]
  },
  {
   "cell_type": "code",
   "execution_count": null,
   "id": "90606402",
   "metadata": {
    "slideshow": {
     "slide_type": "fragment"
    }
   },
   "outputs": [],
   "source": [
    "# A list of numbers\n",
    "scores = [10, 15, 20]\n",
    "\n",
    "# A List of strings\n",
    "shopping = [\"milk\", \"bread\", \"eggs\", \"cheese\"]\n",
    "\n",
    "# A mixed list (different data types together)\n",
    "mixed = [42, \"hello\"]"
   ]
  },
  {
   "cell_type": "markdown",
   "id": "bcaf6282",
   "metadata": {
    "slideshow": {
     "slide_type": "slide"
    }
   },
   "source": [
    "## Practical\n",
    "\n",
    " - We have students from a range of courses and backgrounds in this class\n",
    "   - Chemistry\n",
    "   - Physics\n",
    "   - Data Science\n",
    " - Some people in the room will have less experience than others\n",
    " - For the first few weeks, we shall try to account for the differences in ability where possible"
   ]
  },
  {
   "cell_type": "markdown",
   "id": "3c2d8016",
   "metadata": {},
   "source": [
    "## Practical\n",
    "\n",
    " - We now move over to Python\n",
    " - Please open [week_01_home.ipynb](./week_01_home.ipynb)\n",
    " - For the rest of today, you must work through a Python notebook\n",
    " - You have a choice of one of three options\n",
    "   - [Option 1: Beginner - Basic Data Types](week_01_intro_to_data_types_beginner.ipynb)\n",
    "   - [Option 2: Intermediate - Collections](week_01_intro_to_data_types_intermediate.ipynb)\n",
    "   - [Option 3: Advanced - Copying and References](week_01_intro_to_data_types_advanced.ipynb)"
   ]
  },
  {
   "cell_type": "code",
   "execution_count": null,
   "id": "9f25407f",
   "metadata": {},
   "outputs": [],
   "source": []
  }
 ],
 "metadata": {
  "celltoolbar": "Slideshow",
  "kernelspec": {
   "display_name": "Python 3 (ipykernel)",
   "language": "python",
   "name": "python3"
  },
  "language_info": {
   "codemirror_mode": {
    "name": "ipython",
    "version": 3
   },
   "file_extension": ".py",
   "mimetype": "text/x-python",
   "name": "python",
   "nbconvert_exporter": "python",
   "pygments_lexer": "ipython3",
   "version": "3.9.13"
  }
 },
 "nbformat": 4,
 "nbformat_minor": 5
}

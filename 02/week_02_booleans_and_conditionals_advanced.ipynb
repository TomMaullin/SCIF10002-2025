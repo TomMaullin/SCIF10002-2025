{
 "cells": [
  {
   "cell_type": "markdown",
   "id": "8a875b33-ae2a-4b4e-a6f0-a767bbf8377b",
   "metadata": {},
   "source": [
    "# Week 2: Booleans and Conditionals"
   ]
  },
  {
   "cell_type": "markdown",
   "id": "070e625c-a569-4824-91a4-a7112eed4f6a",
   "metadata": {},
   "source": [
    "# Advanced: Conditional Expressions and Lazy Evaluation"
   ]
  },
  {
   "cell_type": "markdown",
   "id": "ff67bdb6-8689-4764-9e6d-fbe3a5753f64",
   "metadata": {},
   "source": [
    "Welcome to the *Week 2 Advanced Python Notebook*. This notebook is designed for students who already have substantial experience with Python and feel confident working with both the [`Beginner`](./week_02_booleans_and_conditionals_beginner.ipynb) and [`Intermediate`](./week_02_booleans_and_conditionals_intermediate.ipynb) material.  \n",
    "\n",
    "Your task today is to carefully read through the content and complete the exercises at the end. These exercises are more challenging and are intended to deepen your understanding of how Python handles data behind the scenes.  \n",
    "\n",
    "> **Important:** This notebook is only recommended if you are already very confident with Python. Before beginning, you must have attempted at least $4$ exercises from both the [`Beginner`](./week_02_booleans_and_conditionals_beginner.ipynb) and [`Intermediate`](./week_02_booleans_and_conditionals_intermediate.ipynb) notebooks. If you have not done so, please return to those notebooks first, as the material here builds directly on the `Beginner` material and is substantially more complex than the `Intermediate`.  \n",
    "\n",
    "In this notebook, you will explore one-line `if` statements, conditional expressions and lazy evaluation. This will deepen your understanding of conditional logic and boolean operators in Python.  \n",
    "\n",
    "Work through the examples carefully, and take your time with the exercises. They are designed to stretch your understanding and prepare you for advanced applications of Python.  \n"
   ]
  },
  {
   "cell_type": "markdown",
   "id": "e62bf886",
   "metadata": {},
   "source": [
    "### Table of Contents\n",
    "\n",
    " - [Welcome Page](./week_02_home.ipynb)\n",
    "\n",
    " - [Beginner: If Statements](./week_02_booleans_and_conditionals_beginner.ipynb)\n",
    " - [Intermediate: Match Statements](./week_02_booleans_and_conditionals_intermediate.ipynb)\n",
    " - [**Advanced: Conditional Expressions and Lazy Evaluation**](./week_02_booleans_and_conditionals_advanced.ipynb)\n",
    "   - [Writing if statements on one line](#Writing-if-Statements-on-One-Line)\n",
    "   - [Conditional Expressions](#Conditional-Expressions)\n",
    "   - [Lazy Evaluation](#Lazy-Evaluation)\n",
    "   - [Exercises](#Exercises)\n",
    " - [Slides](./week_02_slides.ipynb) ([Powerpoint](./Lecture2_Booleans_and_Conditionals.pptx))"
   ]
  },
  {
   "cell_type": "markdown",
   "id": "fc51e680",
   "metadata": {},
   "source": [
    "> **Important:** In this notebook, we will build on the concept of an `if` statement, exploring more complex behaviour and syntax. To follow this material, you **must be familiar** with `if` statements as described in the [beginner notebook](./week_02_booleans_and_conditionals_beginner.ipynb). If you are unsure of `if` statements, please return to the [beginner notebook](./week_02_booleans_and_conditionals_beginner.ipynb) and work through this first!"
   ]
  },
  {
   "cell_type": "markdown",
   "id": "56b4928a",
   "metadata": {},
   "source": [
    "## Writing `if` Statements on One Line"
   ]
  },
  {
   "cell_type": "markdown",
   "id": "b4120c97",
   "metadata": {},
   "source": [
    "In Python, the syntax of an `if` statement appears as follows:"
   ]
  },
  {
   "cell_type": "code",
   "execution_count": null,
   "id": "249ab180",
   "metadata": {},
   "outputs": [],
   "source": [
    "# Assign a boolean variable\n",
    "my_boolean = True\n",
    "\n",
    "# If the boolean is true...\n",
    "if my_boolean:\n",
    "    \n",
    "    # Execute this code\n",
    "    print(\"Code executed.\")"
   ]
  },
  {
   "cell_type": "markdown",
   "id": "f108d8e5",
   "metadata": {},
   "source": [
    "Python actually allows the `if` statement above to be condensed to a single line, like so:"
   ]
  },
  {
   "cell_type": "code",
   "execution_count": null,
   "id": "a3cd7a25",
   "metadata": {},
   "outputs": [],
   "source": [
    "# If the boolean is true, execute this code\n",
    "if my_boolean: print(\"Code executed.\")"
   ]
  },
  {
   "cell_type": "markdown",
   "id": "afd6f258",
   "metadata": {},
   "source": [
    "If the `if` statement contains multiple lines of code, we can combine them onto a single line using semicolons `;`. For instance, the below code:"
   ]
  },
  {
   "cell_type": "code",
   "execution_count": null,
   "id": "13ce4d5c",
   "metadata": {},
   "outputs": [],
   "source": [
    "# If statement with multiple lines\n",
    "if my_boolean:\n",
    "    \n",
    "    # Execute this code\n",
    "    print(\"Code executed.\")\n",
    "    print(\"More code executed.\")"
   ]
  },
  {
   "cell_type": "markdown",
   "id": "32255cd0",
   "metadata": {},
   "source": [
    "is equivalent to:"
   ]
  },
  {
   "cell_type": "code",
   "execution_count": null,
   "id": "6e1810c5",
   "metadata": {},
   "outputs": [],
   "source": [
    "# If statement with multiple lines\n",
    "if my_boolean: print(\"Code executed.\"); print(\"More code executed.\")"
   ]
  },
  {
   "cell_type": "markdown",
   "id": "6a4e7e19",
   "metadata": {},
   "source": [
    "We can also place `elif` and `else` statements on a single line in a similar way. For instance, the below code:"
   ]
  },
  {
   "cell_type": "code",
   "execution_count": null,
   "id": "48fc3aa5",
   "metadata": {},
   "outputs": [],
   "source": [
    "# Numeric variable x\n",
    "x = 5\n",
    "\n",
    "if x > 6:\n",
    "    print('x is greater than 6') \n",
    "elif x > 4:\n",
    "    print('x is greater than 4')\n",
    "    print('... but not greater than 6')\n",
    "else:\n",
    "    print('x is less than or equal to 4')"
   ]
  },
  {
   "cell_type": "markdown",
   "id": "cd434350",
   "metadata": {},
   "source": [
    "can be converted to:"
   ]
  },
  {
   "cell_type": "code",
   "execution_count": null,
   "id": "d7d3d805",
   "metadata": {},
   "outputs": [],
   "source": [
    "# Numeric variable x\n",
    "x = 5\n",
    "\n",
    "if x > 6: print('x is greater than 6') \n",
    "elif x > 4: print('x is greater than 4'); print('... but not greater than 6')\n",
    "else: print('x is less than or equal to 4')"
   ]
  },
  {
   "cell_type": "markdown",
   "id": "bc5f1c34",
   "metadata": {},
   "source": [
    "In general, this sort of syntax is frowned upon, as it isn't very easy to read. Still, it's worth pointing out here, since it’s often mistaken for the more readable conditional expression syntax covered in the next section."
   ]
  },
  {
   "cell_type": "markdown",
   "id": "8dc14acf",
   "metadata": {},
   "source": [
    "## Conditional Expressions\n"
   ]
  },
  {
   "cell_type": "markdown",
   "id": "856a84b1",
   "metadata": {},
   "source": [
    "When you’re writing code, you'll often want a variable to take on one value in some situations and a different value in others. A straightforward way to do this is with an `if`–`else` statement, like this:"
   ]
  },
  {
   "cell_type": "code",
   "execution_count": null,
   "id": "645b4e6a",
   "metadata": {},
   "outputs": [],
   "source": [
    "# Compute the absolute value of x, |x|\n",
    "x = -3\n",
    "\n",
    "# If the temperat\n",
    "if x <= 0:\n",
    "    abs_x = -x\n",
    "else:\n",
    "    abs_x = x\n",
    "\n",
    "print(\"The absolute value of x is\", abs_x)"
   ]
  },
  {
   "cell_type": "markdown",
   "id": "a55dc083",
   "metadata": {},
   "source": [
    "However, the above code is quite verbose for quite a simple operation. Sometimes, it is more convenient to represent conditional definitions of this form using a *conditional expression*."
   ]
  },
  {
   "cell_type": "code",
   "execution_count": null,
   "id": "c08b4dbb",
   "metadata": {},
   "outputs": [],
   "source": [
    "# Compute the absolute value of x\n",
    "abs_x = -x if x <= 0 else x\n",
    "\n",
    "print(\"The absolute value of x is\", abs_x)"
   ]
  },
  {
   "cell_type": "markdown",
   "id": "2ad3c86a",
   "metadata": {},
   "source": [
    "Here the *conditional expression* consists of everything following the equals symbol. The general syntax for a conditional expression is:\n",
    "\n",
    "> `<expr1> if <conditional_expr> else <expr2>`\n",
    "\n",
    "When you run this, the `<conditional_expr>` expression in the center is evaluated first. If `<conditional_expr>` is evaluated as `True` then `<expr1>` is evaluated. Otherwise, `<expr2>` is evaluated."
   ]
  },
  {
   "cell_type": "markdown",
   "id": "73b41724",
   "metadata": {},
   "source": [
    "Note that this means it is possible that one of `<expr1>` or `<expr2>` are never evaluated. For instance, in the below code the first expression should give a division by zero, but because it is never evaluated, no error is thrown."
   ]
  },
  {
   "cell_type": "code",
   "execution_count": null,
   "id": "6fedb014",
   "metadata": {},
   "outputs": [],
   "source": [
    "# Non-zero y\n",
    "y = 3\n",
    "\n",
    "# This code does not give a divide by zero \n",
    "# as the 1/0 is not evaluated\n",
    "1/0 if y == 5 else y"
   ]
  },
  {
   "cell_type": "markdown",
   "id": "b315418f",
   "metadata": {},
   "source": [
    " > **Test your understanding:** How could you modify the above code to throw a division by zero error?"
   ]
  },
  {
   "cell_type": "markdown",
   "id": "e06144c1",
   "metadata": {},
   "source": [
    "We can incorporate conditional expressions into larger expressions using round brackets `()`. For instance, the below code computes $x+|x|$ for an input `x`."
   ]
  },
  {
   "cell_type": "code",
   "execution_count": null,
   "id": "84558f30",
   "metadata": {},
   "outputs": [],
   "source": [
    "# Variable x\n",
    "x = -2\n",
    "\n",
    "# Compute x + |x|\n",
    "result = x + (-x if x <= 0 else x)\n",
    "\n",
    "# Print the result\n",
    "print(result)"
   ]
  },
  {
   "cell_type": "markdown",
   "id": "0d03d9ca",
   "metadata": {},
   "source": [
    " > **Test your understanding:** Can you think of a way to compute `result` in the above using a single conditional expression, without adding `x`?"
   ]
  },
  {
   "cell_type": "markdown",
   "id": "e7a898aa",
   "metadata": {},
   "source": [
    "## Lazy Evaluation"
   ]
  },
  {
   "cell_type": "markdown",
   "id": "253e0322",
   "metadata": {},
   "source": [
    "A conditional expression is a good example of *lazy evaluation*. In general, an evaluation is called *lazy* if only the values that are actually needed are computed. For instance, in the example from the previous section, the expression `1/0` was never evaluated - it was skipped entirely as it wasn't needed - which is what makes the evaluation lazy."
   ]
  },
  {
   "cell_type": "markdown",
   "id": "4477cffd",
   "metadata": {},
   "source": [
    "The `and` and `or` operations we met last week are actually examples of *lazy operations*. We've already seen them used with Booleans, but in Python they can be applied to many other data types as well. Let’s start with a few quick examples:"
   ]
  },
  {
   "cell_type": "code",
   "execution_count": null,
   "id": "08c8dd25",
   "metadata": {},
   "outputs": [],
   "source": [
    "print(True and False)      # False\n",
    "print(5 and 10)            # 10\n",
    "print(0 and 99)            # 0\n",
    "print(\"hi\" and \"bye\")      # 'bye'"
   ]
  },
  {
   "cell_type": "markdown",
   "id": "cc9b711d",
   "metadata": {},
   "source": [
    "In the first line, both operands are Booleans, so the result is `False`. But in the later examples, the result is not a Boolean - it's one of the operands themselves. For instance, `5` and `10` returns `10`, while `0` and `99` returns `0`. To explain what's going on here, lets consider what happens when `x` and `y` are Booleans and we compute `x and y`."
   ]
  },
  {
   "cell_type": "code",
   "execution_count": null,
   "id": "e14307cc",
   "metadata": {},
   "outputs": [],
   "source": [
    "x = True\n",
    "y = False\n",
    "\n",
    "print(x and y)"
   ]
  },
  {
   "cell_type": "markdown",
   "id": "5d329651",
   "metadata": {},
   "source": [
    "If we were computing `x` and `y` by hand, we would naturally start by looking at `x`. If `x` is `False`, then the whole expression must also be `False` - because in an and both sides need to be true. There's no reason to even check `y`; we can just return the value of `x` (that is, `False`).\n",
    "\n",
    "If, on the other hand, `x` is `True`, then the overall result depends entirely on `y`. In that case, `x` and `y` is true if and only if `y` is true.\n",
    "\n",
    "So a simple way to describe the evaluation of `x` and `y` is:\n",
    "\n",
    " - If `x` is `False`, return `x`.\n",
    " - If `x` is `True`, return `y`.\n"
   ]
  },
  {
   "cell_type": "markdown",
   "id": "51355758",
   "metadata": {},
   "source": [
    "The same evaluation rules apply even when the operands are numbers, strings, or other kinds of objects. To make this work, Python treats every value as either truthy or falsy when it's used in a logical expression:\n",
    "\n",
    " - `Falsy` values behave like `False`. These include False itself, numeric zero (`0`, `0.0`, etc.), the empty string `\"\"`, empty containers like `[]` or `{}`, and None.\n",
    "\n",
    " - `Truthy` values behave like `True`. Almost everything else falls into this category: non-zero numbers, non-empty strings, non-empty lists, and so on.\n",
    " \n",
    "You can check whether a variable is `Truthy` or `Falsy` by casting it too a Boolean. For example:"
   ]
  },
  {
   "cell_type": "code",
   "execution_count": null,
   "id": "dd5be5e1",
   "metadata": {},
   "outputs": [],
   "source": [
    "print(bool(0))        # False ---> 0 is falsy\n",
    "print(bool(42))       # True  ---> non-zero numbers are truthy\n",
    "print(bool(\"\"))       # False ---> empty string is falsy\n",
    "print(bool(\"hello\"))  # True  ---> non-empty string is truthy\n"
   ]
  },
  {
   "cell_type": "markdown",
   "id": "cbc899aa",
   "metadata": {},
   "source": [
    "## Exercises"
   ]
  },
  {
   "cell_type": "markdown",
   "id": "62e8ad01",
   "metadata": {},
   "source": [
    "**Question 1:** Below are two variables `x` and `y`. Use a conditional expression to compute the maximum of `x` and `y`."
   ]
  },
  {
   "cell_type": "code",
   "execution_count": null,
   "id": "824fcf21",
   "metadata": {},
   "outputs": [],
   "source": [
    "# Variables x and y\n",
    "x = 4\n",
    "y = 2\n",
    "\n",
    "# Compute the maximum using a conditional expression\n",
    "max_xy = # Write your code here..."
   ]
  },
  {
   "cell_type": "markdown",
   "id": "e78c31d8-6c4c-42db-8bb6-05411118e75e",
   "metadata": {},
   "source": [
    "**Question 2:** Without running code, describe what you think would happen if you ran each of the following lines of code:\n",
    "\n",
    "\n",
    " - ```my_variable = True and 1/0```\n",
    " - ```my_variable = False and 1/0```\n",
    " - ```my_variable = str(False and 1/0)```\n",
    " - ```my_variable = str(False) and 1/0```\n",
    "\n",
    "Explain your answers."
   ]
  },
  {
   "cell_type": "markdown",
   "id": "8584a3e8",
   "metadata": {},
   "source": [
    "**Question 3:** The below code prints the statement \"This code is printed if my boolean is True.\" if `my_boolean` is `True`, but doesn't print anything otherwise. Explain why."
   ]
  },
  {
   "cell_type": "code",
   "execution_count": null,
   "id": "21911989",
   "metadata": {},
   "outputs": [],
   "source": [
    "my_boolean = True\n",
    "output = my_boolean and print(\"This code is printed if my boolean is True.\")"
   ]
  },
  {
   "cell_type": "markdown",
   "id": "5c23a154-2037-431d-b5bf-34343b32ce43",
   "metadata": {},
   "source": [
    "**Question 4:** Based on your answer to *Question 2*, use the `and` and `or` operators to write code which prints `\"A\"` if `my_boolean` is `True` and `\"B\"` otherwise. *Do not use `if` statements for this question*."
   ]
  },
  {
   "cell_type": "code",
   "execution_count": null,
   "id": "2025947f-7d72-4eb3-8d17-020ca697ae1a",
   "metadata": {},
   "outputs": [],
   "source": [
    "my_boolean = True\n",
    "\n",
    "# Write your code here..."
   ]
  },
  {
   "cell_type": "markdown",
   "id": "68679f66-9648-44d0-8b55-696c5dc1264f",
   "metadata": {},
   "source": [
    "**Question 5:** In the section on [Lazy Evaluation](#Lazy-Evaluation), we explained how the `and` operator evaluates `Truthy` and `Falsy` values by examining one variable at a time. Specifically, we saw that the expression `x` and `y` follows this rule:\n",
    "\n",
    " - If `x` is `Falsy`, return `x`.\n",
    "\n",
    " - If `x` is `Truthy`, return `y`.\n",
    "\n",
    "Using the same line of reasoning, derive the corresponding rule for the `or` operator. Write code in the box below to test your result."
   ]
  },
  {
   "cell_type": "code",
   "execution_count": null,
   "id": "89fcdf42-d60d-4c67-a0d0-4511478a53c3",
   "metadata": {},
   "outputs": [],
   "source": [
    "# Write your code here..."
   ]
  }
 ],
 "metadata": {
  "kernelspec": {
   "display_name": "Python 3 (ipykernel)",
   "language": "python",
   "name": "python3"
  },
  "language_info": {
   "codemirror_mode": {
    "name": "ipython",
    "version": 3
   },
   "file_extension": ".py",
   "mimetype": "text/x-python",
   "name": "python",
   "nbconvert_exporter": "python",
   "pygments_lexer": "ipython3",
   "version": "3.9.13"
  }
 },
 "nbformat": 4,
 "nbformat_minor": 5
}

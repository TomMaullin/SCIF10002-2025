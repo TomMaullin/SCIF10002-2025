{
 "cells": [
  {
   "cell_type": "markdown",
   "id": "3477015a-4d5f-4efb-8020-c9f8c57f9c3f",
   "metadata": {},
   "source": [
    "# Week 2: Booleans and Conditionals"
   ]
  },
  {
   "cell_type": "markdown",
   "id": "fe833309-2225-4691-b33e-b9de4893843d",
   "metadata": {},
   "source": [
    "# Beginner: If Statements"
   ]
  },
  {
   "cell_type": "markdown",
   "id": "6a22de51-abf4-490f-9be6-314003123b6d",
   "metadata": {},
   "source": [
    "Welcome to the *Week 2 Beginner Python Notebook*. This notebook is designed for students who are just starting out with the Python programming language.  \n",
    "\n",
    "Your task today is to read through the material carefully and complete the exercises provided at the end. These exercises are an important part of the learning process and will help you check your understanding.  \n",
    "\n",
    "> **Important:** You have three options for today’s work:  [`Beginner`](./week_02_booleans_and_conditionals_beginner.ipynb), [`Intermediate`](./week_02_booleans_and_conditionals_intermediate.ipynb), or [`Advanced`](./week_02_booleans_and_conditionals_advanced.ipynb). If you are new to Python, please choose this *Beginner* notebook. You will have plenty of opportunities later in the course to explore the other levels.  \n",
    "\n",
    "In this notebook, you will be introduced to the `if` statement; a powerful feature of Python that lets you control when certain pieces of code are executed.\n",
    "\n",
    "Be sure to work through the examples and attempt all the exercises. They are designed to reinforce your learning and build your confidence.  "
   ]
  },
  {
   "cell_type": "markdown",
   "id": "a8be57cf-1fac-4a0c-81ef-1e1728cf605c",
   "metadata": {},
   "source": [
    "### Table of Contents\n",
    "\n",
    " - [Welcome Page](./week_02_home.ipynb)\n",
    "\n",
    " - [**Beginner: If Statements**](./week_02_booleans_and_conditionals_beginner.ipynb)\n",
    "   - [Recap: Booleans](#Recap:-Booleans)\n",
    "   - [The `if` Statement](#The-if-Statement)\n",
    "   - [`else`](#else)\n",
    "   - [`elif`](#elif)\n",
    "   - [Worked Example: Determining a Leap Year](#Worked-Example:-Determining-a-Leap-Year)\n",
    "   - [Exercises](#Exercises)\n",
    " - [Intermediate: Match Statements](./week_02_booleans_and_conditionals_intermediate.ipynb)\n",
    " - [Advanced: Conditional Expressions and Lazy Evaluation](./week_02_booleans_and_conditionals_advanced.ipynb)\n",
    " - [Slides](./week_02_slides.ipynb) ([Powerpoint](./Lecture2_Booleans_and_Conditionals.pptx))"
   ]
  },
  {
   "cell_type": "markdown",
   "id": "b8982129-8748-4bf3-a6e8-14266710545f",
   "metadata": {},
   "source": [
    "## Recap: Booleans"
   ]
  },
  {
   "cell_type": "markdown",
   "id": "0f38fea8-0e49-499e-bba3-8dd61fc145a5",
   "metadata": {},
   "source": [
    "Last week, we met `Boolean` variables. These were variables which can take the values `True` or `False`."
   ]
  },
  {
   "cell_type": "code",
   "execution_count": null,
   "id": "eaa26de3-e667-455e-ae0e-8b0a11195600",
   "metadata": {},
   "outputs": [],
   "source": [
    "my_boolean = True\n",
    "print(my_boolean)"
   ]
  },
  {
   "cell_type": "markdown",
   "id": "eeb379bf-6964-4aa8-8d5e-7f0807a1dd99",
   "metadata": {},
   "source": [
    "We often create booleans by comparing other variables to one another:"
   ]
  },
  {
   "cell_type": "code",
   "execution_count": null,
   "id": "df7886fd-e604-4c39-935a-de38c173664f",
   "metadata": {},
   "outputs": [],
   "source": [
    "print(334 < 98)  # Less than\n",
    "\n",
    "print(76 == 70 + 6)  # Are they equal to each other?\n",
    "\n",
    "print(3.14159 != 22/7)  # Are they *not* equal to each other\n",
    "\n",
    "print(type(123) is str)  # Compare type of object - is 123 a string"
   ]
  },
  {
   "cell_type": "markdown",
   "id": "5b40a305-6520-49b7-be69-49bc72589a1e",
   "metadata": {},
   "source": [
    "We can save the value of a boolean comparison like so:"
   ]
  },
  {
   "cell_type": "code",
   "execution_count": null,
   "id": "3e1d53fb-b650-4cb0-aa28-c3766c098f05",
   "metadata": {},
   "outputs": [],
   "source": [
    "my_check = (334 < 98)\n",
    "print(my_check)   # True"
   ]
  },
  {
   "cell_type": "markdown",
   "id": "f509364a-37f0-4b92-a0d9-99e39cefe276",
   "metadata": {},
   "source": [
    "Python has several operators to combine or modify booleans:"
   ]
  },
  {
   "cell_type": "code",
   "execution_count": null,
   "id": "16334bbf-c462-4a00-a762-9c8ede8561f4",
   "metadata": {},
   "outputs": [],
   "source": [
    "a = True\n",
    "b = False\n",
    "\n",
    "print(\"not a:\", not a)       # Flips True -> False\n",
    "print(\"a and b:\", a and b)   # Both must be True\n",
    "print(\"a or b:\", a or b)     # At least one True\n",
    "print(\"a == b:\", a == b)     # Are they equal?\n",
    "print(\"a != b:\", a != b)     # Are they different?"
   ]
  },
  {
   "cell_type": "markdown",
   "id": "59c0e4d5-4ca2-475e-ae93-79a16ef8979d",
   "metadata": {},
   "source": [
    "To summarize:\n",
    " - Booleans are always either `True` or `False`.\n",
    " - Comparisons (`>`, `<`, `==`, `!=`, `in`) produce Boolean values.\n",
    " - Boolean operators (`not`, `and`, `or`) let us combine or flip conditions.\n",
    " \n",
    "Today, we shall look at using Booleans to perform *conditional operations*. That is, we shall write code which executes only when certain circumstances hold. To do so, we shall introduce the `if` statement."
   ]
  },
  {
   "cell_type": "markdown",
   "id": "5fb854f8-5ed3-45c7-b9fe-15ca3cdc0f95",
   "metadata": {},
   "source": [
    "## The `if` Statement"
   ]
  },
  {
   "cell_type": "markdown",
   "id": "36749aee-2e56-4b39-811b-1cc4b7f04309",
   "metadata": {},
   "source": [
    "An `if` statement allows you to run a block of code if and only if a boolean expression is `True`. Take the example in the following block, for instance. In this example, \"Positive\" is printed if the variable `my_number` is greater than $100$. "
   ]
  },
  {
   "cell_type": "code",
   "execution_count": null,
   "id": "a1b4b961-8f1e-4f4c-a32e-f5225dff2d7d",
   "metadata": {},
   "outputs": [],
   "source": [
    "# Set the value of the variable my_number\n",
    "my_number = 101\n",
    "\n",
    "# If my_number is greater than zero, print a message\n",
    "if my_number > 100:\n",
    "    \n",
    "    # Code inside the if statement\n",
    "    print(my_number, \"is large\")\n",
    "    \n",
    "# Code outside the if statement\n",
    "print(\"This is always printed\")"
   ]
  },
  {
   "cell_type": "markdown",
   "id": "cf780532-b33e-4b3b-aafd-342613752168",
   "metadata": {},
   "source": [
    " > **Test your understanding:** Try changing the value of `my_number` in the above code to be negative. Before moving on, think about what might be happening here; How do you think the `if` statement decides which statements to print?"
   ]
  },
  {
   "cell_type": "markdown",
   "id": "96bd9ee5-e441-48ee-a403-4fffa0b305c8",
   "metadata": {},
   "source": [
    "Let's break down exactly what is going on in this `if` statement.\n",
    "\n",
    "An `if` always follows the same layout. First, it must include the `if` keyword and a colon `:`, like so:\n",
    "\n",
    "<pre>\n",
    " ↓                ↓\n",
    "<b>if</b> my_number > 100<b>:</b>\n",
    "    print(my_number, \"is large\")\n",
    "</pre>\n",
    "\n",
    "In between the `if` and the `:`, we must place a boolean variable. The idea here is that we want our code to execute (run) if and only if this boolean is true. In our example the boolean is `my_number > 100`.\n",
    "\n",
    "<pre>\n",
    "          ↓\n",
    "if <b>my_number > 100</b>:\n",
    "    print(my_number, \"is large\")\n",
    "</pre>\n",
    "\n",
    "\n",
    "We next need to add a *body*. The body is the lines of code that will be run if the condition has been met:\n",
    "\n",
    "<pre>\n",
    "if my_number > 100:\n",
    "    <b>print(my_number, \"is large\")  ← body of the if statement</b>\n",
    "</pre>\n",
    "\n",
    "Python will only recognise code as being in the *body* of the if statement if it is indented. This means that all code in the body must be indented relative to the word `if` by four spaces. A trick to help remember this is that every time you see a colon in Python you should start a new line and indent:\n",
    "\n",
    "<pre>\n",
    "                <i>colon</i>\n",
    "                  ↓\n",
    "if my_number > 100<b>:</b>\n",
    "    print(my_number, \"is large\")\n",
    "  ↑\n",
    "<i>indentation</i>\n",
    "</pre>\n",
    "\n",
    "Code that is not indented will be treated as being outside the if statement and run in the usual manner.\n",
    "\n",
    "\n",
    "<pre>\n",
    "if my_number > 100<b>:</b>\n",
    "    print(my_number, \"is large\")\n",
    "\n",
    "<b>print(\"This is always printed\")  ← this code will always run as it is outside the if statement</b>\n",
    "</pre>"
   ]
  },
  {
   "cell_type": "markdown",
   "id": "ddee269c-e0c2-44f6-9f6d-e39378654b62",
   "metadata": {},
   "source": [
    "Here are some more examples of `if` statements."
   ]
  },
  {
   "cell_type": "code",
   "execution_count": null,
   "id": "c2a27b03-5e89-4211-a402-186fd1c96bab",
   "metadata": {},
   "outputs": [],
   "source": [
    "# Example 1: Check if a number is positive\n",
    "x = 5\n",
    "if x > 0:\n",
    "    print(\"x is positive\")\n",
    "\n",
    "\n",
    "# Example 2: Check if a string is not empty\n",
    "text = \"hello\"\n",
    "if len(text) != 0:\n",
    "    print(\"The string is not empty\")\n",
    "    print('In fact, it says', text)\n",
    "\n",
    "\n",
    "# Example 3: Check if a number is even\n",
    "num = 8\n",
    "if num % 2 == 0:\n",
    "    print(\"num is even\")\n",
    "\n",
    "\n",
    "# Example 4: Multiple independent if statements\n",
    "temperature = 30\n",
    "if temperature > 20:\n",
    "    print(\"It's warm outside\")\n",
    "if temperature > 25:\n",
    "    print(\"It's hot outside\")\n",
    "\n",
    "\n",
    "# Example 5 (nested if): Check if a number is positive AND even\n",
    "y = 12\n",
    "if y > 0:\n",
    "    print(\"y is positive\")\n",
    "    if y % 2 == 0:\n",
    "        print(\"y is also even\")"
   ]
  },
  {
   "cell_type": "markdown",
   "id": "25537c45-3379-47e1-8bf4-b0da820591ff",
   "metadata": {},
   "source": [
    "Note that, in the above examples, we have always defined our boolean variable directly between the `if` and colon `:`. We didn't have to do this; we could have instead defined the variable first like so:"
   ]
  },
  {
   "cell_type": "code",
   "execution_count": null,
   "id": "761b0192-13d6-4ee5-9aec-6ae9c9b47669",
   "metadata": {},
   "outputs": [],
   "source": [
    "# Example 1: Check if a number is positive\n",
    "x = 5\n",
    "\n",
    "# Boolean representing if x is positive\n",
    "x_is_positive = (x > 0)\n",
    "\n",
    "if x_is_positive:\n",
    "    print(\"x is positive\")"
   ]
  },
  {
   "cell_type": "markdown",
   "id": "6be28f85-5472-427b-a63e-c2d4f0f6c195",
   "metadata": {},
   "source": [
    "In practice, it’s often simpler not to define a separate boolean variable explicitly like we did above. Deciding whether to store something like `x_is_positive` depends partly on whether you’ll need to reuse it later and partly on personal preference."
   ]
  },
  {
   "cell_type": "markdown",
   "id": "0dda5465-6d1c-471f-b866-169f8a985b97",
   "metadata": {},
   "source": [
    "## `else`"
   ]
  },
  {
   "cell_type": "markdown",
   "id": "bc4a16f6-2159-46cd-aa2e-80d0a6399099",
   "metadata": {},
   "source": [
    "We've just seen that the body of an `if` statement will only run if the boolean is `True`. But what if we want to do one thing if it's true, but another if it's false? We can do this by attaching an `else` statement to the `if` statement, like so:"
   ]
  },
  {
   "cell_type": "code",
   "execution_count": null,
   "id": "c972789b-5975-46cf-870a-171236dc1b16",
   "metadata": {},
   "outputs": [],
   "source": [
    "my_number = 128\n",
    "\n",
    "if my_number > 100:\n",
    "    print(f\"{my_number} is large\") # This will run if the number is larger than 100\n",
    "else:\n",
    "    print(f\"{my_number} is not large\") # This will run otherwise"
   ]
  },
  {
   "cell_type": "markdown",
   "id": "ed848a11-a0b7-48e9-a191-4cdc957595a6",
   "metadata": {},
   "source": [
    "> **Warning:** The `else` statement must be at the same level of indentation as the `if` keyword. If not the code will throw an error, like so:"
   ]
  },
  {
   "cell_type": "code",
   "execution_count": null,
   "id": "1a0cb50c-1121-4fcf-8948-671b13c3a0fd",
   "metadata": {},
   "outputs": [],
   "source": [
    "my_number = 128\n",
    "\n",
    "if my_number > 100:\n",
    "    print(f\"{my_number} is large\") # This will run if the number is larger than 100\n",
    "else:\n",
    "print(f\"{my_number} is not large\") # This will run otherwise <------ not indented correctly"
   ]
  },
  {
   "cell_type": "markdown",
   "id": "8982943b-16ac-4f81-b0b1-23b7579793ae",
   "metadata": {},
   "source": [
    "## `elif`"
   ]
  },
  {
   "cell_type": "markdown",
   "id": "0e3426e3-cfa5-43ba-a2e6-8f589461dcff",
   "metadata": {},
   "source": [
    "Sometimes an `if-else` statement isn't enough, because you want to check more than two possibilities. For such situations, we can use the `elif` keyword.\n",
    "\n",
    "`elif` stands for ''else if''. It lets you add extra conditions to your decision-making. For instance:"
   ]
  },
  {
   "cell_type": "code",
   "execution_count": null,
   "id": "aae86b0a-d2f0-48cc-8b80-a9290c387d33",
   "metadata": {},
   "outputs": [],
   "source": [
    "my_number = 128\n",
    "\n",
    "if my_number > 100:\n",
    "    print(f\"{my_number} is large\")\n",
    "elif my_number < 0:\n",
    "    print(f\"{my_number} is negative\")\n",
    "else:\n",
    "    print(f\"{my_number} is not large\")\n"
   ]
  },
  {
   "cell_type": "markdown",
   "id": "b677759e-4805-41d2-8182-aba552a10d96",
   "metadata": {},
   "source": [
    "There are a few rules to keep in mind here:\n",
    "\n",
    " - The order matters: we start with `if`, then add as many `elif` statements as you need, and finish with an optional `else`.\n",
    " - You can only have one `if` and one `else`, but you can include any number of `elif` statements in between.\n",
    " - If one of the statements evaluates as `True`, the remaining code will not be executed, regardless of the truth of the remaining conditions.\n",
    " \n",
    "Here are some more examples of this concept in action."
   ]
  },
  {
   "cell_type": "code",
   "execution_count": null,
   "id": "9cb84c82-1cb3-42b6-9122-03428a60246f",
   "metadata": {},
   "outputs": [],
   "source": [
    "# Example 1: Checking temperatures\n",
    "temperature = 72\n",
    "\n",
    "if temperature > 90:\n",
    "    print(\"It's really hot!\")\n",
    "elif temperature > 70:\n",
    "    print(\"It's warm.\")\n",
    "elif temperature > 50:\n",
    "    print(\"It's cool.\")\n",
    "else:\n",
    "    print(\"It's cold.\")"
   ]
  },
  {
   "cell_type": "code",
   "execution_count": null,
   "id": "fac28fe7-80ed-4558-b6a8-44944a69db54",
   "metadata": {},
   "outputs": [],
   "source": [
    "# Example 2: Determining earthquake classification based on richter scale\n",
    "richter = 6.2\n",
    "\n",
    "if richter >= 7.0:\n",
    "    print(\"Major earthquake\")\n",
    "elif richter >= 5.0:\n",
    "    print(\"Moderate earthquake\")\n",
    "# here we have no else as smaller quakes may not be noteworthy"
   ]
  },
  {
   "cell_type": "code",
   "execution_count": null,
   "id": "07c847dd-623a-4e8a-a69e-6c3170af1ced",
   "metadata": {},
   "outputs": [],
   "source": [
    "# Example 3: Bus ticket based on age and student discount\n",
    "age = 19\n",
    "is_student = True\n",
    "\n",
    "# What ticket should we give the person?\n",
    "if age < 18:\n",
    "    print(\"Child ticket\")\n",
    "else:\n",
    "    print(\"Adult ticket\")\n",
    "    if is_student:\n",
    "        print(\"Student discount applied!\")"
   ]
  },
  {
   "cell_type": "markdown",
   "id": "b00bae3a-ab3e-40bd-a1db-6e7a423fc54e",
   "metadata": {},
   "source": [
    " > **Warning**: Indentation is crucial for `if` statements in python. You must indent blocks of code within if statements as this is how the blocks of code are delineated in python.\n",
    "\n",
    " > **Warning:** Make sure to remember the colon on the end of the `if`, `elif` and `else` statements! Without this Python, will throw an error. This error often causes many a headache for new Python users!"
   ]
  },
  {
   "cell_type": "markdown",
   "id": "4d369068-f0d5-40b9-9c52-774db3880740",
   "metadata": {},
   "source": [
    "## Worked Example: Determining a Leap Year"
   ]
  },
  {
   "cell_type": "markdown",
   "id": "505723d1-5fe1-4823-a2a2-8d05fa5d36d7",
   "metadata": {},
   "source": [
    "Say we wanted to determine whether a year is a leap year (a year with 366 days rather than the usual 365).\n",
    "\n",
    "The first thing we know is that a leap year generally happens every 4 years. So to start off we could impose the following condition:"
   ]
  },
  {
   "cell_type": "code",
   "execution_count": null,
   "id": "44b309aa-07fc-4799-a7d2-4b7cd6b3604c",
   "metadata": {},
   "outputs": [],
   "source": [
    "# Variable representing the year to check\n",
    "year = 2012\n",
    "\n",
    "# Check if the year is divisible by 4\n",
    "if year % 4 == 0:\n",
    "    leap_year = \"Yes\"\n",
    "else:\n",
    "    leap_year = \"No\"\n",
    "\n",
    "# Print result\n",
    "print(f\"Is {year} a leap year? {leap_year}\")"
   ]
  },
  {
   "cell_type": "markdown",
   "id": "0932be6a-3182-4116-9701-c14d54eb3925",
   "metadata": {},
   "source": [
    " > **Recall:** Last week, we saw that the `%` operator represents modular arithmetic. This means that `a % b` gives the remainder when `a` is divided by `b`. For example, `10 % 3` gives `1`. The above code works as if `year % 4` equals `0`, then the `year` must be divisible by `4`."
   ]
  },
  {
   "cell_type": "markdown",
   "id": "bb578568-d13a-412e-9ae3-b7b16739996d",
   "metadata": {},
   "source": [
    "The rules for determining leap years in the Gregorian calendar are a bit more nuanced than simply being divisible by $4$. In fact, if the year is also divisible by $100$, then it is not a leap year (e.g., $1800$, $1900$, $2100$).\n",
    "\n",
    "We need to add this new condition to our `if` statement. This can be done by combining `year % 4 == 0` and `year % 100 == 0` using an `and` clause:"
   ]
  },
  {
   "cell_type": "code",
   "execution_count": null,
   "id": "ec926160-ca8f-48a4-8e25-42601fcc6848",
   "metadata": {},
   "outputs": [],
   "source": [
    "year = 1900\n",
    "print(year % 4 == 0)\n",
    "print(year % 100 == 0)\n",
    "print(year % 4 == 0 and year % 100 == 0)"
   ]
  },
  {
   "cell_type": "markdown",
   "id": "41721d49-4168-4927-8b46-f7b23758e9c1",
   "metadata": {},
   "source": [
    "Let's try adding a new block to account for the situation where even if the year is divisible by $4$, if it is also divisible by $100$ it is *not* a leap year.\n"
   ]
  },
  {
   "cell_type": "code",
   "execution_count": null,
   "id": "015519b7-4a16-4fe5-9cae-57b50d9d753f",
   "metadata": {},
   "outputs": [],
   "source": [
    "year = 1900\n",
    "\n",
    "if year % 4 == 0:\n",
    "    leap_year = \"Yes\"\n",
    "elif year % 4 == 0 and year % 100 == 0:\n",
    "    leap_year = \"No\"\n",
    "else:\n",
    "    leap_year = \"No\"\n",
    "    \n",
    "print(f\"Is {year} a leap year? {leap_year}\")"
   ]
  },
  {
   "cell_type": "markdown",
   "id": "37d74982-dfcf-463d-8b3f-83689422f28d",
   "metadata": {},
   "source": [
    "But this isn't right - we saw above that $1900$ is *not* a leap year so this should say\n",
    "\n",
    "`Is 1900 a leap year? No`"
   ]
  },
  {
   "cell_type": "markdown",
   "id": "22cd8c84-b263-44ba-ab0e-471643562585",
   "metadata": {},
   "source": [
    "Let's go through this line by line. Python checks the first criteria in the `if` block `year % 4 == 0`:"
   ]
  },
  {
   "cell_type": "code",
   "execution_count": null,
   "id": "e4a35cf6-b6b5-4c86-967f-286692fc185a",
   "metadata": {},
   "outputs": [],
   "source": [
    "1900 % 4 == 0"
   ]
  },
  {
   "cell_type": "markdown",
   "id": "b30e7df0-0029-4eea-9b9f-f323a59b732e",
   "metadata": {},
   "source": [
    "As this boolean is true, the `if` statement stops when it is evaluated and exits without checking the other clauses."
   ]
  },
  {
   "cell_type": "markdown",
   "id": "54addf8d-3740-4a31-829a-66272b69432f",
   "metadata": {},
   "source": [
    "So how do we make sure Python checks the correct set of conditions first? To do this we have to think about the ordering of the clauses:"
   ]
  },
  {
   "cell_type": "code",
   "execution_count": null,
   "id": "83c84fa2-73f2-4561-8186-51e3be0192eb",
   "metadata": {},
   "outputs": [],
   "source": [
    "year = 1900\n",
    "\n",
    "if year % 4 == 0 and year % 100 == 0:\n",
    "    leap_year = \"No\"\n",
    "elif year % 4 == 0:\n",
    "    leap_year = \"Yes\"\n",
    "else:\n",
    "    leap_year = \"No\"\n",
    "    \n",
    "print(f\"Is {year} a leap year? {leap_year}\")"
   ]
  },
  {
   "cell_type": "markdown",
   "id": "ca4b694e-aaaa-4717-b5bf-09fa6f131c91",
   "metadata": {},
   "source": [
    "Now Python checks the more strict clause first and then exits when the condition `year % 100 == 0 and year % 4 == 0` is true:"
   ]
  },
  {
   "cell_type": "code",
   "execution_count": null,
   "id": "9bd6e98f-4706-43b6-983b-b17c1369c0df",
   "metadata": {},
   "outputs": [],
   "source": [
    "1900 % 100 == 0 and 1900 % 4 == 0"
   ]
  },
  {
   "cell_type": "markdown",
   "id": "6873acd4-1628-46ab-a623-5377e846470c",
   "metadata": {},
   "source": [
    "This updated `if` statement now gives us the behaviour we desired."
   ]
  },
  {
   "cell_type": "markdown",
   "id": "63d4baa0-e0c9-41de-a1a4-90af74ed7e75",
   "metadata": {},
   "source": [
    "## Exercises"
   ]
  },
  {
   "cell_type": "markdown",
   "id": "11c19567-bf2b-4a1d-a54e-7881c2f3f61f",
   "metadata": {},
   "source": [
    "**Question 1:** Create a string containing your last (or first) name. Write an `if` statement to check if the length of this string is greater than 8. If true, print \"The name is long\". \n",
    " \n",
    "*Hint: Recall the `len()` function can be used to check the length of strings.*"
   ]
  },
  {
   "cell_type": "code",
   "execution_count": null,
   "id": "5fe645a0-2462-43a2-8a07-1bc79cec009c",
   "metadata": {},
   "outputs": [],
   "source": [
    "# Write your code here..."
   ]
  },
  {
   "cell_type": "markdown",
   "id": "cbbda7bf-5454-4dcd-b502-b97f2438e5e0",
   "metadata": {},
   "source": [
    "**Question 2:** The [pH value of a liquid](https://www.bbc.co.uk/bitesize/guides/zf73382/revision/1) can be used to determine whether it is acidic, alkaline, or neutral. Write some code which uses the variable `ph_level` to assign the correct `liquid_type` (`\"acid\"`, `\"alkali\"`, or `\"neutral\"`). "
   ]
  },
  {
   "cell_type": "code",
   "execution_count": null,
   "id": "8c46a8cd-9e57-4379-9aee-f6285fee2305",
   "metadata": {},
   "outputs": [],
   "source": [
    "# The pH level\n",
    "ph_level = 6\n",
    "\n",
    "# Write your code here... \n",
    "\n",
    "# Your code must create a variable called liquid_type\n",
    "print(liquid_type)"
   ]
  },
  {
   "cell_type": "markdown",
   "id": "5f583d30-b3e2-4e53-8767-aaae7e947c87",
   "metadata": {},
   "source": [
    "Now, modify your code to set `liquid_type=\"unknown\"` if `ph_level` does not lie on the pH scale."
   ]
  },
  {
   "cell_type": "markdown",
   "id": "e20edf0e-d917-4031-8f05-aeccf1f50695",
   "metadata": {},
   "source": [
    "**Question 3:** The following code is intended to classify the state of water based on its temperature in °C:"
   ]
  },
  {
   "cell_type": "code",
   "execution_count": null,
   "id": "c9591ff0-a814-42f7-872c-23edd7d60df5",
   "metadata": {},
   "outputs": [],
   "source": [
    "# Temperature in degrees celcius\n",
    "temperature = 120 \n",
    "\n",
    "if temperature > 0:\n",
    "    state = \"liquid\"\n",
    "elif temperature > 100:\n",
    "    state = \"gas\"\n",
    "else:\n",
    "    state = \"solid\"\n",
    "\n",
    "print(\"State of water:\", state)"
   ]
  },
  {
   "cell_type": "markdown",
   "id": "5895bc02-6a0d-4a41-9c50-6ac536708297",
   "metadata": {},
   "source": [
    "However, when you run the code with `temperature = 120`, the output is:\n",
    "\n",
    "```State of water: liquid```"
   ]
  },
  {
   "cell_type": "markdown",
   "id": "e7c2ec18-f384-4963-af4c-bc48f12b0a6b",
   "metadata": {},
   "source": [
    "But at 120 °C, water should be a gas, not a liquid! Explain why this program gives the wrong result and modify the code to give the correct result."
   ]
  },
  {
   "cell_type": "markdown",
   "id": "29261108-ff50-4664-9ffc-28941f93bd39",
   "metadata": {},
   "source": [
    "**Question 4:** In the code box below, the variable `day_number` represents the day of the year. For example, if `day_number = 8`, the date is January 8th, and if `day_number = 32`, the date is February 1st. Write an `if` statement that determines the current month based on the value of `day_number`. *You may assume the year is not a leap year and that `day_number` is an integer strictly greater than `0` and strictly less than `366`.*"
   ]
  },
  {
   "cell_type": "code",
   "execution_count": null,
   "id": "ef4a6815-5e22-461a-a177-5037fb1846ed",
   "metadata": {},
   "outputs": [],
   "source": [
    "# The number of days so far this year\n",
    "day_number = 87\n",
    "\n",
    "# Write your code here..."
   ]
  },
  {
   "cell_type": "markdown",
   "id": "a456b0e1-622f-4572-b59d-59cb63cf2a9d",
   "metadata": {},
   "source": [
    "**Question 5:** Now suppose you want to adapt your code from Question 4 so that `day_number` can fall outside the usual range of `1` to `365`. For example, `day_number = 366` should \"wrap around\" to January 1st, while day_number = 0 should correspond to December 31st. How would you modify your if statement to handle this? Write your code below. *For simplicity, you may continue to ignore leap years.*"
   ]
  },
  {
   "cell_type": "code",
   "execution_count": null,
   "id": "36fd01df-5aa7-4081-a1c5-6019ff059792",
   "metadata": {},
   "outputs": [],
   "source": [
    "# The number of days\n",
    "day_number = 399\n",
    "\n",
    "# Write your code here..."
   ]
  },
  {
   "cell_type": "markdown",
   "id": "28caab2f-ccc7-4e11-8691-222f3cb7856c",
   "metadata": {},
   "source": [
    "*Hint: The `%` operator might be useful here!*"
   ]
  },
  {
   "cell_type": "markdown",
   "id": "78d02742-2e5b-40ab-8e11-a39901d86c2c",
   "metadata": {},
   "source": [
    "**Question 6:** The code below has a distance given in kilometres. Assuming 1 mile ≈ 1.60934 km, convert the distance in km to a distance given in miles. Write code which does the following:\n",
    "\n",
    "   - If the distance is greater than 2 miles, print \"Distance is more than 2 miles\".\n",
    "   - Print \"Distance is short\" if this condition is not met.\n",
    "   - Add an additional check if `distance_in_miles` is > 1 mile and print \"Distance is more than 1 mile\" if true."
   ]
  },
  {
   "cell_type": "code",
   "execution_count": null,
   "id": "d041b191-c5f0-40bf-ad55-2fbe91e5c49b",
   "metadata": {},
   "outputs": [],
   "source": [
    "# Initial distance in km\n",
    "distance_in_km = 3.0\n",
    "\n",
    "# Write your code here..."
   ]
  },
  {
   "cell_type": "markdown",
   "id": "4f28e808-2b56-4f2b-9e63-f1a08ea65166",
   "metadata": {},
   "source": [
    "**Question 7:** The leap year example given in the [worked example section](#Worked-Example:-Determining-a-Leap-Year) is incomplete. The full definition of a leap year is as follows;\n",
    "\n",
    " - A year is a leap year if it is divisible by $4$ but not by $100$.\n",
    "\n",
    "Unless...\n",
    "\n",
    " - If the year is divisible by $400$, then it is a leap year after all (e.g., $2000$, $2400$).\n",
    " \n",
    "Modify the example of the [worked example section](#Worked-Example:-Determining-a-Leap-Year) to incorporate this final bullet point."
   ]
  },
  {
   "cell_type": "code",
   "execution_count": null,
   "id": "08fcc326-845f-4f44-8fe3-946755931116",
   "metadata": {},
   "outputs": [],
   "source": [
    "# Write your code here..."
   ]
  },
  {
   "cell_type": "markdown",
   "id": "c5506abe-e2d4-4c42-8aaa-11a16f9b43de",
   "metadata": {},
   "source": [
    "**Question 8:** By performing your own research online, explain what the keyword `pass` does in the code below and why you might use it."
   ]
  },
  {
   "cell_type": "code",
   "execution_count": null,
   "id": "6f563b20-340d-4f50-b23e-3e47b21ebe2a",
   "metadata": {},
   "outputs": [],
   "source": [
    "# Set a boolean\n",
    "my_boolean = True\n",
    "\n",
    "# Check if the boolean is true\n",
    "if my_boolean:\n",
    "\n",
    "    pass"
   ]
  },
  {
   "cell_type": "markdown",
   "id": "62e2ce77-39a6-4cd2-831e-0d6c3609bacd",
   "metadata": {},
   "source": [
    "What do you think would happen if you removed the line with `pass` from the code above?"
   ]
  },
  {
   "cell_type": "markdown",
   "id": "2befbf35-f110-4395-9be1-ae7bb2dfd7bc",
   "metadata": {},
   "source": [
    "**Question 9:** FizzBuzz is a children's counting game played with the following rules:\n",
    "\n",
    " - Players take turns counting up from `1`.\n",
    " - If a number is divisible by `3`, say `\"Fizz\"`.\n",
    " - If a number is divisible by `5`, say `\"Buzz\"`.\n",
    " - If a number is divisible by both `3` and `5`, say `\"FizzBuzz\"`.\n",
    " - Otherwise, say the number itself (as a string).\n",
    "\n",
    "It's now your turn. You are given the previous player's answer, `prev_answer`, along with the number they just counted, `prev_num`. Using an `if`–`elif`–`else` statement, print the correct response for your turn."
   ]
  },
  {
   "cell_type": "code",
   "execution_count": null,
   "id": "ca7a6f51-4fbf-4ec7-b2ea-b98306e414bc",
   "metadata": {},
   "outputs": [],
   "source": [
    "# The previous player's answer\n",
    "prev_answer = \"Fizz\"\n",
    "\n",
    "# The previous player's number\n",
    "prev_number = 6\n",
    "\n",
    "# Write your code here..."
   ]
  },
  {
   "cell_type": "markdown",
   "id": "20e1fb71-db3e-422c-8469-9c1222ff607c",
   "metadata": {},
   "source": [
    "Modify your code so that if the previous player's answer was incorrect, your program prints a message pointing out the mistake before giving your own response."
   ]
  },
  {
   "cell_type": "markdown",
   "id": "04c939a7-0e93-40a6-91b9-0304d4bda7a1",
   "metadata": {},
   "source": [
    "**Question 10:** The code below contains a horrendous nested `if` statement. By combining cases using the `and` and `or` operators, reduce the long nested `if` statement to a single `if`–`elif` statement."
   ]
  },
  {
   "cell_type": "code",
   "execution_count": null,
   "id": "167407e1-2942-47cb-89fc-e3ae41e0e74a",
   "metadata": {},
   "outputs": [],
   "source": [
    "x = 30\n",
    "z = 4\n",
    "\n",
    "if z < 0:\n",
    "    if x < 4:\n",
    "        print(\"A\")\n",
    "    elif x < 15:\n",
    "        print(\"A\")\n",
    "    elif x > 30:\n",
    "        print(\"A\")\n",
    "    elif z > 20:\n",
    "        print(\"B\")\n",
    "    else:\n",
    "        if x < 20:\n",
    "            print(\"A\")\n",
    "        else:\n",
    "            print(\"B\")\n",
    "elif z < - 1:\n",
    "    print(\"B\")"
   ]
  }
 ],
 "metadata": {
  "kernelspec": {
   "display_name": "Python 3 (ipykernel)",
   "language": "python",
   "name": "python3"
  },
  "language_info": {
   "codemirror_mode": {
    "name": "ipython",
    "version": 3
   },
   "file_extension": ".py",
   "mimetype": "text/x-python",
   "name": "python",
   "nbconvert_exporter": "python",
   "pygments_lexer": "ipython3",
   "version": "3.9.13"
  }
 },
 "nbformat": 4,
 "nbformat_minor": 5
}

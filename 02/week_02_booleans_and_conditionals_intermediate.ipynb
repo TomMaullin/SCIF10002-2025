{
 "cells": [
  {
   "cell_type": "markdown",
   "id": "380c7fa8-58ff-4def-98a2-9096b6471e09",
   "metadata": {},
   "source": [
    "# Week 2: Booleans and Conditionals"
   ]
  },
  {
   "cell_type": "markdown",
   "id": "b9db4257-15fa-4450-b1f0-33c802d58574",
   "metadata": {},
   "source": [
    "# Intermediate: Match Statements"
   ]
  },
  {
   "cell_type": "markdown",
   "id": "4bfa5748-822f-4279-ae44-b3239e339d7e",
   "metadata": {},
   "source": [
    "Welcome to the *Week 2 Intermediate Python Notebook*. This notebook is designed for students who already have some experience with Python and are ready to build on the basics.  \n",
    "\n",
    "Your task today is to read through the material carefully and complete the exercises provided at the end. These exercises are designed to deepen your understanding and give you practical experience with new concepts.  \n",
    "\n",
    "> **Important:** Before starting this notebook, make sure you are confident with everything in the [`Beginner`](./week_02_booleans_and_conditionals_beginner.ipynb) notebook. You should be comfortable working with the `if` statement and attempt at least $4$ of the [`Beginner exercises`](./week_02_booleans_and_conditionals_beginner.ipynb#Exercises). The material in this notebook builds directly on those foundations.  \n",
    "\n",
    "In this notebook, you will explore a recent addition to Python: the `match` statement; a powerful tool for handling multiple conditions, particularly useful when your programs need to deal with many different cases.\n",
    "\n",
    "Be sure to work through the examples and attempt all the exercises. They are designed to help you practice, reinforce your learning, and prepare you for the more advanced topics ahead.  "
   ]
  },
  {
   "cell_type": "markdown",
   "id": "e62bf886",
   "metadata": {},
   "source": [
    "### Table of Contents\n",
    "\n",
    " - [Welcome Page](./week_02_home.ipynb)\n",
    "\n",
    " - [Beginner: If Statements](./week_02_booleans_and_conditionals_beginner.ipynb)\n",
    " - [**Intermediate: Match Statements**](./week_02_booleans_and_conditionals_intermediate.ipynb)\n",
    "   - [What is a `match` Statement?](#What-is-a-match-Statement?)\n",
    "   - [Converting Long `elif` Statements to `match`](#Converting-Long-elif-Statements-to-match)\n",
    "   - [Combining `match` and `if`](#Combining-match-and-if)\n",
    "   - [Exercises](#Exercises)\n",
    " - [Advanced: Conditional Expressions and Lazy Evaluation](./week_02_booleans_and_conditionals_advanced.ipynb)\n",
    " - [Slides](./week_02_slides.ipynb) ([Powerpoint](./Lecture2_Booleans_and_Conditionals.pptx))"
   ]
  },
  {
   "cell_type": "markdown",
   "id": "cbfbfd3d-3211-4c01-9ffa-acfb8f28319d",
   "metadata": {},
   "source": [
    "**Important:** This notebook includes features that were added to the Python programming language in Version `3.10`. For this reason, if you want to run the code in this notebook you need to select `Standard Python 3` rather than `Jupyter Classic (Legacy)` when opening `Noteable`. This will result in a slightly different interface opening. If you are confused by the new interface, please ask the lecturer or one of the demonstrators to help you get to grips."
   ]
  },
  {
   "cell_type": "markdown",
   "id": "57219a06-1aa1-4011-8f49-3f9cdd35e6fd",
   "metadata": {},
   "source": [
    "![Alt text](./images/change_python.png)"
   ]
  },
  {
   "cell_type": "markdown",
   "id": "0cc02aaa",
   "metadata": {},
   "source": [
    "## What is a `match` Statement?"
   ]
  },
  {
   "cell_type": "markdown",
   "id": "61c0247f-30a4-4412-8853-f83e549501f5",
   "metadata": {},
   "source": [
    "The `match` statement is a relatively new addition to Python, having been added in Python 3.10 in 2021. This statement can be used to compare the value of a variable to different many different patterns. When it finds a match, the code inside the corresponding `case` block runs.\n",
    "\n",
    "This is similar to using lots of `if`/`elif` checks, but can be cleaner and easier to read.\n",
    "\n",
    "Here’s a simple example:"
   ]
  },
  {
   "cell_type": "code",
   "execution_count": null,
   "id": "1ebf742b",
   "metadata": {},
   "outputs": [],
   "source": [
    "# Example 1: Traffic lights\n",
    "color = \"red\"\n",
    "\n",
    "match color:\n",
    "    case \"red\":\n",
    "        print(\"Stop! The light is red.\")\n",
    "    case \"green\":\n",
    "        print(\"Go! The light is green.\")\n",
    "    case \"yellow\":\n",
    "        print(\"Slow down! The light is yellow.\")\n",
    "    case _:\n",
    "        print(\"Unknown color.\")"
   ]
  },
  {
   "cell_type": "markdown",
   "id": "e6c02d7e-2c32-49d0-b899-74b7aec2f4a2",
   "metadata": {},
   "source": [
    "The above code tells us what to do if we see a specific color at a traffic light. In the code, we provide the color we have seen as a string (which has been set to `\"red\"` in the above) and the `match` statement will consider a number of cases one at a time, checking whether the color variable matches the value for that case. When it finds a match, it runs the code inside that case block.\n",
    "\n",
    "Note that in the final case we have an underscore, `_`. This simply means \"match anything that hasn't already matched.\" You can think of it like the `else` at the end of an `if`/`elif` statement. It serves as a \"catch-all\" to deal with any unexpected or unhandled values."
   ]
  },
  {
   "cell_type": "markdown",
   "id": "66132eff-66ff-4a7f-a35c-0d8f3d76cc2f",
   "metadata": {},
   "source": [
    " > **Test your understanding:** How might you modify the above code to allow case-sensitive examples such as `color=\"ReD\"` or `color=\"GreEn\"`? *Hint: recall the `lower()` function from the beginner notebook in Week 1.*"
   ]
  },
  {
   "cell_type": "code",
   "execution_count": null,
   "id": "d428b66f-c7ce-4232-be1e-8c32569d959f",
   "metadata": {},
   "outputs": [],
   "source": [
    "# Write your code here..."
   ]
  },
  {
   "cell_type": "markdown",
   "id": "74c590c9-42f9-44d9-a0b5-eeca4a284fe4",
   "metadata": {},
   "source": [
    "Sometimes, you may want several different inputs to trigger the same response. In such cases, instead of writing out separate `case` blocks for each value, we can group them together inside a single case using the pipe symbol, `|`. This lets us list several alternatives side by side, and if the variable matches any one of them, that case is chosen.\n",
    "\n",
    "For example, in the below code we group \"Saturday\" and \"Sunday\" together, since both are weekend days:"
   ]
  },
  {
   "cell_type": "code",
   "execution_count": null,
   "id": "e1f338f3-8df6-4bc0-85b7-758e277687c2",
   "metadata": {},
   "outputs": [],
   "source": [
    "# Grouping weekdays\n",
    "day = \"Saturday\"\n",
    "match day:\n",
    "    case \"Saturday\" | \"Sunday\":\n",
    "        print(\"It's the weekend!\")\n",
    "    case \"Monday\" | \"Tuesday\" | \"Wednesday\" | \"Thursday\" | \"Friday\":\n",
    "        print(\"It's a weekday.\")\n",
    "    case _:\n",
    "        print(\"Not a valid day.\")"
   ]
  },
  {
   "cell_type": "markdown",
   "id": "4722474c",
   "metadata": {},
   "source": [
    "## Converting Long `elif`  Statements to `match`"
   ]
  },
  {
   "cell_type": "markdown",
   "id": "3a1adeb8-2aeb-4f02-98b6-014b42db14fb",
   "metadata": {},
   "source": [
    "One of the biggest advantages of the `match` statement is how cleanly it handles data with complex structures.\n",
    "\n",
    "Suppose we want to represent different 3D solids using dictionaries. For example:"
   ]
  },
  {
   "cell_type": "code",
   "execution_count": null,
   "id": "b66e8afe-7547-4ce2-bd06-82ebb2a014c2",
   "metadata": {},
   "outputs": [],
   "source": [
    "solid_data = {\"type\": \"cylinder\", \"radius\": 3, \"height\": 10}"
   ]
  },
  {
   "cell_type": "markdown",
   "id": "3dd1c032-0504-4b2c-8e12-aff43b2bcbf4",
   "metadata": {},
   "source": [
    "> **Note:** If you are not yet comfortable with dictionaries, please review the week 1 intermediate notebook on `collections`. There you will find introductory material on the `dict` data type.\n",
    "\n",
    "Here, `solid_data` describes a cylinder with a given `radius` and `height`. We might also store information for other solids:"
   ]
  },
  {
   "cell_type": "code",
   "execution_count": null,
   "id": "96602a21-80c7-4537-bc68-77e6a4868ea9",
   "metadata": {},
   "outputs": [],
   "source": [
    "solid_data = {\"type\": \"sphere\", \"radius\": 5}\n",
    "solid_data = {\"type\": \"rectangular_prism\", \"width\": 2, \"height\":9, \"depth\":10}"
   ]
  },
  {
   "cell_type": "markdown",
   "id": "dcba1169-872e-4d43-808d-8e9227c9e169",
   "metadata": {},
   "source": [
    "Each solid requires different keys: a `sphere` has only a radius, a `rectangular prism` has `width`, `height`, and `depth`, while a `cylinder` needs both `radius` and `height`.\n",
    "\n",
    "Now imagine we want to compute the volume automatically, regardless of which solid is described. A natural first attempt is a long chain of `if`-`elif`-`else` statements:"
   ]
  },
  {
   "cell_type": "code",
   "execution_count": null,
   "id": "58225d13-487e-4e3d-9110-2183a7312af9",
   "metadata": {},
   "outputs": [],
   "source": [
    "if solid_data.get(\"type\") == \"sphere\":\n",
    "    r = solid_data.get(\"radius\")\n",
    "    if r:\n",
    "        volume = (4/3) * 3.14 * (r**3)\n",
    "elif solid_data.get(\"type\") == \"cube\":\n",
    "    s = solid_data.get(\"side\")\n",
    "    if s:\n",
    "        volume = s**3\n",
    "elif solid_data.get(\"type\") == \"rectangular_prism\":\n",
    "    w = solid_data.get(\"width\")\n",
    "    h = solid_data.get(\"height\")\n",
    "    d = solid_data.get(\"depth\")\n",
    "    if w and h and d:\n",
    "        volume = w * h * d\n",
    "elif solid_data.get(\"type\") == \"cylinder\":\n",
    "    r = solid_data.get(\"radius\")\n",
    "    h = solid_data.get(\"height\")\n",
    "    if r and h:\n",
    "        volume = 3.14 * (r**2) * h\n",
    "elif solid_data.get(\"type\") == \"cone\":\n",
    "    r = solid_data.get(\"radius\")\n",
    "    h = solid_data.get(\"height\")\n",
    "    if r and h:\n",
    "        volume = (1/3) * 3.14 * (r**2) * h\n",
    "else:\n",
    "    solid_data[\"type\"] = \"unknown\"\n",
    "    volume = \"unknown\"\n",
    "\n",
    "print(\"The \" + solid_data[\"type\"] + \" has  \" + str(volume) + \" volume\")"
   ]
  },
  {
   "cell_type": "markdown",
   "id": "07b55f1d",
   "metadata": {},
   "source": [
    "While this works, it quickly becomes unwieldy. Each branch requires lots of repetition (`.get()`, nested `if`s), and adding new shapes means adding even more clutter."
   ]
  },
  {
   "cell_type": "markdown",
   "id": "af507f9d-8ce3-4445-96b9-795284993bda",
   "metadata": {},
   "source": [
    "The `match` statement for this task is much simpler. This is in part due to some useful syntax; we can unpack the values inside the dictionary immediately, without using the `.get()` function as shown below:"
   ]
  },
  {
   "cell_type": "code",
   "execution_count": null,
   "id": "ce5a4a6c-6f04-4f06-9d58-69535667a2ce",
   "metadata": {},
   "outputs": [],
   "source": [
    "match data:\n",
    "    \n",
    "    case {\"type\": \"sphere\", \"radius\": r}:\n",
    "        volume = (4/3) * 3.14 * (r**3)\n",
    "    case {\"type\": \"cube\", \"side\": s}:\n",
    "        volume = s**3\n",
    "    case {\"type\": \"rectangular_prism\", \"width\": w, \"height\": h, \"depth\": d}:\n",
    "        volume = w * h * d\n",
    "    case {\"type\": \"cylinder\", \"radius\": r, \"height\": h}:\n",
    "        volume = 3.14 * (r**2) * h\n",
    "    case {\"type\": \"cone\", \"radius\": r, \"height\": h}:\n",
    "        volume = (1/3) * 3.14 * (r**2) * h\n",
    "    case _:\n",
    "        data[\"type\"] = \"unknown\"\n",
    "        volume = \"unknown\"\n",
    "\n",
    "print(\"The \" + data[\"type\"] + \" has  \" + str(volume) + \" volume\")"
   ]
  },
  {
   "cell_type": "markdown",
   "id": "2b4ae6b5-b15c-4bbb-bfc1-87d8a0d3ad95",
   "metadata": {},
   "source": [
    "This is much cleaner:\n",
    "\n",
    " - No need for repeated `.get()` calls\n",
    " - No nested `if` checks\n",
    " - Simple, readable `case` syntax\n",
    "\n",
    "And adding a new solid is now as simple as writing one more two-line case."
   ]
  },
  {
   "cell_type": "markdown",
   "id": "51787351",
   "metadata": {},
   "source": [
    "## Combining `match` and `if`"
   ]
  },
  {
   "cell_type": "markdown",
   "id": "dcb496a9",
   "metadata": {},
   "source": [
    "Another helpful feature of the `match` statement is that it can be modified to include conditionals, using an `if` guard. This works a lot like an `if` statement and allows you greater control over when `case`s are executed. The general syntax is:\n",
    "\n",
    "```\n",
    "match variable:\n",
    "    case pattern if condition:\n",
    "        # code to run\n",
    "```\n",
    "\n",
    "Here the code will be run if and only if the `variable` matches the `pattern` *and* the `condition` is satisfied.\n",
    "\n",
    "For example, suppose we're working with points in 2D space, which we write as a `tuple` and wish to describe whether they lie on the cartesian axes. Then we could do the following:"
   ]
  },
  {
   "cell_type": "code",
   "execution_count": null,
   "id": "e4af8f9b",
   "metadata": {},
   "outputs": [],
   "source": [
    "# Point in space\n",
    "point = (1, 5)\n",
    "\n",
    "# Match statement\n",
    "match point:\n",
    "    case (0, y) if y > 0:\n",
    "        location = \"on the positive y-axis\"\n",
    "    case (0, y) if y < 0:\n",
    "        location = \"on the negative y-axis\"\n",
    "    case (x, 0) if x > 0:\n",
    "        location = \"on the positive x-axis\"\n",
    "    case (x, 0) if x < 0:\n",
    "        location = \"on the negative x-axis\"\n",
    "    case (0, 0):\n",
    "        location = \"at the origin\"\n",
    "    case (x, y):\n",
    "        location = \"not on the axes\"\n",
    "\n",
    "# Describe where the point is\n",
    "print(f\"The point {point} is {location}.\")"
   ]
  },
  {
   "cell_type": "markdown",
   "id": "ebeac319",
   "metadata": {},
   "source": [
    "## Exercises"
   ]
  },
  {
   "cell_type": "markdown",
   "id": "dd703f14-ce1a-407e-b8df-cc10577294bd",
   "metadata": {},
   "source": [
    "**Question 1:** Extend the match statement in the [Combining `match` and `if`](#Combining-match-and-if) section so that it not only handles points on the axes, but also describes points in each of the four quadrants (upper right, lower right, lower left, upper left).\n",
    "\n",
    "*Hint: A 2D point lies in a quadrant when both $x$ and $y$ are nonzero. Use `if` guards to distinguish whether each coordinate is positive or negative.*"
   ]
  },
  {
   "cell_type": "code",
   "execution_count": null,
   "id": "4a988f5d",
   "metadata": {},
   "outputs": [],
   "source": [
    "# Write your answer here..."
   ]
  },
  {
   "cell_type": "markdown",
   "id": "49020be3-520f-4685-938a-d7d65cccc795",
   "metadata": {},
   "source": [
    "**Question 2:** Convert the below `if`-`elif`-`else` statement to a `match` statement:"
   ]
  },
  {
   "cell_type": "code",
   "execution_count": null,
   "id": "9b3306c0-c9bd-45c3-af36-43576e5e908c",
   "metadata": {},
   "outputs": [],
   "source": [
    "x = 2\n",
    "\n",
    "if x == 1:\n",
    "    print(\"one\")\n",
    "elif x == 2:\n",
    "    print(\"two\")\n",
    "elif x == 3:\n",
    "    print(\"three\")\n",
    "else:\n",
    "    print(\"something else\")"
   ]
  },
  {
   "cell_type": "markdown",
   "id": "12e43f10-6508-4a46-98d9-4891e195c2a6",
   "metadata": {},
   "source": [
    "**Question 3:**  You are given two numeric variables, `a` and `b`, along with an operator stored as a string (`\"+\"`, `\"-\"`, `\"*\"`, `\"/\"`). Use a `match` statement to apply the correct operation and display the result.  \n",
    "\n",
    "For example, if `operator = \"*\"`, the program should calculate and store `my_result = a * b`.  If the operator is not one of the four listed above, your code should print `\"Invalid operator\"`.  \n"
   ]
  },
  {
   "cell_type": "code",
   "execution_count": null,
   "id": "c4d3e76c-94cb-4e94-858e-27ae3a7ada93",
   "metadata": {},
   "outputs": [],
   "source": [
    "# Example input\n",
    "a = 10\n",
    "b = 5\n",
    "operator = \"*\"\n",
    "\n",
    "# Write your code here..."
   ]
  },
  {
   "cell_type": "markdown",
   "id": "99fe2a38-7ba5-452d-a3d3-4e0b1151a350",
   "metadata": {},
   "source": [
    "**Question 4:**  The variable `account` stores a tuple `(balance, currency)`, where `balance` is the amount of money a user has and `currency` is the unit of that balance. The unit will be one of `\"USD\"`, `\"EUR\"`, `\"GBP\"`, or `\"JPY\"`.  Your job is to convert this balance into another currency, stored in the variable `target_currency` (again, one of the four listed above).  \n",
    "\n",
    "Write a Python program using `match` statements to:  \n",
    "\n",
    "1. Convert `account` into the requested `target_currency` using the exchange rates provided below.  \n",
    "2. Print the resulting balance, formatted with the correct symbol:  \n",
    "   - `\"USD\"` → `\"$\"`  \n",
    "   - `\"EUR\"` → `\"€\"`  \n",
    "   - `\"GBP\"` → `\"£\"`  \n",
    "   - `\"JPY\"` → `\"¥\"`  \n",
    "\n",
    "If either `currency` (from `account`) or `target_currency` is not one of the four supported codes, print `\"Unsupported currency\"`.\n",
    "\n",
    "**Note:** You will have to look up the current exchange rates online (you need only use three significant figures for the conversion).\n",
    "\n",
    "*Hint: You may wish to use two match statements for this task; one converting to a single currency, say GBP, and another converting from GBP to the desired output currency.* \n",
    "\n",
    "*If you are unsure what a `Tuple` is, please revisit the `week 01 intermediate` notebook on collections.* "
   ]
  },
  {
   "cell_type": "code",
   "execution_count": null,
   "id": "fd1b9579-1aca-4633-bd49-6e198c2451ae",
   "metadata": {},
   "outputs": [],
   "source": [
    "# Example input\n",
    "account = (100, \"USD\")      # 100 dollars\n",
    "target_currency = \"EUR\"     # convert to euros\n",
    "\n",
    "# Write your answer here..."
   ]
  },
  {
   "cell_type": "markdown",
   "id": "e6de1d9d-9d61-445b-a45c-f7b019d81ea5",
   "metadata": {},
   "source": [
    "**Question 5:** In digital images, colors are represented using *RGB* values. An *RGB* value is a 3-tuple `(r, g, b)` that gives the intensity of the **r**ed, **g**reen, and **b**lue components of a color, each ranging from $0$ to $255$. For example, $(255, 0, 0)$ is bright red, $(0, 255, 0)$ is bright green, and $(0, 0, 0)$ is black.\n",
    "\n",
    "Write a program that takes an `(r, g, b)` tuple as input and uses a match statement to classify the tuple into one of the following color names:\n",
    "\n",
    " - `Red` if `r` is greater than `200` and both `g` and `b` are less than `50`.\n",
    " - `Green` if `g` is greater than `200` and both `r` and `b` are less than `50`.\n",
    " - `Blue` if `b` is greater than `200` and both `r` and `g` are less than `50`.\n",
    " - `Unknown` for any other combination.\n",
    "\n",
    "The color name should be saved as a string variable named `color_name`. Write your solution in the box below."
   ]
  },
  {
   "cell_type": "code",
   "execution_count": null,
   "id": "182dc11c-e5aa-4f9c-9732-5feba55fc5f3",
   "metadata": {},
   "outputs": [],
   "source": [
    "# Example rgb values\n",
    "rgb_values = (20,3,220)\n",
    "\n",
    "# Write your code here..."
   ]
  },
  {
   "cell_type": "markdown",
   "id": "dbba4eb6-9f73-460e-b893-8e52193d0096",
   "metadata": {},
   "source": [
    "*Hint: You may wish to use `if` guards for this question.*"
   ]
  }
 ],
 "metadata": {
  "kernelspec": {
   "display_name": "Python 3 (ipykernel)",
   "language": "python",
   "name": "python3"
  },
  "language_info": {
   "codemirror_mode": {
    "name": "ipython",
    "version": 3
   },
   "file_extension": ".py",
   "mimetype": "text/x-python",
   "name": "python",
   "nbconvert_exporter": "python",
   "pygments_lexer": "ipython3",
   "version": "3.9.13"
  }
 },
 "nbformat": 4,
 "nbformat_minor": 5
}

{
 "cells": [
  {
   "cell_type": "markdown",
   "id": "030baa97",
   "metadata": {
    "slideshow": {
     "slide_type": "slide"
    }
   },
   "source": [
    "# Introduction to Coding and Data Analysis for Scientists\n",
    "\n",
    "## Week 2: Booleans and Conditionals"
   ]
  },
  {
   "cell_type": "markdown",
   "id": "13291549",
   "metadata": {
    "slideshow": {
     "slide_type": "slide"
    }
   },
   "source": [
    "## Today's Lecture\n",
    "\n",
    " - Lecture 2: Booleans and Conditionals\n",
    "   - Recap: Accessing Noteable\n",
    "   - Recap: Booleans\n",
    "   - If statements\n",
    "   - Practical\n"
   ]
  },
  {
   "cell_type": "markdown",
   "id": "0aac6b68",
   "metadata": {
    "slideshow": {
     "slide_type": "slide"
    }
   },
   "source": [
    "## Why learn to code?\n",
    "\n",
    "Whichever course you are taking you will likely need to write code at some point\n",
    " - Chemistry\n",
    "    - Analyse experimental data\n",
    "    - Automate repetitive calculations\n",
    "    - Model chemical reactions/simulations\n",
    "    \n",
    "\n",
    "<img src=\"./images/chem.png\" alt=\"Welcome page for the unit on Blackboard\" style=\"display:block;margin-left:auto;margin-right:auto;width:60%\"/>"
   ]
  },
  {
   "cell_type": "markdown",
   "id": "36b52225",
   "metadata": {
    "slideshow": {
     "slide_type": "slide"
    }
   },
   "source": [
    "## Why learn to code?\n",
    "\n",
    "Whichever course you are taking you will likely need to write code at some point\n",
    " - Physics\n",
    "    - Simulate physical systems\n",
    "    - Process experimental measurements\n",
    "    - Visualise complex phenomena\n",
    "    \n",
    "\n",
    "<img src=\"./images/physics.png\" alt=\"Welcome page for the unit on Blackboard\" style=\"display:block;margin-left:auto;margin-right:auto;width:60%\"/>"
   ]
  },
  {
   "cell_type": "markdown",
   "id": "49e857a9",
   "metadata": {
    "slideshow": {
     "slide_type": "slide"
    }
   },
   "source": [
    "## Why learn to code?\n",
    "\n",
    "Whichever course you are taking you will likely need to write code at some point\n",
    " - Data Science\n",
    "    - Clean and organise datasets\n",
    "    - Apply statistical methods and machine learning\n",
    "    - Communicate insights with visualisations\n",
    "    \n",
    "\n",
    "<img src=\"./images/datsci.png\" alt=\"Welcome page for the unit on Blackboard\" style=\"display:block;margin-left:auto;margin-right:auto;width:60%\"/>"
   ]
  },
  {
   "cell_type": "markdown",
   "id": "40206f16",
   "metadata": {
    "slideshow": {
     "slide_type": "slide"
    }
   },
   "source": [
    "## Recap: Accessing Noteable\n",
    "\n",
    " - Open Blackboard\n",
    " - Go to `Introduction to Coding and Data Analysis for Scientists 2025`\n",
    " - Click `Unit Information and Resources`\n",
    " - Open Noteable\n",
    "   - Make sure `Jupyter Classic (Legacy)` is selected.\n",
    "   - Click Start\n",
    " - Click `+GitRepo`\n",
    " - Paste into Git Repository URL: `git@github.com:TomMaullin/SCIF10002-2025.git`\n",
    " - Press clone\n",
    "\n",
    "<img src=\"./images/noteable2.png\" alt=\"Welcome page for the unit on Blackboard\" style=\"display:block;margin-left:auto;margin-right:auto;width:20%\"/>"
   ]
  },
  {
   "attachments": {},
   "cell_type": "markdown",
   "id": "b30d36fc",
   "metadata": {
    "slideshow": {
     "slide_type": "slide"
    }
   },
   "source": [
    "## Recap: Last Time\n",
    "\n",
    " - Last week, we started looking at the Python language\n",
    " - We saw that variables can be assigned values using `=` \n",
    " - To display the values of variables we can use `print`\n"
   ]
  },
  {
   "cell_type": "code",
   "execution_count": null,
   "id": "019d1b0a",
   "metadata": {
    "slideshow": {
     "slide_type": "fragment"
    }
   },
   "outputs": [],
   "source": [
    "x = 5\n",
    "print(x)"
   ]
  },
  {
   "cell_type": "markdown",
   "id": "f67b3bf1",
   "metadata": {
    "slideshow": {
     "slide_type": "slide"
    }
   },
   "source": [
    "## Recap: Last Time\n",
    "\n",
    " - Variables have their own Data Types\n",
    "\n",
    "   - Strings are sequences of characters\n",
    "   - Floats are decimals, Ints are integers\n",
    "   - Booleans are `True/False` values\n",
    "   - Lists are ordered groups of items\n",
    " - We spent some time looking at various things we could do with some of these data types"
   ]
  },
  {
   "cell_type": "code",
   "execution_count": null,
   "id": "50666c9c",
   "metadata": {
    "slideshow": {
     "slide_type": "fragment"
    }
   },
   "outputs": [],
   "source": [
    "# Int\n",
    "x = 5\n",
    "\n",
    "# String\n",
    "letters = \"hello\"\n",
    "\n",
    "# Booleans \n",
    "cat_is_black = True\n",
    "\n",
    "# A list of strings\n",
    "shopping = [\"milk\", \"bread\", \"eggs\", \"cheese\"]"
   ]
  },
  {
   "cell_type": "markdown",
   "id": "495329f9",
   "metadata": {
    "slideshow": {
     "slide_type": "slide"
    }
   },
   "source": [
    "## Recap: Booleans\n",
    "\n",
    " - A Boolean is  variable that can be either `True` or `False`\n",
    " - Booleans represent logical statements. \n",
    " - For instance, we saw an example where:\n",
    "\n",
    "   - `cat_is_black` represented the sentence \"The cat is black\"\n",
    "   - `cat_has_four_legs` represented the sentence \"The cat has four legs\"\n",
    " - We can use logical operators to combine Boolean statements\n",
    "   - `cat_is_black and cat_has_four_legs` represented the sentence \"The cat is black and has four legs\"\n"
   ]
  },
  {
   "cell_type": "code",
   "execution_count": null,
   "id": "509df905",
   "metadata": {
    "slideshow": {
     "slide_type": "fragment"
    }
   },
   "outputs": [],
   "source": [
    "cat_is_black = True\n",
    "cat_has_four_legs = False\n",
    "print(cat_is_black and cat_has_four_legs)"
   ]
  },
  {
   "cell_type": "markdown",
   "id": "36565151",
   "metadata": {
    "slideshow": {
     "slide_type": "slide"
    }
   },
   "source": [
    "## Recap: Booleans\n",
    "\n",
    "\n",
    "<img src=\"./images/truth_table.png\" alt=\"Welcome page for the unit on Blackboard\" style=\"display:block;margin-left:auto;margin-right:auto;width:60%\"/>"
   ]
  },
  {
   "cell_type": "markdown",
   "id": "0bb38b49",
   "metadata": {
    "slideshow": {
     "slide_type": "slide"
    }
   },
   "source": [
    "## If Statements\n",
    "\n",
    " - We should be starting to feel comfortable with giving a computer instructions via code\n",
    " - But sometimes, we don’t want every line to run automatically\n",
    " - Instead, we may want Python to act only when a specific condition is true\n",
    " - This is where the `if` statement comes in...\n"
   ]
  },
  {
   "cell_type": "code",
   "execution_count": null,
   "id": "fc3cdec0",
   "metadata": {
    "slideshow": {
     "slide_type": "fragment"
    }
   },
   "outputs": [],
   "source": [
    "print(\"Hello World\")"
   ]
  },
  {
   "attachments": {},
   "cell_type": "markdown",
   "id": "31f1c79d",
   "metadata": {
    "slideshow": {
     "slide_type": "slide"
    }
   },
   "source": [
    "## If Statements\n",
    "\n",
    " - An if statement lets you run code when a Boolean statement is True"
   ]
  },
  {
   "cell_type": "code",
   "execution_count": null,
   "id": "bebd510d",
   "metadata": {
    "slideshow": {
     "slide_type": "fragment"
    }
   },
   "outputs": [],
   "source": [
    "# Integer value\n",
    "number = 5\n",
    "\n",
    "# Boolean value (true if number posiitve)\n",
    "my_boolean = number > 0\n",
    "\n",
    "# If the number is positive, print \"Positive number\"\n",
    "if my_boolean:\n",
    "    print(\"Positive number\")"
   ]
  },
  {
   "attachments": {},
   "cell_type": "markdown",
   "id": "972a4fa2",
   "metadata": {
    "slideshow": {
     "slide_type": "fragment"
    }
   },
   "source": [
    " - Indentation is important!\n",
    "    - Python tells what is in the body by looking at which code is indented!\n",
    " - Often we don’t bother naming the boolean, and instead write it directly inside the if statement"
   ]
  },
  {
   "cell_type": "code",
   "execution_count": null,
   "id": "5342a40c",
   "metadata": {
    "slideshow": {
     "slide_type": "fragment"
    }
   },
   "outputs": [],
   "source": [
    "# Integer value\n",
    "number = 5\n",
    "\n",
    "# If the number is positive, print \"Positive number\"\n",
    "if number > 0:\n",
    "    print(\"Positive number\")"
   ]
  },
  {
   "attachments": {},
   "cell_type": "markdown",
   "id": "9df58ede",
   "metadata": {
    "slideshow": {
     "slide_type": "slide"
    }
   },
   "source": [
    "## If Statements\n",
    "\n",
    " - We can also tell the if statement what to do when the Boolean is False by using `else`!"
   ]
  },
  {
   "cell_type": "code",
   "execution_count": null,
   "id": "9e5be060",
   "metadata": {
    "slideshow": {
     "slide_type": "fragment"
    }
   },
   "outputs": [],
   "source": [
    "# Integer value\n",
    "number = 5\n",
    "\n",
    "# If the number is positive, print \"Positive number\"\n",
    "if number > 0:\n",
    "    print(\"Positive number\")\n",
    "    \n",
    "# Otherwise, print \"Non-positive number\"\n",
    "else: \n",
    "    print(\"Non-positive number\")"
   ]
  },
  {
   "attachments": {},
   "cell_type": "markdown",
   "id": "4f0acd31",
   "metadata": {
    "slideshow": {
     "slide_type": "slide"
    }
   },
   "source": [
    "## If Statements\n",
    "\n",
    " - An `elif` (short for else if) can be added to check more extra conditions."
   ]
  },
  {
   "cell_type": "code",
   "execution_count": null,
   "id": "790b6687",
   "metadata": {
    "slideshow": {
     "slide_type": "fragment"
    }
   },
   "outputs": [],
   "source": [
    "# Integer value\n",
    "number = 5\n",
    "\n",
    "# If the number is positive, print \"Positive number\"\n",
    "if number > 0:\n",
    "    print(\"Positive number\")\n",
    "    \n",
    "# Otherwise, if the number is zero, print \"Zero\"\n",
    "elif number == 0:\n",
    "    print(\"Zero\")\n",
    "    \n",
    "# Otherwise, print \"Negative number\"\n",
    "else: \n",
    "    print(\"Negative number\")"
   ]
  },
  {
   "cell_type": "markdown",
   "id": "a380fc3a",
   "metadata": {
    "slideshow": {
     "slide_type": "fragment"
    }
   },
   "source": [
    " - Multiple `elif` can be added.\n"
   ]
  },
  {
   "cell_type": "markdown",
   "id": "9836ee26",
   "metadata": {
    "slideshow": {
     "slide_type": "slide"
    }
   },
   "source": [
    "## Practical\n",
    "\n",
    " - We now move over to Python\n",
    " - Please open [week_02_home.ipynb](./week_02_home.ipynb)\n",
    " - For the rest of today, you must work through a Python notebook\n",
    " - You have a choice of one of three options\n",
    "   - [Option 1: Beginner - If Statements](week_02_booleans_and_conditionals_beginner.ipynb)\n",
    "   - [Option 2: Intermediate - Match Statements](week_02_booleans_and_conditionals_intermediate.ipynb)\n",
    "   - [Option 3: Advanced - Conditional Expressions and Lazy Evaluation](week_02_booleans_and_conditionals_advanced.ipynb)"
   ]
  }
 ],
 "metadata": {
  "celltoolbar": "Slideshow",
  "kernelspec": {
   "display_name": "Python 3 (ipykernel)",
   "language": "python",
   "name": "python3"
  },
  "language_info": {
   "codemirror_mode": {
    "name": "ipython",
    "version": 3
   },
   "file_extension": ".py",
   "mimetype": "text/x-python",
   "name": "python",
   "nbconvert_exporter": "python",
   "pygments_lexer": "ipython3",
   "version": "3.9.13"
  }
 },
 "nbformat": 4,
 "nbformat_minor": 5
}

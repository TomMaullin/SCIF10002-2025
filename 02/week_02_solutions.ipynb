{
 "cells": [
  {
   "cell_type": "markdown",
   "id": "522539d1-7e66-476d-8430-a912792cf770",
   "metadata": {},
   "source": [
    "# Week 2: Solutions"
   ]
  },
  {
   "cell_type": "markdown",
   "id": "88dd90df-5e93-4828-af08-64ccc5b107af",
   "metadata": {},
   "source": [
    "This notebook contains the solutions to the week 2 `Beginner`, `Intermediate` and `Advanced` exercises."
   ]
  },
  {
   "cell_type": "markdown",
   "id": "e8062e1c-1b13-4a3b-b5c4-404a1b5f1a85",
   "metadata": {},
   "source": [
    "### Table of Contents\n",
    "\n",
    " - [Welcome Page](./week_02_home.ipynb)\n",
    "\n",
    " - [Beginner: If Statements](./week_02_booleans_and_conditionals_beginner.ipynb)\n",
    " - [Intermediate: Match Statements](./week_02_booleans_and_conditionals_intermediate.ipynb)\n",
    " - [Advanced: Conditional Expressions and Lazy Evaluation](./week_02_booleans_and_conditionals_advanced.ipynb)\n",
    "\n",
    " - [**Solutions**](./week_02_solutions.ipynb)\n",
    "     - [Beginner: If Statements](#Beginner:-If-Statements)\n",
    "     - [Intermediate: Match Statements](#Intermediate:-Match-Statements)\n",
    "     - [Advanced: Conditional Expressions and Lazy Evaluation](#Advanced:-Conditional-Expressions-and-Lazy-Evaluation)\n",
    " - [Slides](./week_02_slides.ipynb) ([Powerpoint](./Lecture2_Booleans_and_Conditionals.pptx))"
   ]
  },
  {
   "cell_type": "markdown",
   "id": "cdc6a51b-9125-4469-9ad7-94decff65ec0",
   "metadata": {},
   "source": [
    "## Beginner: If Statements"
   ]
  },
  {
   "cell_type": "markdown",
   "id": "f6de7fa2-106d-45ab-90a7-a8b0d3f4cf70",
   "metadata": {},
   "source": [
    "**Question 1:** The answer to this question is given below:"
   ]
  },
  {
   "cell_type": "code",
   "execution_count": null,
   "id": "76df5006-24e7-4254-a8cf-734632bc350e",
   "metadata": {},
   "outputs": [],
   "source": [
    "# Create a string containing your last (or first) name\n",
    "name = \"Anderson\"\n",
    "\n",
    "# Check if the length of the string is greater than 8\n",
    "if len(name) > 8:\n",
    "    print(\"The name is long\")"
   ]
  },
  {
   "cell_type": "markdown",
   "id": "1e4e9bc4-daea-41b1-9204-fed2299f8a20",
   "metadata": {},
   "source": [
    "**Question 2:** The code for this question is below."
   ]
  },
  {
   "cell_type": "code",
   "execution_count": null,
   "id": "016addf3-8aa5-4eb3-b58d-f043c2aab4b6",
   "metadata": {},
   "outputs": [],
   "source": [
    "# The pH level\n",
    "ph_level = 6\n",
    "\n",
    "if ph_level < 0 or ph_level > 14:\n",
    "    liquid_type = \"unknown\"\n",
    "elif ph_level < 7:\n",
    "    liquid_type = \"acid\"\n",
    "elif ph_level == 7:\n",
    "    liquid_type = \"neutral\"\n",
    "else:\n",
    "    liquid_type = \"alkali\"\n",
    "\n",
    "print(liquid_type)"
   ]
  },
  {
   "cell_type": "markdown",
   "id": "b3aa648a-b283-4f6d-8835-262690c2d092",
   "metadata": {},
   "source": [
    "**Question 3:** The problem with this code is that the boolean for the `if` evaluates as `True` when the `temperature` exceeds 100, so the `elif` is never executed. A simple solution would be to switch the order of the clauses like so:"
   ]
  },
  {
   "cell_type": "code",
   "execution_count": null,
   "id": "e9a99d19-8176-445d-9cb5-32d24abeaad1",
   "metadata": {},
   "outputs": [],
   "source": [
    "# Temperature in degrees celcius\n",
    "temperature = 120 \n",
    "\n",
    "if temperature > 100:\n",
    "    state = \"gas\"\n",
    "elif temperature > 0:\n",
    "    state = \"liquid\"\n",
    "else:\n",
    "    state = \"solid\"\n",
    "\n",
    "print(\"State of water:\", state)"
   ]
  },
  {
   "cell_type": "markdown",
   "id": "2439bbe5-1f84-4a33-9157-d344786c5a96",
   "metadata": {},
   "source": [
    "**Question 4:** The code for this question is below:"
   ]
  },
  {
   "cell_type": "code",
   "execution_count": null,
   "id": "116d9e61-5119-4b99-b085-b7ca9c536d2e",
   "metadata": {},
   "outputs": [],
   "source": [
    "# Example input\n",
    "day_number = 32   # February 1st\n",
    "\n",
    "# Work out the month\n",
    "if day_number <= 31:\n",
    "    month = \"January\"\n",
    "elif day_number <= 59:   # 31 + 28\n",
    "    month = \"February\"\n",
    "elif day_number <= 90:   # 59 + 31\n",
    "    month = \"March\"\n",
    "elif day_number <= 120:  # 90 + 30\n",
    "    month = \"April\"\n",
    "elif day_number <= 151:  # 120 + 31\n",
    "    month = \"May\"\n",
    "elif day_number <= 181:  # 151 + 30\n",
    "    month = \"June\"\n",
    "elif day_number <= 212:  # 181 + 31\n",
    "    month = \"July\"\n",
    "elif day_number <= 243:  # 212 + 31\n",
    "    month = \"August\"\n",
    "elif day_number <= 273:  # 243 + 30\n",
    "    month = \"September\"\n",
    "elif day_number <= 304:  # 273 + 31\n",
    "    month = \"October\"\n",
    "elif day_number <= 334:  # 304 + 30\n",
    "    month = \"November\"\n",
    "else:                    # 334 + 31\n",
    "    month = \"December\"\n",
    "\n",
    "print(month)"
   ]
  },
  {
   "cell_type": "markdown",
   "id": "70fb3d8e-7ba6-4ce4-9b3a-fd7588133831",
   "metadata": {},
   "source": [
    "**Question 5:** One potential solution to this question is given below:"
   ]
  },
  {
   "cell_type": "code",
   "execution_count": null,
   "id": "fb4ce968-61ee-43bd-ab77-d5e46c963b07",
   "metadata": {},
   "outputs": [],
   "source": [
    "# The number of days\n",
    "day_number = 399\n",
    "\n",
    "# Wrap the day_number so it always falls between 1 and 365\n",
    "day_number = day_number % 365\n",
    "if day_number == 0:\n",
    "    day_number = 365\n",
    "\n",
    "# Work out the month\n",
    "if day_number <= 31:\n",
    "    month = \"January\"\n",
    "elif day_number <= 59:   # 31 + 28\n",
    "    month = \"February\"\n",
    "elif day_number <= 90:   # 59 + 31\n",
    "    month = \"March\"\n",
    "elif day_number <= 120:  # 90 + 30\n",
    "    month = \"April\"\n",
    "elif day_number <= 151:  # 120 + 31\n",
    "    month = \"May\"\n",
    "elif day_number <= 181:  # 151 + 30\n",
    "    month = \"June\"\n",
    "elif day_number <= 212:  # 181 + 31\n",
    "    month = \"July\"\n",
    "elif day_number <= 243:  # 212 + 31\n",
    "    month = \"August\"\n",
    "elif day_number <= 273:  # 243 + 30\n",
    "    month = \"September\"\n",
    "elif day_number <= 304:  # 273 + 31\n",
    "    month = \"October\"\n",
    "elif day_number <= 334:  # 304 + 30\n",
    "    month = \"November\"\n",
    "else:                    # 334 + 31\n",
    "    month = \"December\"\n",
    "\n",
    "print(month)"
   ]
  },
  {
   "cell_type": "markdown",
   "id": "4dafed71-26d6-4916-914c-190cfcdfb817",
   "metadata": {},
   "source": [
    "**Question 6:** An answer to this question is given below."
   ]
  },
  {
   "cell_type": "code",
   "execution_count": null,
   "id": "c00fb72d-a613-458f-bece-a32312913294",
   "metadata": {},
   "outputs": [],
   "source": [
    "# Distance in kilometres\n",
    "distance_km = 3.0\n",
    "\n",
    "# Convert to miles\n",
    "distance_in_miles = distance_km / 1.60934\n",
    "\n",
    "# Check conditions\n",
    "if distance_in_miles > 2:\n",
    "    print(\"Distance is more than 2 miles\")\n",
    "else:\n",
    "    print(\"Distance is short\")\n",
    "\n",
    "if distance_in_miles > 1:\n",
    "    print(\"Distance is more than 1 mile\")"
   ]
  },
  {
   "cell_type": "markdown",
   "id": "faca1466-89df-4e45-bc59-fd1072751eec",
   "metadata": {},
   "source": [
    "**Question 7:** A solution to this question is given below:"
   ]
  },
  {
   "cell_type": "code",
   "execution_count": null,
   "id": "20f2d553-ee24-4a7b-b3f6-fd2c74cca698",
   "metadata": {},
   "outputs": [],
   "source": [
    "year = 1900\n",
    "\n",
    "if year % 400 == 0:                         # Added line\n",
    "    leap_year = \"Yes\"                       # Added line\n",
    "elif year % 4 == 0 and year % 100 == 0:    # if --> elif\n",
    "    leap_year = \"No\"\n",
    "elif year % 4 == 0:\n",
    "    leap_year = \"Yes\"\n",
    "else:\n",
    "    leap_year = \"No\"\n",
    "\n",
    "print(f\"Is {year} a leap year? {leap_year}\")"
   ]
  },
  {
   "cell_type": "markdown",
   "id": "76da996e-6f3a-4770-9afb-b9c27abcdcfb",
   "metadata": {},
   "source": [
    " > **Question 7:** This question may feel daunting to students at first. In reality, the solution only requires adding the first clause (`year % 400 == 0`). One way to help is to have students test a few example years on paper before coding so the logic becomes clearer. Only encourage them to start coding once you feel they have a strong conceptual grasp of the problem."
   ]
  },
  {
   "cell_type": "markdown",
   "id": "0484e86b-4423-4ce1-865a-032b38aa76f1",
   "metadata": {},
   "source": [
    "**Question 8:** The `pass` statement is a placeholder which effectively does nothing. If it were not there, we would have a `SyntaxError` as the `if` statement must contain code."
   ]
  },
  {
   "cell_type": "markdown",
   "id": "c9f3541e-e91e-40ed-8dfb-000662d5d0ed",
   "metadata": {},
   "source": [
    "**Question 9:** An answer to this question is given below:"
   ]
  },
  {
   "cell_type": "code",
   "execution_count": null,
   "id": "c913b0d4-b600-4f55-8b20-35a80161c9f5",
   "metadata": {},
   "outputs": [],
   "source": [
    "# The previous player's answer\n",
    "prev_answer = \"Fizz\"\n",
    "\n",
    "# The previous player's number\n",
    "prev_number = 6\n",
    "\n",
    "# Work out what the previous player's answer should have been\n",
    "if prev_number % 3 == 0 and prev_number % 5 == 0:\n",
    "    correct_prev = \"FizzBuzz\"\n",
    "elif prev_number % 3 == 0:\n",
    "    correct_prev = \"Fizz\"\n",
    "elif prev_number % 5 == 0:\n",
    "    correct_prev = \"Buzz\"\n",
    "else:\n",
    "    correct_prev = str(prev_number)\n",
    "\n",
    "# Check if their answer was correct\n",
    "if prev_answer != correct_prev:\n",
    "    print(f\"Oops! The previous player should have said '{correct_prev}', not '{prev_answer}'.\")\n",
    "\n",
    "# Work out and print your answer (for the next number)\n",
    "my_number = prev_number + 1\n",
    "\n",
    "if my_number % 3 == 0 and my_number % 5 == 0:\n",
    "    print(\"FizzBuzz\")\n",
    "elif my_number % 3 == 0:\n",
    "    print(\"Fizz\")\n",
    "elif my_number % 5 == 0:\n",
    "    print(\"Buzz\")\n",
    "else:\n",
    "    print(str(my_number))"
   ]
  },
  {
   "cell_type": "markdown",
   "id": "931a44aa-004f-4e6a-90d3-7a7dfdda795e",
   "metadata": {},
   "source": [
    "**Question 10:** The desired answer is below:"
   ]
  },
  {
   "cell_type": "code",
   "execution_count": null,
   "id": "915fe5b5-3436-4a9e-b9dd-af19a61fd37b",
   "metadata": {},
   "outputs": [],
   "source": [
    "x = 30\n",
    "z = 4\n",
    "\n",
    "if z < 0 and (x < 20 or x > 30):\n",
    "    print(\"A\")\n",
    "elif z < 0:\n",
    "    print(\"B\")"
   ]
  },
  {
   "cell_type": "markdown",
   "id": "bb8c3df6-2723-49ba-8cb6-df389f2eb206",
   "metadata": {},
   "source": [
    "An alternative is given by:"
   ]
  },
  {
   "cell_type": "code",
   "execution_count": null,
   "id": "f8c7b108-8ba6-42dc-8b74-5bc0de4032a0",
   "metadata": {},
   "outputs": [],
   "source": [
    "x = 30\n",
    "z = 4\n",
    "\n",
    "if z < 0 and (20 <= x <= 30):\n",
    "    print(\"B\")\n",
    "elif z < 0:\n",
    "    print(\"A\")"
   ]
  },
  {
   "cell_type": "markdown",
   "id": "27deff29-b7f5-46b3-b411-cd7fb438d680",
   "metadata": {},
   "source": [
    "## Intermediate: Match Statements"
   ]
  },
  {
   "cell_type": "markdown",
   "id": "58508b90-9217-414b-a4c2-02d33e3df247",
   "metadata": {},
   "source": [
    "**Question 1:** The answer to this question is given below:"
   ]
  },
  {
   "cell_type": "code",
   "execution_count": null,
   "id": "7e20405f-3ce3-4f2a-b935-ebaea9f53791",
   "metadata": {},
   "outputs": [],
   "source": [
    "# Point in space\n",
    "point = (1, 5)\n",
    "\n",
    "# Match statement\n",
    "match point:\n",
    "    case (0, y) if y > 0:\n",
    "        location = \"on the positive y-axis\"\n",
    "    case (0, y) if y < 0:\n",
    "        location = \"on the negative y-axis\"\n",
    "    case (x, 0) if x > 0:\n",
    "        location = \"on the positive x-axis\"\n",
    "    case (x, 0) if x < 0:\n",
    "        location = \"on the negative x-axis\"\n",
    "    case (0, 0):\n",
    "        location = \"at the origin\"\n",
    "    case (x, y) if x > 0 and y > 0:\n",
    "        location = \"in the upper right quadrant\"\n",
    "    case (x, y) if x > 0 and y < 0:\n",
    "        location = \"in the lower right quadrant\"\n",
    "    case (x, y) if x < 0 and y < 0:\n",
    "        location = \"in the lower left quadrant\"\n",
    "    case (x, y) if x < 0 and y > 0:\n",
    "        location = \"in the upper left quadrant\"\n",
    "\n",
    "# Describe where the point is\n",
    "print(f\"The point {point} is {location}.\")\n"
   ]
  },
  {
   "cell_type": "markdown",
   "id": "a5d492b2-35c5-4c80-ade5-1ea0d3b89552",
   "metadata": {},
   "source": [
    "**Question 2:** The solution to this question is given below:"
   ]
  },
  {
   "cell_type": "code",
   "execution_count": null,
   "id": "2976b0b7-1f97-4d3e-a451-0538ef90cbcf",
   "metadata": {},
   "outputs": [],
   "source": [
    "x = 2\n",
    "\n",
    "match x:\n",
    "    case 1:\n",
    "        print(\"one\")\n",
    "    case 2:\n",
    "        print(\"two\")\n",
    "    case 3:\n",
    "        print(\"three\")\n",
    "    case _:\n",
    "        print(\"something else\")\n"
   ]
  },
  {
   "cell_type": "markdown",
   "id": "afb47921-142b-4275-ad08-278d563aac0c",
   "metadata": {},
   "source": [
    "**Question 3:** A model answer is given below:"
   ]
  },
  {
   "cell_type": "code",
   "execution_count": null,
   "id": "5c1bb7e5-aa04-4e87-851c-6fad7df0be0d",
   "metadata": {},
   "outputs": [],
   "source": [
    "# Example input\n",
    "a = 10\n",
    "b = 5\n",
    "operator = \"*\"\n",
    "\n",
    "# Match statement to apply the operation\n",
    "match operator:\n",
    "    case \"+\":\n",
    "        my_result = a + b\n",
    "    case \"-\":\n",
    "        my_result = a - b\n",
    "    case \"*\":\n",
    "        my_result = a * b\n",
    "    case \"/\":\n",
    "        my_result = a / b\n",
    "    case _:\n",
    "        my_result = \"Invalid operator\"\n",
    "\n",
    "print(my_result)\n"
   ]
  },
  {
   "cell_type": "markdown",
   "id": "1c7a66b7-c6f3-4606-8559-988bb18b3efb",
   "metadata": {},
   "source": [
    "**Question 4:** An example solution is provided below:"
   ]
  },
  {
   "cell_type": "code",
   "execution_count": null,
   "id": "621307bb-a10e-4b6f-9807-bbca9a9ab0ed",
   "metadata": {},
   "outputs": [],
   "source": [
    "# Exchange rates as of Sept 6, 2025 (3 s.f.)\n",
    "GBP_TO_USD = 1.35\n",
    "GBP_TO_EUR = 1.15\n",
    "GBP_TO_JPY = 199\n",
    "\n",
    "# Example input\n",
    "account = (100, \"USD\")      # 100 dollars\n",
    "target_currency = \"EUR\"     # convert to euros\n",
    "\n",
    "# --- Step 1: convert original balance into GBP ---\n",
    "match account:\n",
    "    case (balance, \"GBP\"):\n",
    "        balance_gbp = balance\n",
    "    case (balance, \"USD\"):\n",
    "        balance_gbp = balance / GBP_TO_USD\n",
    "    case (balance, \"EUR\"):\n",
    "        balance_gbp = balance / GBP_TO_EUR\n",
    "    case (balance, \"JPY\"):\n",
    "        balance_gbp = balance / GBP_TO_JPY\n",
    "    case _:\n",
    "        balance_gbp = None\n",
    "\n",
    "# --- Step 2: convert GBP into target currency ---\n",
    "match target_currency:\n",
    "    case \"GBP\" if balance_gbp is not None:\n",
    "        print(f\"Balance: £{balance_gbp:.2f}\")\n",
    "    case \"USD\" if balance_gbp is not None:\n",
    "        print(f\"Balance: ${balance_gbp * GBP_TO_USD:.2f}\")\n",
    "    case \"EUR\" if balance_gbp is not None:\n",
    "        print(f\"Balance: €{balance_gbp * GBP_TO_EUR:.2f}\")\n",
    "    case \"JPY\" if balance_gbp is not None:\n",
    "        print(f\"Balance: ¥{balance_gbp * GBP_TO_JPY:.0f}\")\n",
    "    case _:\n",
    "        print(\"Unsupported currency\")\n"
   ]
  },
  {
   "cell_type": "markdown",
   "id": "a6a4b6e1-53ff-4327-88c3-054e8f8e82dd",
   "metadata": {},
   "source": [
    "**Question 5:** Below is a solution to this exercise:"
   ]
  },
  {
   "cell_type": "code",
   "execution_count": null,
   "id": "d68cf80f-f0aa-47f2-b8e6-b090a9dd9fba",
   "metadata": {},
   "outputs": [],
   "source": [
    "# Example rgb values\n",
    "rgb_values = (10,223,20)\n",
    "\n",
    "match rgb_values:\n",
    "\n",
    "    case (r,g,b) if (r > 200) and (g < 50) and (b < 50):\n",
    "\n",
    "        color_name = \"Red\"\n",
    "\n",
    "    case (r,g,b) if (g > 200) and (b < 50) and (r < 50):\n",
    "\n",
    "        color_name = \"Green\"\n",
    "\n",
    "    case (r,g,b) if (b > 200) and (r < 50) and (g < 50):\n",
    "\n",
    "        color_name = \"Blue\"\n",
    "\n",
    "    case _:\n",
    "\n",
    "        color_name = \"Unknown\"\n",
    "\n",
    "print(color_name)"
   ]
  },
  {
   "cell_type": "markdown",
   "id": "a74a0d5b-0caf-484c-9476-c9aff9765054",
   "metadata": {},
   "source": [
    "## Advanced: Conditional Expressions and Lazy Evaluation"
   ]
  },
  {
   "cell_type": "markdown",
   "id": "60fadeeb-4375-4a2f-a9d0-b93ceb9c9841",
   "metadata": {},
   "source": [
    "**Question 1:** An answer to this question is given below:"
   ]
  },
  {
   "cell_type": "code",
   "execution_count": null,
   "id": "cd0e923a-4b5b-4ee2-9fb5-1c6703377907",
   "metadata": {},
   "outputs": [],
   "source": [
    "# Variables x and y\n",
    "x = 4\n",
    "y = 2\n",
    "\n",
    "# Compute the maximum using a conditional expression\n",
    "max_xy = x if x > y else y\n",
    "\n",
    "# print the result\n",
    "print(max_xy)"
   ]
  },
  {
   "cell_type": "markdown",
   "id": "96016cd3-e785-4567-95ec-657f57240d0b",
   "metadata": {},
   "source": [
    " > **Demonstrator Notes:** The logic in this question is very similar to the absolute value example in the `Conditional Expressions` section. If students are unsure what to do here, begin by referring them back to this example."
   ]
  },
  {
   "cell_type": "markdown",
   "id": "c46faef0-00d8-487a-809c-473758e48cd1",
   "metadata": {},
   "source": [
    "**Question 2:** The answers to this question, alongside commented code are given below:"
   ]
  },
  {
   "cell_type": "code",
   "execution_count": null,
   "id": "59b18e18-2cdc-4e6d-8a23-97a8a3d6302a",
   "metadata": {},
   "outputs": [],
   "source": [
    "# my_variable = True and 1/0        # Division by zero error\n",
    "# my_variable = False and 1/0       # No error, False assigned to my_variable\n",
    "# my_variable = str(False and 1/0)  # No error, \"False\" assigned to my_variable\n",
    "# my_variable = str(False) and 1/0  # Division by zero error\n"
   ]
  },
  {
   "cell_type": "markdown",
   "id": "3061dd8f-c355-4c05-b88b-b0dace4e71b4",
   "metadata": {},
   "source": [
    "**Question 3:** When Python evaluates an and expression, it checks the left-hand side first.\n",
    "\n",
    " - If `my_boolean` is `True`, the right-hand side (`print(...)`) must also be evaluated, so the message is printed.\n",
    "\n",
    " - If `my_boolean` is `False`, Python stops immediately, as it knows the `and` must be `False`, and the right-hand side is never run - so nothing is printed."
   ]
  },
  {
   "cell_type": "markdown",
   "id": "3b590f50-ad7d-4b56-a5cb-fadffae46bce",
   "metadata": {},
   "source": [
    "**Question 4:** An answer to this question is given below:"
   ]
  },
  {
   "cell_type": "code",
   "execution_count": null,
   "id": "252b26ac-e6eb-465f-ae67-a22ec8216e55",
   "metadata": {},
   "outputs": [],
   "source": [
    "my_boolean = True\n",
    "\n",
    "# Answer\n",
    "output = (my_boolean and print(\"This code is printing\")) or (not my_boolean and print(\"This code is printing2\"))"
   ]
  },
  {
   "cell_type": "markdown",
   "id": "ce80c25b-b19d-4ff8-b272-551663147b96",
   "metadata": {},
   "source": [
    "**Question 5:** The rule for evaluating `x or y` is:\n",
    "\n",
    " - If `x` is `Truthy`, return `x`.\n",
    " - If `x` is `Falsy`, return `y`.\n",
    "\n",
    "This is the mirror image of how `and` works. Some example code is given by:"
   ]
  },
  {
   "cell_type": "code",
   "execution_count": null,
   "id": "6b782530-bf94-42de-be28-16d202cfc62c",
   "metadata": {},
   "outputs": [],
   "source": [
    "x = 0\n",
    "y = \"hello\"\n",
    "\n",
    "result = x or y\n",
    "print(result)   # Output: hello"
   ]
  }
 ],
 "metadata": {
  "kernelspec": {
   "display_name": "Python 3 (ipykernel)",
   "language": "python",
   "name": "python3"
  },
  "language_info": {
   "codemirror_mode": {
    "name": "ipython",
    "version": 3
   },
   "file_extension": ".py",
   "mimetype": "text/x-python",
   "name": "python",
   "nbconvert_exporter": "python",
   "pygments_lexer": "ipython3",
   "version": "3.12.7"
  }
 },
 "nbformat": 4,
 "nbformat_minor": 5
}

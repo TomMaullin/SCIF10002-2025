{
 "cells": [
  {
   "cell_type": "markdown",
   "id": "548ae12c-f1f9-4613-8967-cb173cfbeb1b",
   "metadata": {},
   "source": [
    "# Week 3: Loops"
   ]
  },
  {
   "cell_type": "markdown",
   "id": "d5596f1d-571a-4495-9096-5f93b2fd44a4",
   "metadata": {},
   "source": [
    "Welcome to the third week of the 2025 SCIF10002 Introduction to Coding and Data Analysis for Scientists course! This week we shall be looking at `for` and `while` loops!\n"
   ]
  },
  {
   "cell_type": "markdown",
   "id": "fc4c868f-165f-48df-8ed3-499339f02904",
   "metadata": {},
   "source": [
    "\n",
    " - [**Welcome Page**](./week_03_home.ipynb)\n",
    "   - [Today's Material](#Today's-Material)\n",
    "   - [Getting Help](#Getting-Help)\n",
    "\n",
    " - [Beginner: For and While Loops](./week_03_loops_beginner.ipynb)\n",
    " - [Intermediate: Advanced Iteration](./week_03_loops_intermediate.ipynb)\n",
    " - [Advanced: Comprehensions](./week_03_loops_advanced.ipynb)\n",
    " - [Slides](./week_03_slides.ipynb) ([Powerpoint](./Lecture3_Loops.pptx))"
   ]
  },
  {
   "cell_type": "markdown",
   "id": "aeb81e56-79ee-4dc3-8596-a90da9b4350d",
   "metadata": {},
   "source": [
    "## Today's Material"
   ]
  },
  {
   "cell_type": "markdown",
   "id": "2a97d52e-b132-4f36-962e-dc913eeb2a1c",
   "metadata": {},
   "source": [
    "In today's class, we shall focus on loops. As in the previous two classes, this week you have a choice of working through one of three notebooks.\n",
    "\n",
    "> **Important:** For today, please **choose just one of the options below**. You’ll have many opportunities to revisit the other concepts later in the course, so focus on building confidence with the Beginner material before tackling more advanced work."
   ]
  },
  {
   "cell_type": "markdown",
   "id": "bfe498c3-5aec-480c-b52d-49c879fd8d84",
   "metadata": {},
   "source": [
    "#### Option 1: Beginner\n",
    "\n",
    "If you have not spent much time coding in Python prior to taking this course, today you should work through the `for` and `while` loops notebook linked below:\n",
    "\n",
    "- [Beginner: For and While Loops](./week_03_loops_beginner.ipynb)\n",
    "\n",
    "This notebook will talk you through the basics of loops in Python. Please read through the text carefully and attempt all exercises!"
   ]
  },
  {
   "cell_type": "markdown",
   "id": "25f42f78-2712-4fad-9043-9364421044e0",
   "metadata": {},
   "source": [
    "#### Option 2: Intermediate\n",
    "\n",
    "This weeks intermediate notebook should only be taken by those who are very comfortable with the material in the [beginner](./week_03_loops_beginner.ipynb) notebook. Please ensure that you are able to complete the exercises in the [beginner](./week_03_loops_beginner.ipynb) notebook before attempting this option. The intermediate material for this week is given below:\n",
    "\n",
    " - [Intermediate: Advanced Iteration](./week_03_loops_intermediate.ipynb)\n",
    "\n",
    "This notebook will guide you through more advanced loop syntax such as iteration over dictionaries and the `zip` function."
   ]
  },
  {
   "cell_type": "markdown",
   "id": "b2dfe0eb-3c10-464e-88bf-ccefcf373bed",
   "metadata": {},
   "source": [
    "#### Option 3: Advanced\n",
    "\n",
    "If you are an experienced programmer with a strong grasp of Python, begin by reviewing the exercises in the notebooks below to ensure you are fully comfortable with the material:\n",
    "\n",
    "- [Beginner: For and While Loops](./week_03_loops_beginner.ipynb)  \n",
    "- [Intermediate: Advanced Iteration](./week_03_loops_intermediate.ipynb)\n",
    "\n",
    "Once you are confident in your understanding, move on to the following notebook:\n",
    "\n",
    "- [Advanced: Comprehensions](./week_03_loops_advanced.ipynb)\n",
    "\n",
    "This will introduce you to list, set, dict and generator comprehensions, and explain how they can be combined with conditional expressions. Please only attempt this notebook if you have a strong background in Python programming."
   ]
  },
  {
   "cell_type": "markdown",
   "id": "609cf23a-816c-4a42-a6bb-0d75beff9f23",
   "metadata": {},
   "source": [
    "## Getting Help"
   ]
  },
  {
   "cell_type": "markdown",
   "id": "8562e67c-0b20-4c22-823c-0d02595e59d5",
   "metadata": {},
   "source": [
    "There is a lot to remember when first learning Python. To get more help see the [Python API](https://docs.python.org/3/library/). Another useful link is the [W3 schools series on Python](https://www.w3schools.com/python/) which is very good, especially for new users. Another way to get help if you are ever unsure what a function is doing is to use the`help` function in the Python terminal like so:"
   ]
  },
  {
   "cell_type": "code",
   "execution_count": null,
   "id": "0fb1df59-78ab-4384-8ae0-7eef55b98068",
   "metadata": {
    "scrolled": true
   },
   "outputs": [],
   "source": [
    "help(print)"
   ]
  },
  {
   "cell_type": "markdown",
   "id": "7ce00485-b1fb-4513-849e-e824df912201",
   "metadata": {},
   "source": [
    "In class, you can ask for help from the lecturer, demonstrators and your peers around you. We advise you do not ask AI for help unless you are really stuck."
   ]
  }
 ],
 "metadata": {
  "kernelspec": {
   "display_name": "Python 3 (ipykernel)",
   "language": "python",
   "name": "python3"
  },
  "language_info": {
   "codemirror_mode": {
    "name": "ipython",
    "version": 3
   },
   "file_extension": ".py",
   "mimetype": "text/x-python",
   "name": "python",
   "nbconvert_exporter": "python",
   "pygments_lexer": "ipython3",
   "version": "3.9.13"
  }
 },
 "nbformat": 4,
 "nbformat_minor": 5
}

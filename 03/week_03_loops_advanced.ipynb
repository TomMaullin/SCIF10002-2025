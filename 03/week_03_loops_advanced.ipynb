{
 "cells": [
  {
   "cell_type": "markdown",
   "id": "a3c72054-77e0-4f8e-aab3-6fca6fc3c114",
   "metadata": {},
   "source": [
    "# Week 3: Loops"
   ]
  },
  {
   "cell_type": "markdown",
   "id": "383b3e73-dce0-46d3-ab60-daf1fec39a8b",
   "metadata": {},
   "source": [
    "# Advanced: Comprehensions"
   ]
  },
  {
   "cell_type": "markdown",
   "id": "f8bb9f60",
   "metadata": {},
   "source": [
    "Welcome to the *Week 3 Advanced Python Notebook*. This notebook is designed for students who already have substantial experience with writing loops in Python and are confidence on the material from the [`Beginner`](./week_03_loops_beginner.ipynb) and [`Intermediate`](./week_03_loops_intermediate.ipynb) material.  \n",
    "\n",
    "Your task today is to carefully read through the content and complete the exercises at the end. These exercises are more challenging and are intended to deepen your understanding of how Python handles data behind the scenes.  \n",
    "\n",
    "> **Important:** This notebook is only recommended if you are already very confident with Python. Before beginning, you must have attempted at least $4$ exercises from both the [`Beginner`](./week_02_loops_beginner.ipynb) and [`Intermediate`](./week_02_loops_intermediate.ipynb) notebooks. If you have not done so, please return to those notebooks first, as the material here builds directly on the `Beginner` material and is substantially more complex than the `Intermediate`.  \n",
    "\n",
    "In this notebook, you will explore comprehensions. Comprehensions are a short-hand syntax for creating collections from `for` loops and are extremely useful for condensing long code and improving readbility.  \n",
    "\n",
    "Work through the examples carefully, and take your time with the exercises. They are designed to stretch your understanding and prepare you for advanced applications of Python.  \n"
   ]
  },
  {
   "cell_type": "markdown",
   "id": "8cbe7cc0-850b-44fa-b29e-47330ae965f2",
   "metadata": {},
   "source": [
    "### Table of Contents\n",
    "\n",
    " - [Welcome Page](./week_03_home.ipynb)\n",
    "\n",
    " - [Beginner: For and While Loops](./week_03_loops_beginner.ipynb)\n",
    " - [Intermediate: Advanced Iteration](./week_03_loops_intermediate.ipynb)\n",
    " - [**Advanced: Comprehensions**](./week_03_loops_advanced.ipynb)\n",
    "     - [List Comprehensions](#List-Comprehensions)\n",
    "     - [Set Comprehensions](#Set-Comprehensions)\n",
    "     - [Dictionary Comprehensions](#Dictionary-Comprehensions)\n",
    "     - [Combining Conditionals and Comprehensions](#Combining-Conditionals-and-Comprehensions)\n",
    "     - [Generator Comprehensions](#Generator-Comprehensions)\n",
    "     - [Exercises](#Exercises)\n",
    " - [Slides](./week_03_slides.ipynb) ([Powerpoint](./Lecture3_Loops.pptx))\n"
   ]
  },
  {
   "cell_type": "markdown",
   "id": "721872c1",
   "metadata": {},
   "source": [
    "## List Comprehensions\n",
    "\n",
    "In this section, we shall look at a nice short-hand for creating a list using a `for` loop known as a *list comprehension*. To get started let's consider the following `for` loop:"
   ]
  },
  {
   "cell_type": "code",
   "execution_count": null,
   "id": "c78311fb",
   "metadata": {},
   "outputs": [],
   "source": [
    "# List of numbers\n",
    "numbers = [1,3,5,7,11]\n",
    "\n",
    "# Create a new empty list (we are going to fill this with numbers in a moment)\n",
    "numbers_squared = []\n",
    "\n",
    "# Loop through the list of numbers\n",
    "for number in numbers:\n",
    "    \n",
    "    # Add the square of each number to the new list\n",
    "    numbers_squared.append(number**2)\n",
    "    \n",
    "# Print the result\n",
    "print(numbers_squared)"
   ]
  },
  {
   "cell_type": "markdown",
   "id": "1c847170",
   "metadata": {},
   "source": [
    "Given a list of numbers, `numbers`, this code looks through the list one-by-one, squaring each element and saving it in the `numbers_squared` list. This code is nice, but quite long for a fairly simple operation."
   ]
  },
  {
   "cell_type": "markdown",
   "id": "162d0ab0",
   "metadata": {},
   "source": [
    "The same logic can be written more concisely with a *list comprehension* as follows:"
   ]
  },
  {
   "cell_type": "code",
   "execution_count": null,
   "id": "d4dd2f49",
   "metadata": {},
   "outputs": [],
   "source": [
    "# List of numbers\n",
    "numbers = [1,3,5,7,11]\n",
    "\n",
    "# Square the numbers\n",
    "numbers_squared = [number**2 for number in numbers]\n",
    "\n",
    "# Print the result\n",
    "print(numbers_squared)"
   ]
  },
  {
   "cell_type": "markdown",
   "id": "531158a0",
   "metadata": {},
   "source": [
    "As can be seen, we still have a lot of the syntax from the original `for` loop (we keep the keywords `for` and `in` for instance), but the code is now much shorter and potentially more readable."
   ]
  },
  {
   "cell_type": "markdown",
   "id": "726a1818",
   "metadata": {},
   "source": [
    "In general the syntax for a list comprehension is as follows:\n",
    "\n",
    "> ```result = [expression for item in iterable]```\n",
    "\n",
    "Let's break this down a little. In this syntax, we have:\n",
    "  - `iterable`: The sequence we loop over (e.g. a `list`, `string`, `range`,... etc).\n",
    "  - `item`: The variable representing the current element from the iterable.\n",
    "  - `expression`: What we want to calculate using `item`. \n",
    "  - `for... in`: These express the `for` loop itself.\n",
    "  - `[]`: This indicates that we are building a list.\n",
    "  - `result`: The variable we save the output to.\n",
    "  "
   ]
  },
  {
   "cell_type": "markdown",
   "id": "7f3c2e52",
   "metadata": {},
   "source": [
    "Here are two more examples of a list comprehensions:"
   ]
  },
  {
   "cell_type": "code",
   "execution_count": null,
   "id": "40a4c56a",
   "metadata": {},
   "outputs": [],
   "source": [
    "# Long string.\n",
    "my_string = \"Hello. I am a long string. I contain many letters and words. I even contain a few sentences.\"\n",
    "\n",
    "# List comprehension 1\n",
    "list_comprehension1 = [len(w) for w in my_string.split()]\n",
    "\n",
    "# List comprehension 2\n",
    "list_comprehension2 = [len(w) for w in my_string.split(\".\")]\n",
    "\n",
    "# Print the results\n",
    "print(list_comprehension1)\n",
    "print(list_comprehension2)"
   ]
  },
  {
   "cell_type": "markdown",
   "id": "894d6d3f",
   "metadata": {},
   "source": [
    " > **Test your understanding:** Using your knowledge of list comprehensions, explain what the above code is doing. What are the `list_comprehension1` and `list_comprehension2` lists counting? Why is the last element of `list_comprehension2` equal to zero?"
   ]
  },
  {
   "cell_type": "markdown",
   "id": "a016e1e7",
   "metadata": {},
   "source": [
    "List comprehensions are not the only type of comprehension in Python. The same concise syntax can be used to build *sets* and *dictionaries*."
   ]
  },
  {
   "cell_type": "markdown",
   "id": "cdf0eea4",
   "metadata": {},
   "source": [
    "## Set Comprehensions"
   ]
  },
  {
   "cell_type": "markdown",
   "id": "d1138e54",
   "metadata": {},
   "source": [
    "A *set comprehension* looks almost identical to a *list comprehension*, except that it uses curly braces `{}` instead of square brackets `[]`."
   ]
  },
  {
   "cell_type": "code",
   "execution_count": null,
   "id": "9582a92e",
   "metadata": {},
   "outputs": [],
   "source": [
    "# Example: square numbers using a set comprehension\n",
    "numbers = [1, 2, 3, -2, 4, 1]\n",
    "\n",
    "squares = {n**2 for n in numbers}\n",
    "print(squares)"
   ]
  },
  {
   "cell_type": "markdown",
   "id": "8e0e46aa",
   "metadata": {},
   "source": [
    "Notice that sets automatically remove duplicates. For instance, even both $-2$ and $2$ appear in the list, $4=2^2=(-2)^2$ appears only once in the set."
   ]
  },
  {
   "cell_type": "markdown",
   "id": "1604f7cf",
   "metadata": {},
   "source": [
    "The general syntax for a *set comprehension* is given by:\n",
    "\n",
    "> ```result = {expression for item in iterable}```\n",
    "\n",
    "This is identical to the expression for list comprehensions, except the square brackets have been replaced by curley braces."
   ]
  },
  {
   "cell_type": "markdown",
   "id": "a4bbc453",
   "metadata": {},
   "source": [
    "## Dictionary Comprehensions"
   ]
  },
  {
   "cell_type": "markdown",
   "id": "d1a374ac",
   "metadata": {},
   "source": [
    "A *dictionary comprehension* allows us to generate key–value pairs in a single line. The syntax is very similar to list and set comprehensions, but instead of just an expression, we provide a `key: value` pair for each item."
   ]
  },
  {
   "cell_type": "code",
   "execution_count": null,
   "id": "c60f1a05",
   "metadata": {},
   "outputs": [],
   "source": [
    "# Example: mapping words to their lengths\n",
    "words = [\"apple\", \"banana\", \"pear\", \"cherry\"]\n",
    "\n",
    "word_lengths = {word: len(word) for word in words}\n",
    "print(word_lengths)"
   ]
  },
  {
   "cell_type": "markdown",
   "id": "770aea94",
   "metadata": {},
   "source": [
    "To see what's happening under the hood, here's the same example written using a standard `for` loop:"
   ]
  },
  {
   "cell_type": "code",
   "execution_count": null,
   "id": "5113b36b",
   "metadata": {},
   "outputs": [],
   "source": [
    "words = [\"apple\", \"banana\", \"pear\", \"cherry\"]\n",
    "\n",
    "word_lengths = {}  # start with an empty dictionary\n",
    "for word in words:\n",
    "    word_lengths[word] = len(word)\n",
    "\n",
    "print(word_lengths)"
   ]
  },
  {
   "cell_type": "markdown",
   "id": "4d1bd814",
   "metadata": {},
   "source": [
    "Both versions create a dictionary that stores the fruit name as the key and its length as the value. The comprehension just combines the loop and assignment into a single, concise expression."
   ]
  },
  {
   "cell_type": "markdown",
   "id": "702527da",
   "metadata": {},
   "source": [
    "Again the syntax is similar here, but this time we have:\n",
    "\n",
    "> ```result = {key_expression: value_expression for item in iterable}```\n",
    "\n",
    "Notice that we are still using curly braces `{}`, just like in a set comprehension. The difference here is the colon (`:`) inside the braces. The colon tells Python we are building key-value pairs for a *dictionary* rather than a values for a *set*."
   ]
  },
  {
   "cell_type": "markdown",
   "id": "a7d6e8d4",
   "metadata": {},
   "source": [
    "## Combining Conditionals and Comprehensions"
   ]
  },
  {
   "cell_type": "markdown",
   "id": "5cb7527c",
   "metadata": {},
   "source": [
    "So far, we've seen comprehensions that apply the same operation to every element of an iterable. But often we want to be more selective. We might instead want to:\n",
    "\n",
    " - Only include items that meet some condition.\n",
    " - Or transform items differently depending on a condition.\n",
    "\n",
    "Comprehensions let us do both of these by combining them with *conditional expressions*."
   ]
  },
  {
   "cell_type": "markdown",
   "id": "4a5cf57a",
   "metadata": {},
   "source": [
    "**Filtering Items:** A conditional at the end of a comprehension can be keep items which satisfy a certain criteria and disregard others. For instance, the below list comprehension keeps only the even numbers:"
   ]
  },
  {
   "cell_type": "code",
   "execution_count": null,
   "id": "db83dac7",
   "metadata": {},
   "outputs": [],
   "source": [
    "# Example: keep only even numbers\n",
    "numbers = range(10)\n",
    "evens = [n for n in numbers if n % 2 == 0]\n",
    "print(evens)"
   ]
  },
  {
   "cell_type": "markdown",
   "id": "4e7fd330",
   "metadata": {},
   "source": [
    "This comprehension says:\n",
    "\n",
    " - loop through the numbers `0–9`,\n",
    " - check if each one is divisible by `2`,\n",
    " - and only keep those which are divisible by `2`.\n",
    "\n",
    "The equivalent for loop looks like this:"
   ]
  },
  {
   "cell_type": "code",
   "execution_count": null,
   "id": "dadf2cae",
   "metadata": {},
   "outputs": [],
   "source": [
    "numbers = range(10)\n",
    "evens = []\n",
    "for n in numbers:\n",
    "    if n % 2 == 0:\n",
    "        evens.append(n)\n",
    "\n",
    "print(evens)"
   ]
  },
  {
   "cell_type": "markdown",
   "id": "a38416f5",
   "metadata": {},
   "source": [
    "This same idea also works for sets and dictionaries:"
   ]
  },
  {
   "cell_type": "code",
   "execution_count": null,
   "id": "2296dd32",
   "metadata": {},
   "outputs": [],
   "source": [
    "# Set comprehension: keep even squares only\n",
    "even_squares = {n**2 for n in numbers if n % 2 == 0}\n",
    "print(even_squares) \n",
    "\n",
    "# Dict comprehension: keep only long words\n",
    "words = [\"ant\", \"elephant\", \"cat\", \"giraffe\"]\n",
    "long_words = {w: len(w) for w in words if len(w) > 3}\n",
    "print(long_words) "
   ]
  },
  {
   "cell_type": "markdown",
   "id": "eb77207a",
   "metadata": {},
   "source": [
    " > **Test your understanding:** Make sure you understand the above code before moving on. How would you modify the set comprehension to select odd numbers instead?"
   ]
  },
  {
   "cell_type": "markdown",
   "id": "4ebe7a4a",
   "metadata": {},
   "source": [
    "**Conditional Expressions Inside a Comprehension:** Instead of filtering, you can also use a conditional expression inside the comprehension to decide how to transform each item. Here every element is included, but its value depends on the condition."
   ]
  },
  {
   "cell_type": "code",
   "execution_count": null,
   "id": "1b3b9002",
   "metadata": {},
   "outputs": [],
   "source": [
    "# Example: classify numbers as \"even\" or \"odd\"\n",
    "classification = {n: (\"even\" if n % 2 == 0 else \"odd\") for n in range(6)}\n",
    "print(classification)"
   ]
  },
  {
   "cell_type": "markdown",
   "id": "5f717315",
   "metadata": {},
   "source": [
    "This comprehension says:\n",
    "\n",
    " - loop through the numbers `0–5`,\n",
    " - use the number as the key,\n",
    " - and store `\"even\"` or `\"odd\"` as the value depending on whether it divides by `2`.\n",
    "\n",
    "The equivalent for loop is given by:"
   ]
  },
  {
   "cell_type": "code",
   "execution_count": null,
   "id": "1c56f365",
   "metadata": {},
   "outputs": [],
   "source": [
    "classification = {}\n",
    "for n in range(6):\n",
    "    if n % 2 == 0:\n",
    "        classification[n] = \"even\"\n",
    "    else:\n",
    "        classification[n] = \"odd\"\n",
    "\n",
    "print(classification)"
   ]
  },
  {
   "cell_type": "markdown",
   "id": "3793e91a",
   "metadata": {},
   "source": [
    " > **Note:** Further information on conditional expressions can be found in the [week 2 advanced notebook](../02/week_02_booleans_and_conditionals_advanced.ipynb)."
   ]
  },
  {
   "cell_type": "markdown",
   "id": "f3258800",
   "metadata": {},
   "source": [
    "## Generator Comprehensions"
   ]
  },
  {
   "cell_type": "markdown",
   "id": "e63cf006",
   "metadata": {},
   "source": [
    "All the comprehensions we have seen so far (lists, sets, and dictionaries) build the entire collection as soon as you define them. Python loops through the iterable right away, computes every result, and stores them in memory.\n",
    "\n",
    "That is fine for small data, but if the sequence is very large the computation can use a lot of memory. Often we do not need to keep everything at once. Instead, it is better to produce values only when they are actually needed.\n",
    "\n",
    "A generator comprehension allows us to do exactly that. It looks just like a list comprehension, but uses round parentheses `()` instead of square brackets `[]`."
   ]
  },
  {
   "cell_type": "code",
   "execution_count": null,
   "id": "718b9006",
   "metadata": {},
   "outputs": [],
   "source": [
    "# Generator comprehension: squares of numbers\n",
    "numbers = range(5)\n",
    "squares = (n**2 for n in numbers)\n",
    "\n",
    "print(squares)           # <generator object ...>\n",
    "print(list(squares))     # [0, 1, 4, 9, 16]"
   ]
  },
  {
   "cell_type": "markdown",
   "id": "1d249164",
   "metadata": {},
   "source": [
    "Here, squares is not a list. It is a *generator object*. Instead of computing and storing all the values at once, it creates them one at a time as you iterate over it. This makes generator comprehensions memory efficient, since nothing is stored unnecessarily. They only ever evaluate on demand, producing values when the program asks for them.\n",
    "\n",
    "For example:"
   ]
  },
  {
   "cell_type": "code",
   "execution_count": null,
   "id": "7b5e33a5",
   "metadata": {},
   "outputs": [],
   "source": [
    "# Create a generator comprehension\n",
    "generator_comprehension = (n**2 for n in range(1000000))\n",
    "\n",
    "# Sum of squares without ever building a list in memory\n",
    "total = sum(generator_comprehension)\n",
    "print(total)"
   ]
  },
  {
   "cell_type": "markdown",
   "id": "67663604",
   "metadata": {},
   "source": [
    "This calculates the sum of a million squares efficiently because Python generates each square only when the `sum()` function requests it, and then discards it right away.\n",
    "\n",
    "Generator comprehensions are preferable when you need to perform computations that are larger than you can fit in memory. However, generator comprehensions can also be slower than list comprehensions, as they require more access to physical memory. In practice, which tool is best will depend upon the task you are doing. "
   ]
  },
  {
   "cell_type": "markdown",
   "id": "3b5c4dd1",
   "metadata": {},
   "source": [
    "## Exercises"
   ]
  },
  {
   "cell_type": "markdown",
   "id": "b318fc94",
   "metadata": {},
   "source": [
    "**Question 1:** From `range(1, 21)`, use a comprehension to create a set of the squares of the even numbers only."
   ]
  },
  {
   "cell_type": "code",
   "execution_count": null,
   "id": "63ef65b6",
   "metadata": {},
   "outputs": [],
   "source": [
    "# Write your code here..."
   ]
  },
  {
   "cell_type": "markdown",
   "id": "a729f426",
   "metadata": {},
   "source": [
    "**Question 2:** Below is a large integer."
   ]
  },
  {
   "cell_type": "code",
   "execution_count": null,
   "id": "4c4af998",
   "metadata": {},
   "outputs": [],
   "source": [
    "my_integer = 347892472349234"
   ]
  },
  {
   "cell_type": "markdown",
   "id": "c8c1a0f1",
   "metadata": {},
   "source": [
    "Using a list comprehension and the `sum` function, work out the sum of the digits of `my_integer`."
   ]
  },
  {
   "cell_type": "code",
   "execution_count": null,
   "id": "80463ffd",
   "metadata": {},
   "outputs": [],
   "source": [
    "# Write your code here..."
   ]
  },
  {
   "cell_type": "markdown",
   "id": "40c202f8",
   "metadata": {},
   "source": [
    "*Hint: Convert the integer to a string first and recall that strings are iterable!*"
   ]
  },
  {
   "cell_type": "markdown",
   "id": "5bbebd49",
   "metadata": {},
   "source": [
    "**Question 3:** In this question we shall call an integer that equals the sum of the cubes of it's digits \"pluriperfect\". For example $153$ is pluriperfect as $153=1^3+5^3+3^3$. Using the `range` function together with list comprehensions, compute all pluriperfect numbers between \n",
    "$0$ and $999$."
   ]
  },
  {
   "cell_type": "code",
   "execution_count": null,
   "id": "2fba3357",
   "metadata": {},
   "outputs": [],
   "source": [
    "# Write your code here..."
   ]
  },
  {
   "cell_type": "markdown",
   "id": "3d3070c4",
   "metadata": {},
   "source": [
    "*Hint: For this question, you can use the `sum` function, which sums the items in a list. You may find that you need more than one list comprehension for this task!*"
   ]
  },
  {
   "cell_type": "markdown",
   "id": "b002136c",
   "metadata": {},
   "source": [
    "**Question 4:** Below is a long string:"
   ]
  },
  {
   "cell_type": "code",
   "execution_count": null,
   "id": "93616ae9",
   "metadata": {},
   "outputs": [],
   "source": [
    "my_string = \"This is a lengthy string. It has many sentences. \" + \\\n",
    "            \"MaNY LetteRs aRe UpPer caSe. It might \" + \\\n",
    "            \"have these characters as well ?!,:-'... and numbers like \" + \\\n",
    "            \"123456789\"\n",
    "print(my_string)"
   ]
  },
  {
   "cell_type": "markdown",
   "id": "58157373",
   "metadata": {},
   "source": [
    "Using an appropriate choice of comprehension and conditional statements, compute and print the unique vowels in `my_string`. Your code should account for spaces, punctuation, numbers and case."
   ]
  },
  {
   "cell_type": "code",
   "execution_count": null,
   "id": "fbf434af",
   "metadata": {},
   "outputs": [],
   "source": [
    "# Write your code here..."
   ]
  },
  {
   "cell_type": "markdown",
   "id": "6fc5d7c8",
   "metadata": {},
   "source": [
    "*Hint: You might want to consider the `lower` function from week 1 and the membership test `in \"aeiou\"`.*"
   ]
  },
  {
   "cell_type": "markdown",
   "id": "bfea38d6",
   "metadata": {},
   "source": [
    "**Question 5:** The built-in function `max()` can be applied to any generator or iterable covered in this notebook. It returns the largest value in a numerical collection. Suppose you want to modify your code from question 3 to find the largest pluriperfect number less than `10000000000`. Which comprehension would be most appropriate for this task, and why? *You do not need to implement your answer for this question.*"
   ]
  }
 ],
 "metadata": {
  "kernelspec": {
   "display_name": "Python 3 (ipykernel)",
   "language": "python",
   "name": "python3"
  },
  "language_info": {
   "codemirror_mode": {
    "name": "ipython",
    "version": 3
   },
   "file_extension": ".py",
   "mimetype": "text/x-python",
   "name": "python",
   "nbconvert_exporter": "python",
   "pygments_lexer": "ipython3",
   "version": "3.9.13"
  }
 },
 "nbformat": 4,
 "nbformat_minor": 5
}

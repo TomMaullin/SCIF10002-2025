{
 "cells": [
  {
   "cell_type": "markdown",
   "id": "e32a7926-5317-435b-824e-03614b5a2f62",
   "metadata": {},
   "source": [
    "# Week 3: Loops"
   ]
  },
  {
   "cell_type": "markdown",
   "id": "ff106178-3ef4-46d0-8a75-0e753189cc61",
   "metadata": {},
   "source": [
    "# Beginner: For and While Loops"
   ]
  },
  {
   "cell_type": "markdown",
   "id": "b9d24a27-05ea-48dd-8985-a3806d4f2792",
   "metadata": {},
   "source": [
    "Welcome to the *Week 3 Beginner Python Notebook*. This notebook is designed for students who are just starting out with the Python programming language.  \n",
    "\n",
    "Your task today is to read through the material carefully and complete the exercises provided at the end. These exercises are an important part of the learning process and will help you check your understanding.  \n",
    "\n",
    "> **Important:** You have three options for today’s work:  [`Beginner`](./week_03_loops_beginner.ipynb), [`Intermediate`](./week_03_loops_intermediate.ipynb), or [`Advanced`](./week_03_loops_advanced.ipynb). If you are new to Python, please choose this *Beginner* notebook. You will have plenty of opportunities later in the course to explore the other levels.  \n",
    "\n",
    "In this notebook, you will be introduced to `loop`s. In particular, you will learn what an `iterator`, `iterable`, `for` loop and `while` loop are. Loops are fundamental to coding as they allow you to automatically repeat computations on a large scale.\n",
    "\n",
    "Be sure to work through the examples and attempt all the exercises. They are designed to reinforce your learning and build your confidence.  "
   ]
  },
  {
   "cell_type": "markdown",
   "id": "02019fa0-1b48-4774-8874-1172a003b7a5",
   "metadata": {},
   "source": [
    "### Table of Contents\n",
    "\n",
    " - [Welcome Page](./week_03_home.ipynb)\n",
    "\n",
    " - [**Beginner: For and While Loops**](./week_03_loops_beginner.ipynb)\n",
    "   - [Motivation](#Motivation)\n",
    "   - [Iterators and Iterables](#Iterators-and-Iterables)\n",
    "   - [`for` loops](#for-loops) \n",
    "   - [`while` loops](#while-loops)\n",
    "   - [Nested Loops](#Nested-Loops)\n",
    "   - [Exercises](#Exercises)\n",
    "\n",
    " - [Intermediate: Advanced Iteration](./week_03_loops_intermediate.ipynb)\n",
    " - [Advanced: Comprehensions](./week_03_loops_advanced.ipynb)\n",
    " - [Slides](./week_03_slides.ipynb) ([Powerpoint](./Lecture3_Loops.pptx))"
   ]
  },
  {
   "cell_type": "markdown",
   "id": "d81821f0-3e04-4ce5-956f-2b819ad3d0a2",
   "metadata": {},
   "source": [
    "## Motivation"
   ]
  },
  {
   "cell_type": "markdown",
   "id": "ced73273-3e45-40fb-a372-a66852297fbb",
   "metadata": {},
   "source": [
    "Over the past two weeks, we have looked at some basic data types and conditional logic in Python. This week it is time to start scaling up our computation!\n",
    "\n",
    "To begin today, let's consider a simple coding task. Suppose you are asked to `print` the first `10` [Triangle Numbers](#https://en.wikipedia.org/wiki/Triangular_number). With only what we know so far, the code might look something like this:"
   ]
  },
  {
   "cell_type": "code",
   "execution_count": null,
   "id": "ba31e541-2736-4d53-988b-d6412c4f6083",
   "metadata": {},
   "outputs": [],
   "source": [
    "# First triangle number\n",
    "print(1)\n",
    "\n",
    "# Second triangle number\n",
    "print(1 + 2)\n",
    "\n",
    "# Third triangle number\n",
    "print(1 + 2 + 3)\n",
    "\n",
    "# Fourth triangle number\n",
    "print(1 + 2 + 3 + 4)\n",
    "\n",
    "# ... and so on\n",
    "\n",
    "# Tenth triangle number\n",
    "print(1 + 2 + 3 + 4 + 5 + 6 + 7 + 8 + 9 + 10)"
   ]
  },
  {
   "cell_type": "markdown",
   "id": "81a901a1-cf68-48eb-ac2a-87d8017e16e0",
   "metadata": {},
   "source": [
    "This code is already long and repetitive, but imagine if I'd instead asked you to go up to $100$, or $1,000$! This task would be impossible!\n",
    "\n",
    "Loops give us a way to automate repetition. Instead of writing the same line of code again and again, we'll learn how to tell Python: \"Do this thing repeatedly until I say stop.\"\n",
    "\n",
    "By the end of today, you’ll be able to write the same task in just one or two lines of code."
   ]
  },
  {
   "cell_type": "markdown",
   "id": "f91f9966-fc2b-466d-84cf-67e274564758",
   "metadata": {},
   "source": [
    "## Iterators and Iterables"
   ]
  },
  {
   "cell_type": "markdown",
   "id": "a9a6b481-6bb1-4fba-99a3-4410d432d131",
   "metadata": {},
   "source": [
    "So far we've seen several basic data types in Python:\n",
    "\n",
    " - Numeric data types: `3`, `-10`, `4.5`\n",
    " - Strings: `\"hello\"`, `\"Python\"`\n",
    " - Booleans: `True`, `False`\n",
    "\n",
    "But often, we want to work with more than one piece of data at once.\n",
    "For example: a list of students in a class, a list of prices in a shop, or a list of daily temperatures."
   ]
  },
  {
   "cell_type": "markdown",
   "id": "1bb2d2bd-0a5a-4429-8707-f72ba5dc5a76",
   "metadata": {},
   "source": [
    "In Python, a `list` is a collection of values, written inside square brackets `[]`:"
   ]
  },
  {
   "cell_type": "code",
   "execution_count": null,
   "id": "a03515ce-9c71-41f9-b5b8-c093cf323f09",
   "metadata": {},
   "outputs": [],
   "source": [
    "numbers = [1, 2, 3, 4, 5]\n",
    "words = [\"apple\", \"banana\", \"cherry\"]\n",
    "mixed = [10, \"hello\", True]"
   ]
  },
  {
   "cell_type": "markdown",
   "id": "cf414e9a-5fda-4a70-9b49-a413405c7770",
   "metadata": {},
   "source": [
    "In the same way that `float`s, `int`s, `string`s and `boolean`s are data types in Python, so is a `list`. For example:"
   ]
  },
  {
   "cell_type": "code",
   "execution_count": null,
   "id": "ecf87599-5456-48cd-9048-577faa2b79f0",
   "metadata": {},
   "outputs": [],
   "source": [
    "type(numbers)"
   ]
  },
  {
   "cell_type": "markdown",
   "id": "da0c76b6-d24d-4a20-a707-3e5b202d8a4d",
   "metadata": {},
   "source": [
    "A list can contain as many elements as you want, and they don't all have to be the same type."
   ]
  },
  {
   "cell_type": "markdown",
   "id": "b6d95ba9-d1b2-423d-9246-4fd2f54c425e",
   "metadata": {},
   "source": [
    "You can also ask for one item at a time using its `index` (position in the list). Python uses zero-indexing, which means it starts counting from `0`:"
   ]
  },
  {
   "cell_type": "code",
   "execution_count": null,
   "id": "6a9c571c-1787-4a50-8307-d125d3f0efee",
   "metadata": {},
   "outputs": [],
   "source": [
    "numbers = [10, 20, 30, 40]\n",
    "print(numbers[0])  # first element - 10\n",
    "print(numbers[2])  # third element - 30"
   ]
  },
  {
   "cell_type": "markdown",
   "id": "53ab6756-712f-4fa3-a2b5-89e77e13977c",
   "metadata": {},
   "source": [
    "A `list` is an example of an `iterable` object. \n",
    "\n",
    "An iterable object is any Python object that contains a countable number of elements; in other words, it's an object that can give you it's elements *one by one*.\n",
    "\n",
    "We've already seen two examples of *iterables*:\n",
    "\n",
    " - `list`s are iterables: `[10,20,30,40]` can give you `10`, `20`, `30`, `40`.\n",
    " - `string`s are also iterables: `\"hello\"` can give you `\"h\"`, `\"e\"`, `\"l\"`, `\"l\"`, `\"o\"`."
   ]
  },
  {
   "cell_type": "markdown",
   "id": "2f7e5792-6f30-4574-ba87-17526adfac4a",
   "metadata": {},
   "source": [
    "Given an iterable object, you can create something known as an `iterator`.\n",
    "\n",
    "An iterator is a special object that lets you step through the elements of an iterable, one at a time, and remembers where you are in the process. In Python, you can create an iterator from an iterable using the built-in function `iter()`:"
   ]
  },
  {
   "cell_type": "code",
   "execution_count": null,
   "id": "2ba8a00e-c092-4248-9c79-5b8b6aee9841",
   "metadata": {},
   "outputs": [],
   "source": [
    "# Create a list\n",
    "numbers = [2, 3, 4, 6]\n",
    "\n",
    "# Create an iterator from the list\n",
    "iterator = iter(numbers)\n",
    "\n",
    "# Printing the iterator won't show the elements directly.\n",
    "# But the iterator still \"remembers\" the list's items and\n",
    "# can give them to us one at a time.\n",
    "print(iterator)"
   ]
  },
  {
   "cell_type": "markdown",
   "id": "77f57537-9685-4548-bc3d-3267d3fca506",
   "metadata": {},
   "source": [
    "The useful thing about an iterator is that it lets us print elements out one by one, always remembering where we were up to. Specifically, we can use the built-in next function to get each element in turn:"
   ]
  },
  {
   "cell_type": "code",
   "execution_count": null,
   "id": "e6efe8a0-e68a-4ef9-ad3c-caa92f4892dd",
   "metadata": {},
   "outputs": [],
   "source": [
    "numbers = [2, 3, 4, 6]\n",
    "iterator = iter(numbers)\n",
    "\n",
    "# Print the first element\n",
    "print(next(iterator)) \n",
    "\n",
    "# Print the one after that\n",
    "print(next(iterator)) \n",
    "\n",
    "# ...and the one after that\n",
    "print(next(iterator))  \n",
    "\n",
    "# ...and the one after that\n",
    "print(next(iterator))  "
   ]
  },
  {
   "cell_type": "markdown",
   "id": "ce014255-2d44-4067-bfcc-3f3995b135e6",
   "metadata": {},
   "source": [
    "A particularly useful example of an iterable object is the output of the `range` function. You can think of `range(n)` as a compact way of representing the numbers `0, 1, 2, ..., n-1`. In other words, it produces an iterable containing the first n non-negative integers, ready to be used in computations."
   ]
  },
  {
   "cell_type": "code",
   "execution_count": null,
   "id": "89461488-5d5e-499a-a63f-2674378546b0",
   "metadata": {},
   "outputs": [],
   "source": [
    "# Get an iterable range object\n",
    "range_iterable = range(4)\n",
    "\n",
    "# Get a range iterator\n",
    "range_iterator = iter(range_iterable)\n",
    "\n",
    "# Print the elements\n",
    "print(next(range_iterator))\n",
    "print(next(range_iterator))\n",
    "print(next(range_iterator))\n",
    "print(next(range_iterator))"
   ]
  },
  {
   "cell_type": "markdown",
   "id": "2c7f7c79-3012-4e09-b000-ce0fbadac38e",
   "metadata": {},
   "source": [
    " > **Test your understanding:** By modifying the above code, work out what happens if you give `range` two inputs instead of one. e.g. what does `range(2,4)` do?"
   ]
  },
  {
   "cell_type": "markdown",
   "id": "4e992369-5634-4ead-9294-f9f6867e57ac",
   "metadata": {},
   "source": [
    "**Recap:** In this section, we introduced a new data type, the `list`, and saw that lists (as well as strings) are examples of iterables. We also learned about iterators, which are the tools Python uses to step through those iterables one element at a time.\n",
    "\n",
    "To summarize, here are the definitions of `iterable` and `iterator`:\n",
    " \n",
    " - `Iterable`: an object that multiple elements (like a `list` or `string`) that can be listed off one at a time.\n",
    "\n",
    " - `Iterator`: an object that remembers a position within an iterable and produces the next element each time you ask for it.\n",
    "\n",
    "In the next section, we will see how you can move through values of an iterable object automatically using a `for` loop."
   ]
  },
  {
   "cell_type": "markdown",
   "id": "2cd94710-1574-48b6-becd-e0ee5f16bb58",
   "metadata": {},
   "source": [
    " > **Note:** If you would like to learn more about `list`s, have a look at the week 1 intermediate notebook on `collections`. This will show you various operations that can be performed on lists, as well as introduce you to other iterable data types such as tuples, sets and dictionaries."
   ]
  },
  {
   "cell_type": "markdown",
   "id": "a1b204cc-cee4-4baa-b3cd-616442c4ac56",
   "metadata": {},
   "source": [
    "## `for` loops"
   ]
  },
  {
   "cell_type": "markdown",
   "id": "002b8d41-55f5-43e9-b0ac-4b691712f4cd",
   "metadata": {},
   "source": [
    "In the last section, we saw how an iterator can give us the elements of an iterable one at a time using the `next()` function. But having to write `next()` repeatedly is a bit repetitive and clunky... \n",
    "\n",
    "Python gives us a much simpler way to go through all the elements of an iterable: the `for` loop."
   ]
  },
  {
   "cell_type": "code",
   "execution_count": null,
   "id": "c4213b25-7f9e-4a6d-8091-e0d8f9eca79c",
   "metadata": {},
   "outputs": [],
   "source": [
    "# List of numbers\n",
    "numbers = [2, 3, 4, 6]\n",
    "\n",
    "# for each number in my list...\n",
    "for num in numbers:\n",
    "\n",
    "    # Print it's value\n",
    "    print(num)"
   ]
  },
  {
   "cell_type": "markdown",
   "id": "e0aa85e4-ad27-4d05-b0b5-24cfc98cd8fd",
   "metadata": {},
   "source": [
    "In this code:\n",
    "\n",
    " - `numbers` is the iterable.\n",
    " - `num` is a variable that takes on the value of each element, one at a time.\n",
    "\n",
    "The indented block of code under the loop (`print(num)`) runs once for each element."
   ]
  },
  {
   "cell_type": "markdown",
   "id": "530158ff-9d99-4e3f-addd-db3dee5dedee",
   "metadata": {},
   "source": [
    "Let's break down the general syntax of the `for` loop. The first line must contain the `for` keyword and a colon, `:`. These tell us where the `for` loop starts.\n",
    "\n",
    "\n",
    " > <pre>\n",
    " > <b>`for` keyword</b>                <b>colon</b>\n",
    " >   ↓                           ↓\n",
    " > <b>for</b> my_variable in my_iterable<b>:</b>\n",
    " >     print(\"My variable now equals\", my_variable)\n",
    " > </pre>"
   ]
  },
  {
   "cell_type": "markdown",
   "id": "4a68c182-14fc-4259-a6b4-174da354e3b7",
   "metadata": {},
   "source": [
    "Then, after the `for`, we must name a variable. Here `my_variable` is just a name you are choosing to represent an arbitrary element in the iterable object.\n",
    " > <pre>\n",
    " >   <b>variable name</b>  \n",
    " >         ↓                    \n",
    " > for <b>my_variable</b> in my_iterable:\n",
    " >     print(\"My variable now equals\", my_variable)\n",
    " > </pre>"
   ]
  },
  {
   "cell_type": "markdown",
   "id": "0f92f5a2-2556-42be-9caf-edbb79d9e3f6",
   "metadata": {},
   "source": [
    "After the variable is named we write the the `in` keyword followed by `my_iterable`. Here `my_iterable` is the iterable variable you want to loop through (for instance, a `list` or `string`) and the `in` keyword tells us that we are looking at values *in* that iterable.\n",
    " > <pre>\n",
    " >      <b>`in` keyword</b>    <b>iterable object</b>  \n",
    " >                 ↓        ↓\n",
    " > for my_variable <b>in my_iterable</b>:\n",
    " >     print(\"My variable now equals\", my_variable)\n",
    " > </pre>\n",
    "\n",
    "Finally, inside the `loop`, we provide the code we want to run for every value of `my_variable`. In this case we are just printing it's value.\n",
    "\n",
    "\n",
    " > <pre>\n",
    " > for my_variable in my_iterable:\n",
    " >     <b>print(\"My variable now equals\", my_variable)  ← body of the for loop</b>\n",
    " > </pre>"
   ]
  },
  {
   "cell_type": "markdown",
   "id": "6fc935a8-371c-4385-bb6c-fc68fec5e49e",
   "metadata": {},
   "source": [
    "Let's see some examples."
   ]
  },
  {
   "cell_type": "code",
   "execution_count": null,
   "id": "b5f15fd0-671d-4ad6-af24-9dfc13eced7a",
   "metadata": {},
   "outputs": [],
   "source": [
    "# Example 1: Mixed list, printing each element\n",
    "for element in [1,3.5,-10,\"hello\"]:\n",
    "    \n",
    "    print(\"Τhe element is\", element)"
   ]
  },
  {
   "cell_type": "code",
   "execution_count": null,
   "id": "b14e8c63-b419-4634-8847-b27e54b2cf28",
   "metadata": {},
   "outputs": [],
   "source": [
    "# Example 2: Integer list, printing the square of each number\n",
    "numbers = [1,4,5, 9, 10]\n",
    "\n",
    "# Loop through each number printing the square of them\n",
    "for x in numbers:\n",
    "\n",
    "    # Square x\n",
    "    x_squared = x**2\n",
    "\n",
    "    # Print the result\n",
    "    print(x_squared)"
   ]
  },
  {
   "cell_type": "code",
   "execution_count": null,
   "id": "d8e05635-d0c6-4431-91cf-469dd7fc5c85",
   "metadata": {},
   "outputs": [],
   "source": [
    "# Example 3: List of words\n",
    "my_string = \"This is a sentence\"\n",
    "\n",
    "# Use split to seperate the sentence into words (see notebook 1: beginner)\n",
    "my_words = my_string.split()\n",
    "\n",
    "# Loop through the words, printing each\n",
    "for word in my_words:\n",
    "\n",
    "    # Print the current word\n",
    "    print(\"The current word is:\", word)\n",
    "\n",
    "    # Tell us if the letter 'a' is in the word\n",
    "    print(\"Is the letter 'a' in this word?\", 'a' in word)\n",
    "\n",
    "    # Print some -'s to make the output a bit easier to read\n",
    "    print('----------------------')\n",
    "    "
   ]
  },
  {
   "cell_type": "markdown",
   "id": "96df94cb-e6bb-421d-abd0-419c914d334f",
   "metadata": {},
   "source": [
    " > **Test your understanding:** Make sure you understand this last example. How would you modify it to print the length of each word in the sentence? *Hint: You might need the `len()` function from the week 1 beginner notebook.*"
   ]
  },
  {
   "cell_type": "markdown",
   "id": "ab23b8c2-3241-4d20-a4de-1965016a36aa",
   "metadata": {},
   "source": [
    "**Warning:** Just like with an `if` statement, the body of a `for` loop must be indented. If you forget to indent, or if the indentation is inconsistent, Python will raise an error."
   ]
  },
  {
   "cell_type": "code",
   "execution_count": null,
   "id": "d6338ebf-34c8-411d-ad18-e789b84afe90",
   "metadata": {},
   "outputs": [],
   "source": [
    "# Example list\n",
    "my_list = [1,2,3]\n",
    "\n",
    "for number in my_list:\n",
    "print(number) # <----- incorrect indentation will raise an error"
   ]
  },
  {
   "cell_type": "markdown",
   "id": "2cae2f95-7020-4417-b9f4-e72f86e61f80",
   "metadata": {},
   "source": [
    "## `while` loops"
   ]
  },
  {
   "cell_type": "markdown",
   "id": "0d080399-f420-444d-8d12-08c6244b1344",
   "metadata": {},
   "source": [
    "A `for` loop is useful when we want to repeat a computation once for every element in an iterable. But sometimes, instead of looping over a collection, we want to keep running a computation until a certain condition is met.\n",
    "\n",
    "For example, we might want to:\n",
    "\n",
    " - keep rolling a die (generating random integers between $1$ and $6$) until we get a six, or\n",
    " - keep doubling a value until it becomes larger than 100.\n",
    "\n",
    "To handle situations like these, Python provides the `while` loop."
   ]
  },
  {
   "cell_type": "markdown",
   "id": "a87d35f8-0b25-4e91-866d-c4215770a4a6",
   "metadata": {},
   "source": [
    "A while loop repeatedly runs a block of code so long as a given Boolean statement is `True`. For example, in the below, the block of code is run while the statement `n < 10` is `True`."
   ]
  },
  {
   "cell_type": "code",
   "execution_count": null,
   "id": "13aaf522-9255-483d-a4d7-edc9feda9c94",
   "metadata": {},
   "outputs": [],
   "source": [
    "# Set n = 0\n",
    "n = 0\n",
    "\n",
    "# Run this code while n is less than 100\n",
    "while n < 10:\n",
    "    \n",
    "    print(n)\n",
    "    n = n + 1 # Replace the value of n with n + 1 "
   ]
  },
  {
   "cell_type": "markdown",
   "id": "cf48c7c0-6d87-457a-b152-835c4f18b540",
   "metadata": {},
   "source": [
    "The syntax for a `while` loop looks very similar to an `if` statement. A while loop is introduced using the keyword `while` and a colon `:`:\n",
    "\n",
    " > <pre>\n",
    " > <b>while keyword</b>  <b>colon</b>\n",
    " >   ↓             ↓\n",
    " > <b>while</b> my_boolean<b>:</b>\n",
    " >     # Run some code\n",
    " > </pre>\n",
    "\n",
    "In-between these, we must include a booean statement, e.g. `my_boolean`.\n",
    "\n",
    " > <pre>\n",
    " > <b>Boolean statement</b>\n",
    " >           ↓\n",
    " > while<b> my_boolean</b>:\n",
    " >     # Run some code\n",
    " > </pre>\n",
    "\n",
    "Finally, the indented lines underneath form the body of the loop. This is the part that runs repeatedly:\n",
    "\n",
    " > <pre>\n",
    " > while my_boolean:\n",
    " >     <b># Run some code  ← body of the while loop</b>\n",
    " > </pre>\n",
    "\n",
    "The body will keep running *again and again* as long as the boolean expression evaluates to `True`. It is worth making the comparison between `if` statements and `while` loops explicit:\n",
    "\n",
    " - An `if` statement checks its condition once and runs the body a single time (if `True`).\n",
    " - A `while` loop keeps checking the condition and repeats the body until the condition becomes `False`.\n",
    "\n",
    "Let's look at a small worked example to make the while loop syntax clearer."
   ]
  },
  {
   "cell_type": "code",
   "execution_count": null,
   "id": "ea0fa0f4-dc1c-408b-93ac-43065f8dccf3",
   "metadata": {},
   "outputs": [],
   "source": [
    "i = 0\n",
    "while i < 3:\n",
    "    print(i)\n",
    "    i = i + 1"
   ]
  },
  {
   "cell_type": "markdown",
   "id": "484cf9cb-d18f-4352-b90e-445f88a16d93",
   "metadata": {},
   "source": [
    "In this example, we can imagine the `while` loop as if Python were repeating the indented code over and over:"
   ]
  },
  {
   "cell_type": "code",
   "execution_count": null,
   "id": "bdd74108-a6ae-4540-9d8e-e6b0fb01a945",
   "metadata": {},
   "outputs": [],
   "source": [
    "i = 0\n",
    "\n",
    "# First time through (i = 0, condition True)\n",
    "print(i)      # 0\n",
    "i = i + 1     # i becomes 1\n",
    "\n",
    "# Second time through (i = 1, condition True)\n",
    "print(i)      # 1\n",
    "i = i + 1     # i becomes 2\n",
    "\n",
    "# Third time through (i = 2, condition True)\n",
    "print(i)      # 2\n",
    "i = i + 1     # i becomes 3\n",
    "\n",
    "# Fourth check (i = 3, condition False) -> loop stops here\n"
   ]
  },
  {
   "cell_type": "markdown",
   "id": "bd34634f-8999-4f88-9cb7-89b83e317243",
   "metadata": {},
   "source": [
    "After every repetition, the loop is checking whether the boolean `i < 3` is `True`. Since, on the last repetition `i` is now equal to `3`, the condition is `False`, so the loop does not run another time. That is, the `while` loop ends there."
   ]
  },
  {
   "cell_type": "markdown",
   "id": "debf2849-009b-4bb4-84a0-0f9bc56e8301",
   "metadata": {},
   "source": [
    " > **Warning:** A `while` loop will keep running as long as its boolean condition is `True`. If the condition never becomes `False`, the loop will never end. This is called an infinite loop.\n",
    ">\n",
    "> For example, the following code never terminates because `i` is never updated (run this at your peril!):"
   ]
  },
  {
   "cell_type": "code",
   "execution_count": null,
   "id": "0a09f7b2-8f04-46dd-a733-3e895497227e",
   "metadata": {},
   "outputs": [],
   "source": [
    "i = 0\n",
    "while i < 3:\n",
    "    print(i)   # i is always 0 here!"
   ]
  },
  {
   "cell_type": "markdown",
   "id": "678e1b6f-7bf7-4077-ac90-9f09bb3a39ad",
   "metadata": {},
   "source": [
    " > To avoid infinite loops, you must ensure that the boolean eventaully becomes `False`.\n",
    ">\n",
    "> Of course, mistakes are inevitable. In a Jupyter notebook, an infinite loop can freeze the cell. If this happens, do one of the following:\n",
    "> \n",
    ">  - Click the `\"stop\"` button (■) in the toolbar, or\n",
    ">  - Use the menu: `Kernel -> Interrupt`.\n",
    ">  - Use the menu: `Kernel -> Restart`.\n",
    ">   \n",
    "> The last option completely restarts the Python notebook and clears everything from memory, so use it only as a last resort."
   ]
  },
  {
   "cell_type": "markdown",
   "id": "610f736c-2ecf-4e19-83e0-4f908a257099",
   "metadata": {},
   "source": [
    "## Nested Loops"
   ]
  },
  {
   "cell_type": "markdown",
   "id": "bcdde2cb-aec8-44f2-9298-239858877577",
   "metadata": {},
   "source": [
    "One of the most useful features of loops is that you can *nest them inside one another*.\n",
    "\n",
    "That means you can put a `for` loop inside a `while` loop, a `while` loop inside a `for` loop, or even nest loops of the same kind. This is powerful as it lets us perform tasks that require multiple layers of repetition. Here are some examples:"
   ]
  },
  {
   "cell_type": "code",
   "execution_count": null,
   "id": "483bd50a-289e-4f39-9722-39427e101fd9",
   "metadata": {},
   "outputs": [],
   "source": [
    "# Example 1: A while loop inside a for loop\n",
    "for i in range(3):\n",
    "    count = 0\n",
    "    while count < 2:\n",
    "        print(f\"Outer loop i={i}, inner loop count={count}\")\n",
    "        count += 1"
   ]
  },
  {
   "cell_type": "code",
   "execution_count": null,
   "id": "caa85a45-afb2-4f09-a76e-9444ae23cfc9",
   "metadata": {},
   "outputs": [],
   "source": [
    "# Example 2: A for loop inside a while loop\n",
    "for i in range(3):\n",
    "    for j in range(3):\n",
    "        print(f\"i={i}, j={j}\")"
   ]
  },
  {
   "cell_type": "code",
   "execution_count": null,
   "id": "1b85fcc9-510f-4a1e-987b-8a6c05fa8f65",
   "metadata": {},
   "outputs": [],
   "source": [
    "# Example 3: A for loop inside a for loop\n",
    "for i in range(3):\n",
    "    for j in range(3):\n",
    "        print(f\"i={i}, j={j}\")"
   ]
  },
  {
   "cell_type": "markdown",
   "id": "ca552987-ec38-45ea-911f-9425ebdec908",
   "metadata": {},
   "source": [
    " > **Test your understanding:** If you have already run the three code boxes above, clear the output from each. On paper, use your understanding of loops to predict exactly what each example will `print`. Rerun the code to check your answers."
   ]
  },
  {
   "cell_type": "markdown",
   "id": "956e361b-e55f-480b-a7f9-bcdd6ee3511e",
   "metadata": {},
   "source": [
    "To see why nested loops are useful, let's work through an example.\n",
    "\n",
    "Suppose we want to list all [prime numbers](https://en.wikipedia.org/wiki/Prime_number) up to a given number `n`.\n",
    "\n",
    "Intuitively we need to check whether each number between $1$ and $n$ is prime. We can visualise this like so:"
   ]
  },
  {
   "cell_type": "code",
   "execution_count": null,
   "id": "a042e8b3-e4be-4b61-b85d-75b0d45a6340",
   "metadata": {},
   "outputs": [],
   "source": [
    "# Value of n\n",
    "n = 10\n",
    "\n",
    "# loop through 1,..., n\n",
    "for i in range(1,n+1):\n",
    "\n",
    "    # Check if i+1 (remember Python starts counting at zero!) is prime\n",
    "    print(\"We need to check if\", i , \"is a prime number\")"
   ]
  },
  {
   "cell_type": "markdown",
   "id": "ba2d2c5e-220c-479c-b6ab-ec7ae1a48e69",
   "metadata": {},
   "source": [
    "But how do we do the check inside the loop? Well, let's take an example value of `i`, say `i = 7`. If we were doing this task by hand, we'd check if `7` is divisible by `2`, then by `3`, then by `4`, and so on until we reach `7`. This can be done with a loop too:"
   ]
  },
  {
   "cell_type": "code",
   "execution_count": null,
   "id": "39be6040-911e-4f43-88c9-cbcac52e11da",
   "metadata": {},
   "outputs": [],
   "source": [
    "# Consider a single value of i\n",
    "i = 7\n",
    "\n",
    "# Boolean asking \"Have we found a factor of i?\" \n",
    "# So far, we haven't checked if i is divisible by anything\n",
    "# so it's False\n",
    "found_factor = False\n",
    "\n",
    "# Loop through values less than i\n",
    "for j in range(2, i):\n",
    "\n",
    "      # Check if i is divisible by j\n",
    "      if i % j == 0:\n",
    "\n",
    "            # Then we have found a factor of i\n",
    "            found_factor = True\n",
    "\n",
    "# After we have looped through all possible j,\n",
    "# let's check if we ever found a factor\n",
    "if found_factor:\n",
    "\n",
    "     # If i had a factor it can't be a prime number\n",
    "     print(i, \"is not a prime number\")\n",
    "\n",
    "else:\n",
    "\n",
    "     # If we didn't then i must be prime!\n",
    "     print(i, \"is a prime number!\")"
   ]
  },
  {
   "cell_type": "markdown",
   "id": "550bc53f-08db-410b-9293-8c6e1f060758",
   "metadata": {},
   "source": [
    " > **Test your understanding:** Why does the above code work? If you are unsure, ask one of the demonstrators for help!"
   ]
  },
  {
   "cell_type": "markdown",
   "id": "a24e6341-cec6-4550-8dae-ab0af3e8a6c6",
   "metadata": {},
   "source": [
    "This code tells us if one value (here `i=7`) is prime. But, how can we relate this to our original problem, checking if all values between `1` and `n` are prime? The answer is simply that we can place this code inside our larger loop from earlier:"
   ]
  },
  {
   "cell_type": "code",
   "execution_count": null,
   "id": "61988d1f-a202-40be-a4e8-1f2810625aaa",
   "metadata": {},
   "outputs": [],
   "source": [
    "# Value of n\n",
    "n = 10\n",
    "\n",
    "# loop through 1,..., n\n",
    "for i in range(1,n+1):\n",
    "\n",
    "    # Boolean asking \"Have we found a factor of i?\" \n",
    "    # So far, we haven't checked if i is divisible by anything\n",
    "    # so it's False\n",
    "    found_factor = False\n",
    "\n",
    "    # Loop through values less than i\n",
    "    for j in range(2, i):\n",
    "    \n",
    "          # Check if i is divisible by j\n",
    "          if i % j == 0:\n",
    "    \n",
    "                # Then we have found a factor of i\n",
    "                found_factor = True\n",
    "    \n",
    "    # After we have looped through all possible j,\n",
    "    # let's check if we ever found a factor\n",
    "    if found_factor:\n",
    "    \n",
    "         # If i had a factor it can't be a prime number\n",
    "         print(i, \"is not a prime number\")\n",
    "    \n",
    "    else:\n",
    "    \n",
    "         # If we didn't then i must be prime!\n",
    "         print(i, \"is a prime number!\")"
   ]
  },
  {
   "cell_type": "markdown",
   "id": "eed654c5-cc8c-4df7-be69-7a4e99262155",
   "metadata": {},
   "source": [
    "## Exercises"
   ]
  },
  {
   "cell_type": "markdown",
   "id": "826fbdf7",
   "metadata": {},
   "source": [
    "**Question 1:** Given the two strings in the code block below, use a `while` loop and the `split` function to make a new string which contains:\n",
    " - the 1st word from the 1st string\n",
    " - the 1st word from the 2nd string\n",
    " - the 2nd word from the 1st string\n",
    " - the 2nd word from the 2nd string\n",
    " - the 3rd word from the 1st string\n",
    " - ... and so on\n",
    " \n",
    "Each word must be seperated from the last with a space."
   ]
  },
  {
   "cell_type": "code",
   "execution_count": null,
   "id": "e2298f5b",
   "metadata": {},
   "outputs": [],
   "source": [
    "first_string = 'This seems have broken two strings. thats'\n",
    "second_string = 'sentence to been into seperate Well, annoying.'\n",
    "\n",
    "# Write your code here..."
   ]
  },
  {
   "cell_type": "markdown",
   "id": "841f8359",
   "metadata": {},
   "source": [
    "*Hint: You may wish to look up the `split` function in the Week 1 beginner notebook.*"
   ]
  },
  {
   "cell_type": "markdown",
   "id": "cf4ba56a",
   "metadata": {},
   "source": [
    "**Question 2:** By looking up the documentation for the [`range` function](https://www.w3schools.com/python/ref_func_range.asp). Write some code which prints the numbers `1` to `100` in reverse order. That is, `100` should be printed first, then `99` and so on..."
   ]
  },
  {
   "cell_type": "code",
   "execution_count": null,
   "id": "67deb2a3",
   "metadata": {},
   "outputs": [],
   "source": [
    "# Write your code here..."
   ]
  },
  {
   "cell_type": "markdown",
   "id": "c38e2150",
   "metadata": {},
   "source": [
    "**Question 3:** Below is an integer `n`. Using a `while` loop, compute the factorial of $n$ given by $n!=n\\times (n-1)\\times... \\times 2 \\times 1$."
   ]
  },
  {
   "cell_type": "code",
   "execution_count": null,
   "id": "ae954221",
   "metadata": {},
   "outputs": [],
   "source": [
    "# Integer n\n",
    "n = 6\n",
    "\n",
    "# Write your code here..."
   ]
  },
  {
   "cell_type": "markdown",
   "id": "51b8130e",
   "metadata": {},
   "source": [
    "**Question 4:** Using a `for` loop, print the square of all of the elements in the list below which are greater than $2$ or less than $-2.5$."
   ]
  },
  {
   "cell_type": "code",
   "execution_count": null,
   "id": "6f1af4cc",
   "metadata": {},
   "outputs": [],
   "source": [
    "example_list = [1,-2.8,-2.1,-0.03,0.04,-1.9,1.0,20.8,1, -3,3.2]\n",
    "\n",
    "# Write your code here..."
   ]
  },
  {
   "cell_type": "markdown",
   "id": "246165e3",
   "metadata": {},
   "source": [
    "Now do the same, but saving the elements in a new list named `output_list`."
   ]
  },
  {
   "cell_type": "code",
   "execution_count": null,
   "id": "93c7c858",
   "metadata": {},
   "outputs": [],
   "source": [
    "# Write your code here..."
   ]
  },
  {
   "cell_type": "markdown",
   "id": "0d189808",
   "metadata": {},
   "source": [
    "*Hint: You can add a new element to a list by using the `append` method. An example of this is given in the below code block.*"
   ]
  },
  {
   "cell_type": "code",
   "execution_count": null,
   "id": "d505a1ac",
   "metadata": {},
   "outputs": [],
   "source": [
    "# An empty list (a list with nothing in it)\n",
    "my_list = []\n",
    "print(my_list)\n",
    "\n",
    "# Append an element\n",
    "my_list.append(1)\n",
    "print(my_list)\n",
    "\n",
    "# Append another element\n",
    "my_list.append(4)\n",
    "print(my_list)"
   ]
  },
  {
   "cell_type": "markdown",
   "id": "e012e310",
   "metadata": {},
   "source": [
    "**Question 5:** Without running the below code, predict how many times the word `\"Python\"` will be printed. Explain your answer, and then verify it by running the below code."
   ]
  },
  {
   "cell_type": "code",
   "execution_count": null,
   "id": "8fff0742",
   "metadata": {},
   "outputs": [],
   "source": [
    "n = 16\n",
    "while n > 1:\n",
    "    print(\"Python\")\n",
    "    n = n // 2"
   ]
  },
  {
   "cell_type": "markdown",
   "id": "2ff7f617",
   "metadata": {},
   "source": [
    "**Question 6:** The below code uses a `while` loop to count the number of vowels in the word `word`. However, something has gone wrong! The below code will never terminate when run. Explain why this has happened and implement a fix."
   ]
  },
  {
   "cell_type": "code",
   "execution_count": null,
   "id": "4901bcce",
   "metadata": {},
   "outputs": [],
   "source": [
    "# Word to count vowels in\n",
    "word = \"education\"\n",
    "\n",
    "# String of vowels\n",
    "vowels = \"aeiou\"\n",
    "\n",
    "# Variable to count the number of vowels we've seen so far\n",
    "vowel_count = 0\n",
    "\n",
    "# Variable to keep track of where we are looking in the code.\n",
    "position = 0\n",
    "\n",
    "# While the position is still within the word\n",
    "while position < len(word):\n",
    "    \n",
    "    # Get the letter at the position\n",
    "    letter = word[position]\n",
    "    \n",
    "    # Check if letter is a vowel\n",
    "    if letter.lower() in vowels:\n",
    "        vowel_count = vowel_count + 1\n",
    "\n",
    "        # Move the position one along\n",
    "        position = position + 1\n",
    "\n",
    "# print result\n",
    "print(\"Vowel count:\", vowel_count)"
   ]
  },
  {
   "cell_type": "markdown",
   "id": "4daa42a5",
   "metadata": {},
   "source": [
    " > **Note:** Be careful running this code! As mentioned above, in it's current form, the code will never terminate."
   ]
  },
  {
   "cell_type": "markdown",
   "id": "5571b740",
   "metadata": {},
   "source": [
    "**Question 7:** Using a loop, work through the dictionary of exam results below to find the difference between the highest and lowest scores. Print the names of the students who achieved those scores. *You may assume that all scores like between $0$ and $100$.*"
   ]
  },
  {
   "cell_type": "code",
   "execution_count": null,
   "id": "2b815872",
   "metadata": {},
   "outputs": [],
   "source": [
    "# Dictionary of exam scores\n",
    "exam_results = {\n",
    "    'Liam Turner': 54,\n",
    "    'Sophie Grant': 91,\n",
    "    'Ethan Walsh': 62,\n",
    "    'Isabella Patel': 77,\n",
    "    'Noah Murphy': 38,\n",
    "    'Mia Douglas': 85,\n",
    "    'Lucas Reed': 43,\n",
    "    'Ava Brooks': 99,\n",
    "    'Mason Clarke': 71,\n",
    "    'Olivia Hayes': 58\n",
    "}\n",
    "\n",
    "# Write your code here..."
   ]
  },
  {
   "cell_type": "markdown",
   "id": "eb7a187b",
   "metadata": {},
   "source": [
    " > **Note:** In this question, we are using the dictionary datatype. Dictionaries in Python allow us to store data as key-value pairs. In this case, the key is a student's name, and the value is their exam score. For this question, you need to know that you can access individual items like `print(exam_results['Liam Turner'])` and you can obtain a list of all the keys (student names) using `names_in_dict = exam_results.keys()`. If you would like to learn more about the dictionary datatype, please have a look at the [week 1 intermediate notebook](../01/week_01_intro_to_data_types_intermediate.ipynb)."
   ]
  },
  {
   "cell_type": "markdown",
   "id": "bb4d85bb",
   "metadata": {},
   "source": [
    "**Question 8:** Use two nested `for` loops to print the first `n` lines of [Pascal's Triangle](https://en.wikipedia.org/wiki/Binomial_theorem). For instance, if $n=5$ your code should print:\n",
    "\n",
    "```\n",
    "1 \n",
    "1 1 \n",
    "1 2 1 \n",
    "1 3 3 1 \n",
    "1 4 6 4 1 \n",
    "1 5 10 10 5 1 \n",
    "```\n"
   ]
  },
  {
   "cell_type": "code",
   "execution_count": null,
   "id": "08b19bb6",
   "metadata": {},
   "outputs": [],
   "source": [
    "# Set the value of n\n",
    "n = 5"
   ]
  },
  {
   "cell_type": "markdown",
   "id": "1319759e",
   "metadata": {},
   "source": [
    "**Question 9:** A [palendromic number](https://en.wikipedia.org/wiki/Palindromic_number) is an integer that reads the same when its digits are reversed.\n",
    "\n",
    "For example:\n",
    "\n",
    " - $124$ is not palindromic, because reversing the digits gives $421\\neq 124$.\n",
    " - $121$ is palindromic, because reversing the digits gives $121=121$.\n",
    "\n",
    "Using the `range` function together with a `for` loop, compute all palindromic numbers between $0$ and $1000$."
   ]
  },
  {
   "cell_type": "code",
   "execution_count": null,
   "id": "093024f4",
   "metadata": {},
   "outputs": [],
   "source": [
    "# Write your code here..."
   ]
  },
  {
   "cell_type": "markdown",
   "id": "bd3668c2",
   "metadata": {},
   "source": [
    "*Hint: You can reverse a string using `[::-1]` as shown below:*"
   ]
  },
  {
   "cell_type": "code",
   "execution_count": null,
   "id": "0335a8c6",
   "metadata": {},
   "outputs": [],
   "source": [
    "# Here's a string\n",
    "x = \"string\"\n",
    "\n",
    "# This will reverse the string\n",
    "x_reversed = x[::-1]\n",
    "\n",
    "# Print the result\n",
    "print(x_reversed)"
   ]
  },
  {
   "cell_type": "markdown",
   "id": "e820b062",
   "metadata": {},
   "source": [
    "*This is an example of slicing. If you would like to learn more about slicing lists see the [Week 1 (Intermediate) notebook](../01/week_01_intro_to_data_types_intermediate.ipynb).*"
   ]
  },
  {
   "cell_type": "markdown",
   "id": "1c1f73a5",
   "metadata": {},
   "source": [
    "**Question 10:** Using a `while` loop and a `for` loop, compute the smallest positive number that is evenly divisible by all of the numbers from $1$ to $8$."
   ]
  },
  {
   "cell_type": "code",
   "execution_count": null,
   "id": "3a6bd6fe",
   "metadata": {},
   "outputs": [],
   "source": [
    "# Write your answer here..."
   ]
  },
  {
   "cell_type": "markdown",
   "id": "53c687d7",
   "metadata": {},
   "source": [
    "*Hint: These loops may need to be nested inside one another!*"
   ]
  }
 ],
 "metadata": {
  "kernelspec": {
   "display_name": "Python 3 (ipykernel)",
   "language": "python",
   "name": "python3"
  },
  "language_info": {
   "codemirror_mode": {
    "name": "ipython",
    "version": 3
   },
   "file_extension": ".py",
   "mimetype": "text/x-python",
   "name": "python",
   "nbconvert_exporter": "python",
   "pygments_lexer": "ipython3",
   "version": "3.9.13"
  }
 },
 "nbformat": 4,
 "nbformat_minor": 5
}

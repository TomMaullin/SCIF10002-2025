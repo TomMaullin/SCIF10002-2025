{
 "cells": [
  {
   "cell_type": "markdown",
   "id": "b16bc51e-b978-402e-bfff-01e3585c2883",
   "metadata": {},
   "source": [
    "# Week 3: Loops"
   ]
  },
  {
   "cell_type": "markdown",
   "id": "c5ffe2e5-3d7f-4abb-a0cc-48bd67417ac3",
   "metadata": {},
   "source": [
    "# Intermediate: Advanced Iteration"
   ]
  },
  {
   "cell_type": "markdown",
   "id": "59407e62-1d1e-49c1-8c9e-d4b0ae5aa9f8",
   "metadata": {},
   "source": [
    "Welcome to the *Week 3 Intermediate Python Notebook*. This notebook is designed for students who already have some experience with Python and are ready to build on the basics.  \n",
    "\n",
    "Your task today is to read through the material carefully and complete the exercises provided at the end. These exercises are an important part of the learning process and will help you check your understanding.  \n",
    "\n",
    "> **Important:** Before starting this notebook, make sure you are confident with everything in the [`Beginner`](./week_03_loops_beginner.ipynb) notebook. This notebook builds directly on the concepts of `iterators`, `iterables`, `for` loops and `while` loops introduced in the [`Beginner`](./week_03_loops_beginner.ipynb) notebook so you should attempt at least $4$ of the [`Beginner exercises`](./week_03_loops.ipynb#Exercises) before moving onto this. \n",
    "\n",
    "This notebook builds on basic `for` and `while` loops by exploring advanced iteration techniques in Python. It covers sequence unpacking in `for` loops, the `continue`, `break` and `pass` statements and the lesser-known `else` clause for `for` loops.\n",
    "\n",
    "Be sure to work through the examples and attempt all the exercises. They are designed to reinforce your learning and build your confidence.  "
   ]
  },
  {
   "cell_type": "markdown",
   "id": "c54c04e1-a2af-4e71-92c8-33966050c946",
   "metadata": {},
   "source": [
    "### Table of Contents\n",
    "\n",
    " - [Welcome Page](./week_03_home.ipynb)\n",
    "\n",
    " - [Beginner: For and While Loops](./week_03_loops_beginner.ipynb)\n",
    " - [**Intermediate: Advanced Iteration**](./week_03_loops_intermediate.ipynb)\n",
    "     - [`dict`s as Iterables](#dicts-as-Iterables)\n",
    "     - [`enumerate` and `zip`](#enumerate-and-zip)\n",
    "     - [`continue`, `break` and `pass` Statements](#continue,-break-and-pass-Statements)\n",
    "     - [`for` and `else`](#for-and-else) \n",
    "     - [Exercises](#Exercises)\n",
    " - [Advanced: Comprehensions](./week_03_loops_advanced.ipynb)\n",
    " - [Slides](./week_03_slides.ipynb) ([Powerpoint](./Lecture3_Loops.pptx))"
   ]
  },
  {
   "cell_type": "markdown",
   "id": "63b68d67-8cee-42ff-a45c-b550d8c7bdbb",
   "metadata": {},
   "source": [
    "## `dict`s as iterables.\n",
    "\n",
    "The [`Beginner`](./week_03_loops_beginner.ipynb) notebook for this weeks class introduces the notions of `iterator`s and `iterable`s, and shows how you can iterate over `list`s and `string`s. In this notebook, we will start by looking at a slightly more complex example; dictionaries.\n",
    "\n",
    "Dictionaries (`dict`s) are also iterable in Python, but what exactly does that mean? When you iterate over a dictionary directly, you get its *keys*:"
   ]
  },
  {
   "cell_type": "code",
   "execution_count": null,
   "id": "1d593dc7-3c7c-4c02-a0e0-84c77ccc55bb",
   "metadata": {},
   "outputs": [],
   "source": [
    "# Dictionary containing student's grades\n",
    "student_grades = {\n",
    "    \"Alice\": 85,\n",
    "    \"Bob\": 92,\n",
    "    \"Charlie\": 78,\n",
    "    \"Diana\": 96\n",
    "}\n",
    "\n",
    "for name in student_grades:\n",
    "    print(name)"
   ]
  },
  {
   "cell_type": "markdown",
   "id": "b71c6f63-bf02-4ae0-afcc-41b7cf990bb8",
   "metadata": {},
   "source": [
    " > **Note:** If you are unfamiliar with the `dict` datatype, take a look at the intermediate `collections` notebook for week 1 of this course."
   ]
  },
  {
   "cell_type": "markdown",
   "id": "88a28538-69fd-4c1e-b6cb-c12eaf42d487",
   "metadata": {},
   "source": [
    "By default, iterating over a `dict` gives you its keys. However, you can also access values or key-value pairs using methods like `.keys()`, `.values()`, and `.items()`. Let's have a look at these, using the above dictionary:"
   ]
  },
  {
   "cell_type": "code",
   "execution_count": null,
   "id": "4a2dd7e0-421f-41d5-9ebb-5620c9b0d7a5",
   "metadata": {},
   "outputs": [],
   "source": [
    "# Iterate over keys explicitly\n",
    "for name in student_grades.keys():\n",
    "    print(name)\n",
    "\n",
    "print('--------------------------------------')\n",
    "\n",
    "# Iterate over values\n",
    "for grade in student_grades.values():\n",
    "    print(grade)\n",
    "\n",
    "print('--------------------------------------')\n",
    "\n",
    "# Iterate over key-value pairs\n",
    "for name, grade in student_grades.items():\n",
    "    print(name, grade)"
   ]
  },
  {
   "cell_type": "markdown",
   "id": "38b7f4d0-ce6a-4497-b2dd-c185f22c0f15",
   "metadata": {},
   "source": [
    "Let's take a closer look at this last example. In this case, the iterable `student_grades.items()` seems to be giving us two values, `name` and `grade`, rather than one. What is happening here? \n",
    "\n",
    "Let's make `student_grades.items()` into an iterator using the `iter` keyword and print off it's items one-by-one using the `next` keyword (further detail on `iter` and `next` can be found in the beginner notebook)."
   ]
  },
  {
   "cell_type": "code",
   "execution_count": null,
   "id": "8a7f6a82-e8f0-4178-99c5-c8ec537cd2d9",
   "metadata": {},
   "outputs": [],
   "source": [
    "# Create an iterator from student_grades.items()\n",
    "my_iterator = iter(student_grades.items())\n",
    "\n",
    "# Print the elements of the iterator one by one\n",
    "print(next(my_iterator))\n",
    "print(next(my_iterator))\n",
    "print(next(my_iterator))\n",
    "print(next(my_iterator))"
   ]
  },
  {
   "cell_type": "markdown",
   "id": "b98023a6-16f5-4c6c-88fd-6b1583b0b5a6",
   "metadata": {},
   "source": [
    "We can now see what is happening, the `items()` iterable object is giving us a sequence of `tuple`s and when we write `for name, grade in student_grades.items()`, Python is treating the first element of each tuple as `name` and teh second element as `grade`. This is an example of *sequence unpacking* and is a bit like how you can write the following for `tuple`s. "
   ]
  },
  {
   "cell_type": "code",
   "execution_count": null,
   "id": "71280cbf-297e-4134-96b0-2547a48bede8",
   "metadata": {},
   "outputs": [],
   "source": [
    "# Here is a tuple containing two words\n",
    "my_tuple = ('example', 'tuple')\n",
    "\n",
    "# Assign the first and second word\n",
    "first_word, second_word = my_tuple             # Note the two variables named on the left hand side of the equals symbol\n",
    "\n",
    "print('The first word is', first_word)\n",
    "print('The second word is', second_word)"
   ]
  },
  {
   "cell_type": "markdown",
   "id": "b51e470e-d86b-484c-8b70-cc1a4f21a39c",
   "metadata": {},
   "source": [
    "We'll see more examples of tuple unpacking in for loops in the next section when we look at the `zip` and `enumerate` functions."
   ]
  },
  {
   "cell_type": "markdown",
   "id": "9d8db1aa-ea63-4bd6-9f09-0d19845c0cd3",
   "metadata": {},
   "source": [
    "## `enumerate` and `zip`"
   ]
  },
  {
   "cell_type": "markdown",
   "id": "796a103c-5412-40fc-ba29-3be20d66b484",
   "metadata": {},
   "source": [
    "In the last section, we saw how unpacking items from a dictionary was an example of sequence unpacking in a `for` loop. In this section, we'll explore two more convenient tools that use sequence unpacking: the `enumerate` and `zip` functions. To understand why these are useful, let's start with a motivating example.\n",
    "\n",
    "Here we have three lists of equal length and we want to loop over them all at the same time."
   ]
  },
  {
   "cell_type": "code",
   "execution_count": null,
   "id": "ebbc6955-ee38-4b25-89ec-110d98d68a83",
   "metadata": {},
   "outputs": [],
   "source": [
    "# Three lists of words\n",
    "list_a = ['Happy', 'Sad', 'Excited']\n",
    "list_b = ['dog', 'cat', 'bird']\n",
    "list_c = ['runs', 'sleeps', 'flies']\n",
    "\n",
    "# Loop over elements of the lists\n",
    "for i in range(len(list_a)):\n",
    "    \n",
    "    # Get item a\n",
    "    a = list_a[i]\n",
    "    \n",
    "    # Get item b\n",
    "    b = list_b[i]\n",
    "    \n",
    "    # Get item c\n",
    "    c = list_c[i]\n",
    "    \n",
    "    # Concatenate the words and print them\n",
    "    print(a + \" \" + b + \" \" + c)"
   ]
  },
  {
   "cell_type": "markdown",
   "id": "cd279fd8-7cf1-4dee-9319-72f2cec852dd",
   "metadata": {},
   "source": [
    "While this works, it’s a bit cumbersome. We've we spent several lines just defining variables inside the for loop. This is where the zip function comes in handy. `zip` takes multiple iterables (like `list`s) and pairs their elements together, allowing you to iterate over them in a single loop:"
   ]
  },
  {
   "cell_type": "code",
   "execution_count": null,
   "id": "64fe6d43-4fe4-43e4-b484-d20274c2ce15",
   "metadata": {},
   "outputs": [],
   "source": [
    "# Three lists of words\n",
    "list_a = ['Happy', 'Sad', 'Excited']\n",
    "list_b = ['dog', 'cat', 'bird']\n",
    "list_c = ['runs', 'sleeps', 'flies']\n",
    "\n",
    "# Loop over elements of the lists\n",
    "for a, b, c in zip(list_a, list_b, list_c):\n",
    "    \n",
    "    # Concatenate the words and print them\n",
    "    print(a + \" \" + b + \" \" + c)"
   ]
  },
  {
   "cell_type": "markdown",
   "id": "8ba4d4f2-a607-434b-ba3a-c9faeedbb58a",
   "metadata": {},
   "source": [
    "This code achieves the same result but is much cleaner. Here, `zip(list_a, list_b, list_c)` creates an iterable that yields tuples like `('Happy', 'dog', 'runs')`, `('Sad', 'cat', 'sleeps')`, and so on. We're then using sequence unpacking inside the `for` loop to assign each part of the tuple to `a`, `b`, and `c`. This works for any number of lists (as long as they're iterable), and it automatically stops at the end of the shortest one if they're not all the same length."
   ]
  },
  {
   "cell_type": "markdown",
   "id": "db358c99-770c-44be-b218-08dd01fdbdd7",
   "metadata": {},
   "source": [
    "Now, let's look at another common situation where sequence unpacking is very useful: when you need both the value from a `list` and its index (position) during iteration. For example, suppose you have a list of exam scores and want to flag any that are below a passing mark, reporting the student’s position in the list (say, the `student_number`) in the process. One approach might be to write:"
   ]
  },
  {
   "cell_type": "code",
   "execution_count": null,
   "id": "17ce3491-db6e-475d-b6c5-7ae8b9aecd2c",
   "metadata": {},
   "outputs": [],
   "source": [
    "# List of exam scores\n",
    "exam_scores = [85, 92, 47, 78, 60]\n",
    "\n",
    "# Loop through the scores, flagging students who have a low mark\n",
    "for student_number in range(len(exam_scores)):\n",
    "\n",
    "    # Get the ith score\n",
    "    score = exam_scores[student_number]\n",
    "\n",
    "    # Check the score\n",
    "    if score < 50:\n",
    "        print(f'Student {student_number} has a failing score of {score}')"
   ]
  },
  {
   "cell_type": "markdown",
   "id": "fdc14d11-3c9a-42ce-a24c-e2fc9a34e869",
   "metadata": {},
   "source": [
    "Again this is a little cumbersome; we have an extra line of code defining `score` inside the loop. It would be nice to use sequence unpacking to remove this. This is where we can use the `enumerate` function, like so:"
   ]
  },
  {
   "cell_type": "code",
   "execution_count": null,
   "id": "9ca463e7-8a63-4d73-8a0f-7b103b4e189b",
   "metadata": {},
   "outputs": [],
   "source": [
    "# List of exam scores\n",
    "exam_scores = [85, 92, 47, 78, 60]\n",
    "\n",
    "# Loop through the scores, flagging students who have a low mark\n",
    "for student_number, score in enumerate(exam_scores):\n",
    "    \n",
    "    # Check the score\n",
    "    if score < 50:\n",
    "        print(f'Student {student_number} has a failing score of {score}')"
   ]
  },
  {
   "cell_type": "markdown",
   "id": "fc0b98f3-2077-4803-8164-138b39c20d93",
   "metadata": {},
   "source": [
    "In this case, `enumerate(scores)` yields tuples like `(0, 85)`, `(1, 92)`, etc and we unpack them directly into `student_number` and `score` in the `for` loop."
   ]
  },
  {
   "cell_type": "markdown",
   "id": "dfc310d8-e954-4949-aa62-a14d0b75b1d0",
   "metadata": {},
   "source": [
    "**Summary:**\n",
    " - `zip` lets you loop over several lists at once by pairing their elements into tuples\n",
    " - `enumerate` gives you both the index and the value while you loop, so you don’t have to count manually\n"
   ]
  },
  {
   "cell_type": "markdown",
   "id": "0ef835c4-b701-4dec-9dc0-2d08f6543acd",
   "metadata": {},
   "source": [
    "## `continue`, `break` and `pass` Statements"
   ]
  },
  {
   "cell_type": "markdown",
   "id": "97f3420b-36e6-439c-a199-7750953f0b53",
   "metadata": {},
   "source": [
    "In the last few sections, we explored how you can use sequence unpacking to improve your loops readability. In this section, we're going to investigate a different set of Python tools, which can also give you finer control and improve readability when it comes to writing loops; these are the `continue`, `break`, and `pass` statements. We'll now look at each of these in turn."
   ]
  },
  {
   "cell_type": "markdown",
   "id": "35c992d0-865d-4ebf-807d-b008ac6a29a8",
   "metadata": {},
   "source": [
    "Let's start with `continue`. The `continue` statement allows you to skip the rest of the current loop's code block and immediately jump to the next iteration. For instance, in the below code, when `i==2` we skip over the `print` statement and move to the next iteration of the loop."
   ]
  },
  {
   "cell_type": "code",
   "execution_count": null,
   "id": "66713e3a-7b93-4c71-8373-81e8180b4097",
   "metadata": {},
   "outputs": [],
   "source": [
    "# Loop through values of i\n",
    "for i in range(5):\n",
    "\n",
    "    # If i == 2 we end this iteration here\n",
    "    if i == 2:\n",
    "        continue\n",
    "\n",
    "    # If the loop hasn't ended we can carry on here.\n",
    "    print(i)"
   ]
  },
  {
   "cell_type": "markdown",
   "id": "13284643-8c04-43ff-bbcc-108506d0634c",
   "metadata": {},
   "source": [
    "The above code is equivalent to running:"
   ]
  },
  {
   "cell_type": "code",
   "execution_count": null,
   "id": "357f2970-7b9d-4b3e-aa47-ece3149c9056",
   "metadata": {},
   "outputs": [],
   "source": [
    "# Loop through values of i\n",
    "for i in range(5):\n",
    "\n",
    "    # If i == 2 print i\n",
    "    if i != 2:\n",
    "        \n",
    "        # If the loop hasn't ended we can carry on here.\n",
    "        print(i)"
   ]
  },
  {
   "cell_type": "markdown",
   "id": "97f5ad19-6d53-4532-9b06-a6622c912f48",
   "metadata": {},
   "source": [
    "Whether or not to use the `continue` statement often comes down to personal preference. In some cases, however, it can make code more readable by reducing indentation - for example, notice how `print(i)` is less indented in the version of the above code that uses `continue`."
   ]
  },
  {
   "cell_type": "markdown",
   "id": "39a2553a-d74e-49aa-bd79-b2838c9707d3",
   "metadata": {},
   "source": [
    "The `break` statement is similar to `continue` - both give you control over the flow of a loop. But while `continue` lets you skip ahead to the next iteration, `break` lets you end the whole thing right then and there.\n",
    "\n",
    "For example, the following loop will \"break\" when `i==2` and terminate completely:"
   ]
  },
  {
   "cell_type": "code",
   "execution_count": null,
   "id": "e59b6a2d-c179-4f04-91a7-91440555b7c4",
   "metadata": {},
   "outputs": [],
   "source": [
    "# Loop through values of i\n",
    "for i in range(5):\n",
    "\n",
    "    # If i == 2 we end the loop here\n",
    "    if i == 2:\n",
    "        break\n",
    "\n",
    "    # If the loop hasn't ended, we can carry on here.\n",
    "    print(i)"
   ]
  },
  {
   "cell_type": "markdown",
   "id": "68e6b470-b042-41e6-b8a9-d990bd55e4c4",
   "metadata": {},
   "source": [
    "This prints only `0` and `1`, because as soon as `i` hits `2`, the `break` kicks in and the loop stops dead. There are no more iterations, and no more printing.\n",
    "\n",
    "This kind of early exit can be very useful when you know you might not need to go through the entire sequence. For instance, imagine you have a list of numbers and you’re just looking for the first duplicate - you don't care about any others after that. In such a case, you might want to use a `break` as shown below:"
   ]
  },
  {
   "cell_type": "code",
   "execution_count": null,
   "id": "a1fe126e-a595-4ea6-8a3a-5573fd84b1e4",
   "metadata": {},
   "outputs": [],
   "source": [
    "# Find the first duplicate in a list\n",
    "numbers = [3, 8, 2, 5, 6, 8, 1, 9]\n",
    "seen = set()\n",
    "\n",
    "# Loop through numbers\n",
    "for num in numbers:\n",
    "\n",
    "    # If we've already seen this number report a duplicate\n",
    "    if num in seen:\n",
    "        print(f'First duplicate found: {num}')\n",
    "        break  # Stop searching after the first duplicate\n",
    "\n",
    "    # Otherwise add this number to our set of numbers we've already seen\n",
    "    seen.add(num)"
   ]
  },
  {
   "cell_type": "markdown",
   "id": "877cb4e6-3c05-45a2-af6a-847cc369f22f",
   "metadata": {},
   "source": [
    "Finally, there's the `pass` statement. This statement doesn't change the flow of your loop at all. It's just there to keep Python happy when you need a statement syntactically but don't want to do anything yet. Think of it like a sticky note saying *\"I'll fill this in later.\"* For example, the below code will throw an error if we try to run it."
   ]
  },
  {
   "cell_type": "code",
   "execution_count": null,
   "id": "9e1557ac-2904-47da-b6fb-fc8154e11054",
   "metadata": {},
   "outputs": [],
   "source": [
    "# For loop\n",
    "for i in range(10):\n",
    "\n",
    "    # I'm not sure what I want to write in here yet"
   ]
  },
  {
   "cell_type": "markdown",
   "id": "ed1825b2-e735-4624-9539-cc36c36c92f1",
   "metadata": {},
   "source": [
    "However, if we put a `pass` inside the loop, then the code will ignore the incomplete body, like so:"
   ]
  },
  {
   "cell_type": "code",
   "execution_count": null,
   "id": "39656162-95eb-4153-8afb-c58c66c24af9",
   "metadata": {},
   "outputs": [],
   "source": [
    "# For loop\n",
    "for i in range(10):\n",
    "\n",
    "    # I'm not sure what I want to write in here yet\n",
    "    pass"
   ]
  },
  {
   "cell_type": "markdown",
   "id": "f41e1326-ae83-4efe-bf1d-ce5dfcc634ed",
   "metadata": {},
   "source": [
    "This is a handy statement to know when you are working on large complex coding projects with lots going on!"
   ]
  },
  {
   "cell_type": "markdown",
   "id": "701d323c-d3a1-4b6a-b92f-732d51b2fa35",
   "metadata": {},
   "source": [
    "## `for` and `else`"
   ]
  },
  {
   "cell_type": "markdown",
   "id": "8e963acd-a13a-472b-a48c-8922463bd4a4",
   "metadata": {},
   "source": [
    "You might be surprised to learn that Python's `for` loops can have an `else` clause!  It's a somewhat unusual feature, but can be very useful in specific situations.\n",
    "\n",
    "The `else` block associated with a `for` loop is executed *if and only if* the loop completes normally. In other words, the `else` is executed if the loop completes it's iteration without encountering a `break` statement.  If a `break` statement is executed inside the loop, the `else` block is skipped.\n",
    "\n",
    "Here's an example to illustrate:"
   ]
  },
  {
   "cell_type": "code",
   "execution_count": null,
   "id": "ddfa8306-4624-49c1-b9d0-16efd36aea60",
   "metadata": {},
   "outputs": [],
   "source": [
    "# Here's a list of numbers\n",
    "numbers = [1, 2, 3, 4, 5]\n",
    "\n",
    "# Loop through the numbers\n",
    "for number in numbers:\n",
    "\n",
    "    # If we find the number 6\n",
    "    if number == 6:\n",
    "\n",
    "        # Print that we found 6 and break\n",
    "        print(\"Found 6!\")\n",
    "        break\n",
    "\n",
    "# If break was never executed we run the else\n",
    "else:\n",
    "    print(\"Did not find 6 in the list.\")"
   ]
  },
  {
   "cell_type": "markdown",
   "id": "44f60bd4-8615-4bf7-a778-7fd1b9e7f35e",
   "metadata": {},
   "source": [
    "In this case, the loop completes without finding the number `6`, so the `else` block is executed, printing `\"Did not find 6 in the list.\"`.\n",
    "\n",
    "Now, let's change the list:"
   ]
  },
  {
   "cell_type": "code",
   "execution_count": null,
   "id": "3835fd64-da6d-4d40-8422-783b3f89a0a9",
   "metadata": {},
   "outputs": [],
   "source": [
    "# Here's a list of numbers\n",
    "numbers = [1, 2, 3, 6, 5]  # <---- 6 is now in the list\n",
    "\n",
    "# Loop through the numbers\n",
    "for number in numbers:\n",
    "\n",
    "    # If we find the number 6\n",
    "    if number == 6:\n",
    "\n",
    "        # Print that we found 6 and break\n",
    "        print(\"Found 6!\")\n",
    "        break\n",
    "\n",
    "# If break was never executed we run the else\n",
    "else:\n",
    "    print(\"Did not find 6 in the list.\")"
   ]
  },
  {
   "cell_type": "markdown",
   "id": "fe199a23-8c67-4829-af66-dd668ccc192f",
   "metadata": {},
   "source": [
    "This time, the loop encounters the number `6` and executes the `break` statement. As a result, the `else` block is not executed."
   ]
  },
  {
   "cell_type": "markdown",
   "id": "ae3f295e-6b3c-49f2-b5c8-44126754057e",
   "metadata": {},
   "source": [
    "You'll most often see `for...else` in search scenarios where you need to take action if an item isn't found. The `else` block serves as your \"search failed\" handler, making the code's logic more explicit and self-contained without requiring additional variables to whether the item was found or not.\n"
   ]
  },
  {
   "cell_type": "markdown",
   "id": "20c37714-35ab-44a4-ade0-652b548139f6",
   "metadata": {},
   "source": [
    "## Exercises"
   ]
  },
  {
   "cell_type": "markdown",
   "id": "4fc0fa3b",
   "metadata": {},
   "source": [
    "**Question 1:** You are given two lists. One contains students' names, and the other contains their exam scores in the same order:"
   ]
  },
  {
   "cell_type": "code",
   "execution_count": null,
   "id": "846b4c74",
   "metadata": {},
   "outputs": [],
   "source": [
    "names = [\"Alice\", \"Bob\", \"Charlie\"]\n",
    "scores = [85, 92, 78]"
   ]
  },
  {
   "cell_type": "markdown",
   "id": "5a8c8596",
   "metadata": {},
   "source": [
    "Write a for loop using the `zip()` function that prints each student's name along with their score in the following format:\n",
    "\n",
    "```\n",
    "Alice scored 85\n",
    "Bob scored 92\n",
    "Charlie scored 78\n",
    "```"
   ]
  },
  {
   "cell_type": "code",
   "execution_count": null,
   "id": "76e15999",
   "metadata": {},
   "outputs": [],
   "source": [
    "# Write your code here..."
   ]
  },
  {
   "cell_type": "markdown",
   "id": "14e7f238",
   "metadata": {},
   "source": [
    "**Question 2:** Below is a list of strings. Using a `for` loop and the `enumerate` function create a list of indices of the strings containing the letter `\"t\"`. For instance if the list was `[\"bat\", \"dog\", \"rat\"]` your code should return `[0, 2]`."
   ]
  },
  {
   "cell_type": "code",
   "execution_count": null,
   "id": "71c4d906",
   "metadata": {},
   "outputs": [],
   "source": [
    "my_list = [\"tent\", \"moon\", \"star\", \"guitar\", \"lamp\", \"tree\", \"ocean\", \"kite\", \"hat\", \n",
    "           \"rain\", \"butter\", \"frog\", \"nest\", \"tiger\", \"apple\", \"water\", \"sun\", \"toast\", \n",
    "           \"cloud\", \"ant\"]\n",
    "\n",
    "# Write your code here..."
   ]
  },
  {
   "cell_type": "markdown",
   "id": "933da04b",
   "metadata": {},
   "source": [
    "**Question 3:** The following code was intended to print every odd number from the list `numbers`. However, in the example below it only prints the number `1`. Explain why the code does not work as intended, and then fix the error by changing *only one line* of code."
   ]
  },
  {
   "cell_type": "code",
   "execution_count": null,
   "id": "8b9376d1",
   "metadata": {},
   "outputs": [],
   "source": [
    "numbers = [1, 2, 3, 4, 5, 6]\n",
    "\n",
    "for num in numbers:\n",
    "    if num % 2 == 0:\n",
    "        break  \n",
    "    print(num)"
   ]
  },
  {
   "cell_type": "markdown",
   "id": "9a8084ab",
   "metadata": {},
   "source": [
    "**Question 4:** You are given a dictionary where the keys are unique, but the values may repeat. Write a `for` loop that creates a new dictionary by swapping the keys and values from the original dictionary. This means that:\n",
    "\n",
    " - The new keys should be the old values.\n",
    " - The new values should be lists containing all the old keys that had that value.\n",
    " \n",
    "For instance, if the `original_dict` was given by:\n",
    "\n",
    "```\n",
    "original_dict = {\n",
    "    'a': 1,\n",
    "    'b': 2,\n",
    "    'c': 1,\n",
    "    'd': 3,\n",
    "    'e': 2\n",
    "}\n",
    "```\n",
    "\n",
    "Then your code should output:\n",
    "\n",
    "```\n",
    "inverted_dict = {\n",
    "    1: ['a', 'c'],\n",
    "    2: ['b', 'e'],\n",
    "    3: ['d']\n",
    "}\n",
    "```\n",
    "In your solution, you must use sequence unpacking in the `for` loop (i.e., unpack the key and value directly in the loop header)."
   ]
  },
  {
   "cell_type": "code",
   "execution_count": null,
   "id": "578ae11a",
   "metadata": {},
   "outputs": [],
   "source": [
    "# Write your code here.."
   ]
  },
  {
   "cell_type": "markdown",
   "id": "12f6f4e3",
   "metadata": {},
   "source": [
    "**Question 5:** The following program is supposed to check each day in the list `days` and print whether it is a weekday or at the weekend. However, something has gone wrong! In the below code the day `Monday` is skipped entirely. Explain what has gone wrong here and fix the error."
   ]
  },
  {
   "cell_type": "code",
   "execution_count": null,
   "id": "62e712dd",
   "metadata": {},
   "outputs": [],
   "source": [
    "days = [\"Monday\", \"Saturday\", \"Tuesday\"]\n",
    "\n",
    "for day in days:\n",
    "    if day in [\"Saturday\", \"Sunday\"]:\n",
    "        print(day, \"is at the weekend\")\n",
    "else:\n",
    "    print(day, \"is a weekday\")"
   ]
  }
 ],
 "metadata": {
  "kernelspec": {
   "display_name": "Python 3 (ipykernel)",
   "language": "python",
   "name": "python3"
  },
  "language_info": {
   "codemirror_mode": {
    "name": "ipython",
    "version": 3
   },
   "file_extension": ".py",
   "mimetype": "text/x-python",
   "name": "python",
   "nbconvert_exporter": "python",
   "pygments_lexer": "ipython3",
   "version": "3.9.13"
  }
 },
 "nbformat": 4,
 "nbformat_minor": 5
}

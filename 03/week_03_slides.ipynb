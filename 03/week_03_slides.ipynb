{
 "cells": [
  {
   "cell_type": "markdown",
   "id": "29836ea4",
   "metadata": {
    "slideshow": {
     "slide_type": "slide"
    }
   },
   "source": [
    "# Introduction to Coding and Data Analysis for Scientists\n",
    "\n",
    "## Week 3: Loops"
   ]
  },
  {
   "cell_type": "markdown",
   "id": "f9174d2e",
   "metadata": {
    "slideshow": {
     "slide_type": "slide"
    }
   },
   "source": [
    "## Today's Lecture\n",
    "\n",
    " - Lecture 3: Loops\n",
    "   - Recap: Accessing Noteable\n",
    "   - Recap: If Statements\n",
    "   - For Loops\n",
    "   - While Loops\n",
    "   - Practical"
   ]
  },
  {
   "cell_type": "markdown",
   "id": "70aff139",
   "metadata": {
    "slideshow": {
     "slide_type": "slide"
    }
   },
   "source": [
    "## Recap: Accessing Noteable\n",
    "\n",
    " - Open Blackboard\n",
    " - Go to `Introduction to Coding and Data Analysis for Scientists 2025`\n",
    " - Click `Unit Information and Resources`\n",
    " - Open Noteable\n",
    "   - Make sure `Jupyter Classic (Legacy)` is selected.\n",
    "   - Click Start\n",
    " - Click `+GitRepo`\n",
    " - Paste into Git Repository URL: `git@github.com:TomMaullin/SCIF10002-2025.git`\n",
    " - Press clone\n",
    "\n",
    "<img src=\"./images/noteable2.png\" alt=\"Welcome page for the unit on Blackboard\" style=\"display:block;margin-left:auto;margin-right:auto;width:20%\"/>"
   ]
  },
  {
   "cell_type": "markdown",
   "id": "f1a80b39",
   "metadata": {
    "slideshow": {
     "slide_type": "slide"
    }
   },
   "source": [
    "## Important: Assessed Coursework 1\n",
    "\n",
    " - The first assignment will be released this week!\n",
    "   - Released `Wednesday 8th October` at `12:00PM`\n",
    "   - Due `Wednesday 22nd October` at `12:00PM`\n",
    " - This is assessed (`15%` of your grade!)\n",
    " - Submission is via `Noteable`\n",
    " - You can submit as many times as you like up until the submission date"
   ]
  },
  {
   "cell_type": "markdown",
   "id": "2c5db386",
   "metadata": {
    "slideshow": {
     "slide_type": "slide"
    }
   },
   "source": [
    "## Noteable Submission\n",
    "\n",
    " - Download using the Assignments tab on `noteable`\n",
    " - Press `Fetch` and click on the assignment\n",
    " - Fill your answers in and `Validate`\n",
    " - Once done, save your answers and `Submit`\n",
    " - Feedback will be available when you see the `(view feedback)` option"
   ]
  },
  {
   "cell_type": "markdown",
   "id": "75b6d4c3",
   "metadata": {
    "slideshow": {
     "slide_type": "slide"
    }
   },
   "source": [
    "## Recap: If Statements\n",
    "\n",
    " - Last week, we looked at the `if` statement\n",
    " - `if` statements allow us run code only when a specific condition is `True`\n",
    " - We can add `elif` and `else` statements to give us finer control over when code is executed\n",
    "   - An `elif` runs if it’s Boolean is True and all previous clauses (`if`s and `elif`s) did not execute\n",
    "   - An `else` runs if all other clauses did not execute\n",
    " - Today, we will look at another feature of Python that gives us finer control over our code - loops\n"
   ]
  },
  {
   "cell_type": "code",
   "execution_count": null,
   "id": "d2833fe7",
   "metadata": {
    "slideshow": {
     "slide_type": "fragment"
    }
   },
   "outputs": [],
   "source": [
    "number = 5\n",
    "\n",
    "if number > 0:\n",
    "    print(\"Positive number\")\n",
    "    \n",
    "elif number == 0:\n",
    "    print(\"Zero\")\n",
    "    \n",
    "else:\n",
    "    print(\"Negative number\")"
   ]
  },
  {
   "cell_type": "markdown",
   "id": "d78fdc13",
   "metadata": {
    "slideshow": {
     "slide_type": "slide"
    }
   },
   "source": [
    "## Motivation\n",
    "\n",
    " - Suppose we want to do a very repetitive computation\n",
    " - For instance, suppose we want to `print` the square of each item in this list"
   ]
  },
  {
   "cell_type": "code",
   "execution_count": null,
   "id": "0f0d0521",
   "metadata": {
    "slideshow": {
     "slide_type": "fragment"
    }
   },
   "outputs": [],
   "source": [
    "my_list = [1,5,8,3,2,2,4]"
   ]
  },
  {
   "cell_type": "markdown",
   "id": "b851365d",
   "metadata": {
    "slideshow": {
     "slide_type": "fragment"
    }
   },
   "source": [
    " - We could just write something like this..."
   ]
  },
  {
   "cell_type": "code",
   "execution_count": null,
   "id": "2d08ce0c",
   "metadata": {
    "slideshow": {
     "slide_type": "fragment"
    }
   },
   "outputs": [],
   "source": [
    "number_squared = my_list[0]**2\n",
    "print(number_squared)\n",
    "\n",
    "number_squared = my_list[1]**2\n",
    "print(number_squared)\n",
    "\n",
    "number_squared = my_list[2]**2\n",
    "print(number_squared)\n",
    "\n",
    "number_squared = my_list[3]**2\n",
    "print(number_squared)\n",
    "\n",
    "number_squared = my_list[4]**2\n",
    "print(number_squared)\n",
    "\n",
    "number_squared = my_list[5]**2\n",
    "print(number_squared)\n",
    "\n",
    "number_squared = my_list[6]**2\n",
    "print(number_squared)"
   ]
  },
  {
   "cell_type": "markdown",
   "id": "da9f4b96",
   "metadata": {
    "slideshow": {
     "slide_type": "slide"
    }
   },
   "source": [
    "## Motivation"
   ]
  },
  {
   "attachments": {},
   "cell_type": "markdown",
   "id": "ebfff25b",
   "metadata": {
    "slideshow": {
     "slide_type": "fragment"
    }
   },
   "source": [
    " - But it would be nice to be able to do this automatically!\n",
    " - This is what loops do!"
   ]
  },
  {
   "cell_type": "code",
   "execution_count": null,
   "id": "574e2162",
   "metadata": {
    "slideshow": {
     "slide_type": "fragment"
    }
   },
   "outputs": [],
   "source": [
    "# For Loop\n",
    "for num in my_list:\n",
    "    number_squared = num ** 2\n",
    "    print(number_squared)\n",
    "\n",
    "\n",
    "print('--------------')\n",
    "\n",
    "# While Loop\n",
    "i=0\n",
    "while i < len(my_list):\n",
    "    number_squared = my_list[i] ** 2\n",
    "    print(number_squared)\n",
    "    i += 1"
   ]
  },
  {
   "cell_type": "markdown",
   "id": "5ed43896",
   "metadata": {
    "slideshow": {
     "slide_type": "slide"
    }
   },
   "source": [
    "## Iterable Objects\n",
    "\n",
    " - An iterable object is an object which contains lots of elements that we could list one by one\n",
    " - We've already seen an example - the `list`\n",
    " - Other examples include:\n",
    "   - Tuples - like lists but use round brackets and can't be changed\n",
    "   - Dictionaries - records \"keys\" and \"values\" so that we can look up data using labels of our choosing\n",
    "   - A `range` object - a python object that represents a sequence of numbers, saved in a useful, memory-efficient way\n",
    " - A `for` loop performs an operation on each element in an iterable object"
   ]
  },
  {
   "cell_type": "code",
   "execution_count": null,
   "id": "85b25d1e",
   "metadata": {
    "slideshow": {
     "slide_type": "fragment"
    }
   },
   "outputs": [],
   "source": [
    "# Example Tuple\n",
    "my_tuple = (1,5,2,4)\n",
    "\n",
    "# Example dict\n",
    "my_dict = {\"Alice\": 25, \"Bob\": 30, \"Charlie\": 22}\n",
    "print(my_dict[\"Bob\"])\n",
    "\n",
    "# Example range\n",
    "my_range = range(10)"
   ]
  },
  {
   "cell_type": "markdown",
   "id": "ce1c810d",
   "metadata": {
    "slideshow": {
     "slide_type": "fragment"
    }
   },
   "source": [
    "## For Loops\n",
    "\n",
    " - A `for` loop lets you run code for every element in an iterable object\n",
    " - Let's look at an example:"
   ]
  },
  {
   "cell_type": "code",
   "execution_count": null,
   "id": "6692fd66",
   "metadata": {
    "slideshow": {
     "slide_type": "fragment"
    }
   },
   "outputs": [],
   "source": [
    "numbers = [1, 2, 3, 4, 5]\n",
    "for n in numbers:\n",
    "    print(n)"
   ]
  },
  {
   "cell_type": "markdown",
   "id": "a627f968",
   "metadata": {
    "slideshow": {
     "slide_type": "fragment"
    }
   },
   "source": [
    "Translation: \n",
    "\n",
    "> *\"For every number in the list, print that number\"*\n"
   ]
  },
  {
   "cell_type": "markdown",
   "id": "194f5a22",
   "metadata": {
    "slideshow": {
     "slide_type": "slide"
    }
   },
   "source": [
    "## While Loops\n",
    "\n",
    " - A `while` loop lets you run code repeatedly so long as a Boolean statement is `True`"
   ]
  },
  {
   "cell_type": "code",
   "execution_count": null,
   "id": "e750b3fa",
   "metadata": {
    "slideshow": {
     "slide_type": "fragment"
    }
   },
   "outputs": [],
   "source": [
    "number = 5\n",
    "my_boolean = number > 0\n",
    "while my_boolean:\n",
    "    number = number - 1\n",
    "    my_boolean = number > 0\n",
    "    print(\"number is \" + str(number))"
   ]
  },
  {
   "cell_type": "markdown",
   "id": "de8effc8",
   "metadata": {
    "slideshow": {
     "slide_type": "fragment"
    }
   },
   "source": [
    "Let's compare this to an `if` statement\n",
    " - An `if` statement executes once if the Boolean is `True`\n",
    " - An `while` loop executes repeatedly until the Boolean is `False`"
   ]
  },
  {
   "cell_type": "code",
   "execution_count": null,
   "id": "01699fb4",
   "metadata": {
    "slideshow": {
     "slide_type": "fragment"
    }
   },
   "outputs": [],
   "source": [
    "number = 5\n",
    "my_boolean = number > 0\n",
    "if my_boolean:\n",
    "    print(\"Positive number\")"
   ]
  },
  {
   "cell_type": "markdown",
   "id": "c2fbef0c",
   "metadata": {
    "slideshow": {
     "slide_type": "slide"
    }
   },
   "source": [
    "## Practical\n",
    "\n",
    " - We now move over to Python\n",
    " - Please open [week_03_home.ipynb](./week_03_home.ipynb)\n",
    " - For the rest of today, you must work through a Python notebook\n",
    " - You have a choice of one of three options\n",
    "   - [Option 1: Beginner - For and While Loops](week_03_loops_beginner.ipynb)\n",
    "   - [Option 2: Intermediate - Advanced Iteration](week_03_loops_intermediate.ipynb)\n",
    "   - [Option 3: Advanced - Comprehensions](week_03_loops_advanced.ipynb)"
   ]
  }
 ],
 "metadata": {
  "celltoolbar": "Slideshow",
  "kernelspec": {
   "display_name": "Python 3 (ipykernel)",
   "language": "python",
   "name": "python3"
  },
  "language_info": {
   "codemirror_mode": {
    "name": "ipython",
    "version": 3
   },
   "file_extension": ".py",
   "mimetype": "text/x-python",
   "name": "python",
   "nbconvert_exporter": "python",
   "pygments_lexer": "ipython3",
   "version": "3.9.13"
  }
 },
 "nbformat": 4,
 "nbformat_minor": 5
}
